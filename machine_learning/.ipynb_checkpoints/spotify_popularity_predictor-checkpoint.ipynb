{
 "cells": [
  {
   "cell_type": "markdown",
   "metadata": {},
   "source": [
    "# Spotify Popularity Predictor (39%)"
   ]
  },
  {
   "cell_type": "markdown",
   "metadata": {},
   "source": [
    "The goal of this challenge is to create a model that predicts the popularity of a song based on its features.\n",
    "\n",
    "The dataset contains a list of tracks with the following characteristics:\n",
    "- `acousticness`: whether the track is acoustic\n",
    "- `danceability`: describes how suitable a track is for dancing\n",
    "- `duration_ms`: duration of the track in milliseconds\n",
    "- `energy`: represents a perceptual measure of intensity and activity\n",
    "- `explicit`: whether the track has explicit lyrics\n",
    "- `id`: id for the track\n",
    "- `instrumentalness`: predicts whether a track contains no vocals\n",
    "- `key`: the key the track is in\n",
    "- `liveness`: detects the presence of an audience in the recording\n",
    "- `loudness`: the overall loudness of a track in decibels\n",
    "- `mode`: modality of a track\n",
    "- `name`: name of the track\n",
    "- `popularity`: popularity of the track\n",
    "- `release_date`: release date\n",
    "- `speechiness`: detects the presence of spoken words in a track\n",
    "- `tempo`: overall estimated tempo of a track in beats per minute\n",
    "- `valence`: describes the musical positiveness conveyed by a track\n",
    "- `artist`: artist who performed the track"
   ]
  },
  {
   "cell_type": "markdown",
   "metadata": {},
   "source": [
    "# Model"
   ]
  },
  {
   "cell_type": "markdown",
   "metadata": {},
   "source": [
    "## Data collection\n",
    "\n",
    "📝 **Load the `spotify_popularity_train.csv` dataset from the provided URL**\n",
    "- Display the first few rows\n",
    "- Perform the basic cleaning operations (remove redundant lines, as well as those with missing values)\n",
    "- Store the result in a `DataFrame` named `data`"
   ]
  },
  {
   "cell_type": "code",
   "execution_count": 2,
   "metadata": {},
   "outputs": [],
   "source": [
    "import pandas as pd\n",
    "import requests\n",
    "import io\n",
    "import datetime\n",
    "\n",
    "from sklearn.model_selection import train_test_split\n",
    "from sklearn.linear_model import LinearRegression\n",
    "from sklearn.model_selection import cross_validate\n",
    "\n",
    "from sklearn.linear_model import ElasticNet\n",
    "from sklearn.ensemble import GradientBoostingRegressor\n",
    "from sklearn.model_selection import GridSearchCV\n",
    "\n",
    "from sklearn.pipeline import Pipeline\n",
    "from sklearn.compose import ColumnTransformer\n",
    "from sklearn.compose import make_column_selector\n",
    "from sklearn.preprocessing import StandardScaler\n",
    "from sklearn.pipeline import FeatureUnion\n",
    "from sklearn.preprocessing import FunctionTransformer"
   ]
  },
  {
   "cell_type": "code",
   "execution_count": 3,
   "metadata": {},
   "outputs": [],
   "source": [
    "url = \"https://wagon-public-datasets.s3.amazonaws.com/certification_paris_2021Q1/spotify_popularity_train.csv\"\n",
    "s = requests.get(url).content\n",
    "database = pd.read_csv(io.StringIO(s.decode('utf-8')))"
   ]
  },
  {
   "cell_type": "code",
   "execution_count": 4,
   "metadata": {},
   "outputs": [
    {
     "data": {
      "text/html": [
       "<div>\n",
       "<style scoped>\n",
       "    .dataframe tbody tr th:only-of-type {\n",
       "        vertical-align: middle;\n",
       "    }\n",
       "\n",
       "    .dataframe tbody tr th {\n",
       "        vertical-align: top;\n",
       "    }\n",
       "\n",
       "    .dataframe thead th {\n",
       "        text-align: right;\n",
       "    }\n",
       "</style>\n",
       "<table border=\"1\" class=\"dataframe\">\n",
       "  <thead>\n",
       "    <tr style=\"text-align: right;\">\n",
       "      <th></th>\n",
       "      <th>acousticness</th>\n",
       "      <th>danceability</th>\n",
       "      <th>duration_ms</th>\n",
       "      <th>energy</th>\n",
       "      <th>explicit</th>\n",
       "      <th>id</th>\n",
       "      <th>instrumentalness</th>\n",
       "      <th>key</th>\n",
       "      <th>liveness</th>\n",
       "      <th>loudness</th>\n",
       "      <th>mode</th>\n",
       "      <th>name</th>\n",
       "      <th>popularity</th>\n",
       "      <th>release_date</th>\n",
       "      <th>speechiness</th>\n",
       "      <th>tempo</th>\n",
       "      <th>valence</th>\n",
       "      <th>artist</th>\n",
       "    </tr>\n",
       "  </thead>\n",
       "  <tbody>\n",
       "    <tr>\n",
       "      <th>0</th>\n",
       "      <td>0.65400</td>\n",
       "      <td>0.499</td>\n",
       "      <td>219827</td>\n",
       "      <td>0.190</td>\n",
       "      <td>0</td>\n",
       "      <td>0B6BeEUd6UwFlbsHMQKjob</td>\n",
       "      <td>0.00409</td>\n",
       "      <td>7</td>\n",
       "      <td>0.0898</td>\n",
       "      <td>-16.435</td>\n",
       "      <td>1</td>\n",
       "      <td>Back in the Goodle Days</td>\n",
       "      <td>40</td>\n",
       "      <td>1971</td>\n",
       "      <td>0.0454</td>\n",
       "      <td>149.46</td>\n",
       "      <td>0.4300</td>\n",
       "      <td>John Hartford</td>\n",
       "    </tr>\n",
       "    <tr>\n",
       "      <th>1</th>\n",
       "      <td>0.00592</td>\n",
       "      <td>0.439</td>\n",
       "      <td>483948</td>\n",
       "      <td>0.808</td>\n",
       "      <td>0</td>\n",
       "      <td>5Gpx4lJy3vKmIvjwbiR5c8</td>\n",
       "      <td>0.14000</td>\n",
       "      <td>2</td>\n",
       "      <td>0.0890</td>\n",
       "      <td>-8.497</td>\n",
       "      <td>1</td>\n",
       "      <td>Worlds Which Break Us - Intro Mix</td>\n",
       "      <td>22</td>\n",
       "      <td>2015-02-02</td>\n",
       "      <td>0.0677</td>\n",
       "      <td>138.04</td>\n",
       "      <td>0.0587</td>\n",
       "      <td>Driftmoon</td>\n",
       "    </tr>\n",
       "  </tbody>\n",
       "</table>\n",
       "</div>"
      ],
      "text/plain": [
       "   acousticness  danceability  duration_ms  energy  explicit  \\\n",
       "0       0.65400         0.499       219827   0.190         0   \n",
       "1       0.00592         0.439       483948   0.808         0   \n",
       "\n",
       "                       id  instrumentalness  key  liveness  loudness  mode  \\\n",
       "0  0B6BeEUd6UwFlbsHMQKjob           0.00409    7    0.0898   -16.435     1   \n",
       "1  5Gpx4lJy3vKmIvjwbiR5c8           0.14000    2    0.0890    -8.497     1   \n",
       "\n",
       "                                name  popularity release_date  speechiness  \\\n",
       "0            Back in the Goodle Days          40         1971       0.0454   \n",
       "1  Worlds Which Break Us - Intro Mix          22   2015-02-02       0.0677   \n",
       "\n",
       "    tempo  valence         artist  \n",
       "0  149.46   0.4300  John Hartford  \n",
       "1  138.04   0.0587      Driftmoon  "
      ]
     },
     "execution_count": 4,
     "metadata": {},
     "output_type": "execute_result"
    }
   ],
   "source": [
    "database.head(2)"
   ]
  },
  {
   "cell_type": "code",
   "execution_count": 5,
   "metadata": {},
   "outputs": [
    {
     "data": {
      "text/plain": [
       "(52317, 18)"
      ]
     },
     "execution_count": 5,
     "metadata": {},
     "output_type": "execute_result"
    }
   ],
   "source": [
    "database.shape"
   ]
  },
  {
   "cell_type": "code",
   "execution_count": 6,
   "metadata": {
    "scrolled": true
   },
   "outputs": [],
   "source": [
    "#We dropped some duplicate from the database\n",
    "databasenoduplicate=database.drop_duplicates()"
   ]
  },
  {
   "cell_type": "code",
   "execution_count": 7,
   "metadata": {},
   "outputs": [
    {
     "data": {
      "text/plain": [
       "(52057, 18)"
      ]
     },
     "execution_count": 7,
     "metadata": {},
     "output_type": "execute_result"
    }
   ],
   "source": [
    "databasenoduplicate.shape"
   ]
  },
  {
   "cell_type": "code",
   "execution_count": 8,
   "metadata": {},
   "outputs": [
    {
     "data": {
      "text/plain": [
       "artist              4\n",
       "valence             0\n",
       "danceability        0\n",
       "duration_ms         0\n",
       "energy              0\n",
       "explicit            0\n",
       "id                  0\n",
       "instrumentalness    0\n",
       "key                 0\n",
       "liveness            0\n",
       "loudness            0\n",
       "mode                0\n",
       "name                0\n",
       "popularity          0\n",
       "release_date        0\n",
       "speechiness         0\n",
       "tempo               0\n",
       "acousticness        0\n",
       "dtype: int64"
      ]
     },
     "execution_count": 8,
     "metadata": {},
     "output_type": "execute_result"
    }
   ],
   "source": [
    "databasenoduplicate.isnull().sum().sort_values(ascending=False)"
   ]
  },
  {
   "cell_type": "code",
   "execution_count": 9,
   "metadata": {},
   "outputs": [],
   "source": [
    "#We dropped the 4 lines where the artist was not present\n",
    "dataclean=databasenoduplicate.dropna(subset=['artist']) "
   ]
  },
  {
   "cell_type": "code",
   "execution_count": 10,
   "metadata": {},
   "outputs": [],
   "source": [
    "data=dataclean"
   ]
  },
  {
   "cell_type": "markdown",
   "metadata": {},
   "source": [
    "🧪 **Run the following cell to save your results**"
   ]
  },
  {
   "cell_type": "code",
   "execution_count": 11,
   "metadata": {},
   "outputs": [],
   "source": [
    "from nbresult import ChallengeResult\n",
    "\n",
    "ChallengeResult(\n",
    "    \"data_cleaning\",\n",
    "    shape=data.shape).write()"
   ]
  },
  {
   "cell_type": "markdown",
   "metadata": {},
   "source": [
    "## Simple model"
   ]
  },
  {
   "cell_type": "markdown",
   "metadata": {},
   "source": [
    "📝 **Which sklearn's scoring [metric](https://scikit-learn.org/stable/modules/model_evaluation.html) should we use if we want to:**\n",
    "- **Strongly penalize** largest errors\n",
    "- Measure errors **in the same unit** than `popularity` \n",
    "- Is better when greater (metric_good_model > metric_bad_model)\n",
    "\n",
    "👉 Store its exact name as `string` in the variable `scoring` below\n",
    "\n",
    "🚨 You must use this metric for the rest of the challenge"
   ]
  },
  {
   "cell_type": "code",
   "execution_count": 12,
   "metadata": {},
   "outputs": [],
   "source": [
    "scoring = \"neg_root_mean_squared_error\""
   ]
  },
  {
   "cell_type": "markdown",
   "metadata": {},
   "source": [
    "**📝 Let's build a first simple linear model using only the numerical features in our dataset to start with**\n",
    "- Build `X_simple` keeping only numerical features\n",
    "- Build `y` your target containing the `popularity`"
   ]
  },
  {
   "cell_type": "code",
   "execution_count": 13,
   "metadata": {},
   "outputs": [],
   "source": [
    "y=data['popularity']"
   ]
  },
  {
   "cell_type": "code",
   "execution_count": 14,
   "metadata": {},
   "outputs": [
    {
     "name": "stdout",
     "output_type": "stream",
     "text": [
      "<class 'pandas.core.frame.DataFrame'>\n",
      "Int64Index: 52053 entries, 0 to 52316\n",
      "Data columns (total 18 columns):\n",
      " #   Column            Non-Null Count  Dtype  \n",
      "---  ------            --------------  -----  \n",
      " 0   acousticness      52053 non-null  float64\n",
      " 1   danceability      52053 non-null  float64\n",
      " 2   duration_ms       52053 non-null  int64  \n",
      " 3   energy            52053 non-null  float64\n",
      " 4   explicit          52053 non-null  int64  \n",
      " 5   id                52053 non-null  object \n",
      " 6   instrumentalness  52053 non-null  float64\n",
      " 7   key               52053 non-null  int64  \n",
      " 8   liveness          52053 non-null  float64\n",
      " 9   loudness          52053 non-null  float64\n",
      " 10  mode              52053 non-null  int64  \n",
      " 11  name              52053 non-null  object \n",
      " 12  popularity        52053 non-null  int64  \n",
      " 13  release_date      52053 non-null  object \n",
      " 14  speechiness       52053 non-null  float64\n",
      " 15  tempo             52053 non-null  float64\n",
      " 16  valence           52053 non-null  float64\n",
      " 17  artist            52053 non-null  object \n",
      "dtypes: float64(9), int64(5), object(4)\n",
      "memory usage: 7.5+ MB\n"
     ]
    }
   ],
   "source": [
    "data.info()"
   ]
  },
  {
   "cell_type": "code",
   "execution_count": 15,
   "metadata": {},
   "outputs": [],
   "source": [
    "#By selecting the int64 and float64 data, we automatically drop the id, the name and the artist\n",
    "X_simple = data.select_dtypes(include=['int64','float64']).drop(columns='popularity')"
   ]
  },
  {
   "cell_type": "code",
   "execution_count": 16,
   "metadata": {},
   "outputs": [
    {
     "name": "stdout",
     "output_type": "stream",
     "text": [
      "<class 'pandas.core.frame.DataFrame'>\n",
      "Int64Index: 52053 entries, 0 to 52316\n",
      "Data columns (total 13 columns):\n",
      " #   Column            Non-Null Count  Dtype  \n",
      "---  ------            --------------  -----  \n",
      " 0   acousticness      52053 non-null  float64\n",
      " 1   danceability      52053 non-null  float64\n",
      " 2   duration_ms       52053 non-null  int64  \n",
      " 3   energy            52053 non-null  float64\n",
      " 4   explicit          52053 non-null  int64  \n",
      " 5   instrumentalness  52053 non-null  float64\n",
      " 6   key               52053 non-null  int64  \n",
      " 7   liveness          52053 non-null  float64\n",
      " 8   loudness          52053 non-null  float64\n",
      " 9   mode              52053 non-null  int64  \n",
      " 10  speechiness       52053 non-null  float64\n",
      " 11  tempo             52053 non-null  float64\n",
      " 12  valence           52053 non-null  float64\n",
      "dtypes: float64(9), int64(4)\n",
      "memory usage: 5.6 MB\n"
     ]
    }
   ],
   "source": [
    "#we can check what remains in X ; with correct data type and 0 null.\n",
    "X_simple.info()"
   ]
  },
  {
   "cell_type": "markdown",
   "metadata": {},
   "source": [
    "Note : as this part of the exercise is well guided and it is explicitely asked not to fine-tune anything ; I purposely decided not to scale the numeric variable for the very first models."
   ]
  },
  {
   "cell_type": "markdown",
   "metadata": {},
   "source": [
    "### Holdout evaluation"
   ]
  },
  {
   "cell_type": "markdown",
   "metadata": {},
   "source": [
    "**📝 Create the 4 variables `X_train_simple` `y_train`, `X_test_simple`, `y_test` with a 50% split with random sampling**"
   ]
  },
  {
   "cell_type": "code",
   "execution_count": 17,
   "metadata": {},
   "outputs": [],
   "source": [
    "X_train_simple, X_test_simple, y_train, y_test = train_test_split(X_simple, y, test_size=0.5)"
   ]
  },
  {
   "cell_type": "markdown",
   "metadata": {},
   "source": [
    "**📝 Fit and evaluate a basic linear model (do not fine tune it) with this holdout method**\n",
    "- Store your model true performance in a float variable `score_simple_holdout`"
   ]
  },
  {
   "cell_type": "code",
   "execution_count": 18,
   "metadata": {},
   "outputs": [
    {
     "data": {
      "text/plain": [
       "LinearRegression()"
      ]
     },
     "execution_count": 18,
     "metadata": {},
     "output_type": "execute_result"
    }
   ],
   "source": [
    "model = LinearRegression()\n",
    "model.fit(X_train_simple, y_train)"
   ]
  },
  {
   "cell_type": "code",
   "execution_count": 19,
   "metadata": {},
   "outputs": [],
   "source": [
    "y_pred=model.predict(X_test_simple)"
   ]
  },
  {
   "cell_type": "code",
   "execution_count": 20,
   "metadata": {},
   "outputs": [],
   "source": [
    "from sklearn.metrics import mean_squared_error\n",
    "result=-mean_squared_error(y_test, y_pred,squared=False)"
   ]
  },
  {
   "cell_type": "code",
   "execution_count": 21,
   "metadata": {},
   "outputs": [
    {
     "data": {
      "text/plain": [
       "-18.314325970030986"
      ]
     },
     "execution_count": 21,
     "metadata": {},
     "output_type": "execute_result"
    }
   ],
   "source": [
    "result"
   ]
  },
  {
   "cell_type": "code",
   "execution_count": 22,
   "metadata": {},
   "outputs": [],
   "source": [
    "score_simple_holdout=result"
   ]
  },
  {
   "cell_type": "markdown",
   "metadata": {},
   "source": [
    "### Cross-validation evaluation"
   ]
  },
  {
   "cell_type": "markdown",
   "metadata": {},
   "source": [
    "📝 **Let's be sure our score is representative**: \n",
    "- 5-times cross validate a basic linear model on the whole numeric dataset (`X_simple`, `y`)\n",
    "- Do not fine tune your model\n",
    "- Store your mean performance in a variable `score_simple_cv_mean` as a `float`\n",
    "- Store the standard deviation of your performances in a float variable `score_simple_cv_std`"
   ]
  },
  {
   "cell_type": "code",
   "execution_count": 23,
   "metadata": {},
   "outputs": [
    {
     "data": {
      "text/plain": [
       "{'fit_time': array([0.01365972, 0.01491809, 0.01914883, 0.02465367, 0.01488495]),\n",
       " 'score_time': array([0.00236106, 0.00395799, 0.00423312, 0.00264525, 0.00286508]),\n",
       " 'test_score': array([-18.41383767, -18.45203104, -18.30188799, -18.43790327,\n",
       "        -18.19713279])}"
      ]
     },
     "execution_count": 23,
     "metadata": {},
     "output_type": "execute_result"
    }
   ],
   "source": [
    "model = LinearRegression()\n",
    "cv_results = cross_validate(model, X_simple, y, cv=5, scoring=\"neg_root_mean_squared_error\")\n",
    "cv_results"
   ]
  },
  {
   "cell_type": "code",
   "execution_count": 24,
   "metadata": {},
   "outputs": [],
   "source": [
    "score_simple_cv_mean=cv_results['test_score'].mean()"
   ]
  },
  {
   "cell_type": "code",
   "execution_count": 25,
   "metadata": {},
   "outputs": [],
   "source": [
    "score_simple_cv_std=cv_results['test_score'].std()"
   ]
  },
  {
   "cell_type": "markdown",
   "metadata": {},
   "source": [
    "🧪 **Run the following cell to save your results**"
   ]
  },
  {
   "cell_type": "code",
   "execution_count": 26,
   "metadata": {},
   "outputs": [],
   "source": [
    "from nbresult import ChallengeResult\n",
    "\n",
    "ChallengeResult(\n",
    "    \"simple_model\",\n",
    "    scoring=scoring,\n",
    "    shape_train = X_train_simple.shape,\n",
    "    score_simple_holdout=score_simple_holdout,\n",
    "    score_simple_cv_mean=score_simple_cv_mean,\n",
    "    score_simple_cv_std=score_simple_cv_std,\n",
    ").write()"
   ]
  },
  {
   "cell_type": "markdown",
   "metadata": {},
   "source": [
    "## Feature engineering\n",
    "\n",
    "(From now on, we will stop using train/test split but cross-validation on the whole dataset instead)  \n",
    "\n",
    "Let's try to improve performance using the feature `release_date`"
   ]
  },
  {
   "cell_type": "markdown",
   "metadata": {},
   "source": [
    "**📝 Create `X_engineered` by adding a new column `year` to `X`, containing the release year of the track as `integer`**"
   ]
  },
  {
   "cell_type": "code",
   "execution_count": 27,
   "metadata": {},
   "outputs": [],
   "source": [
    "X_engineered=X_simple"
   ]
  },
  {
   "cell_type": "code",
   "execution_count": 28,
   "metadata": {},
   "outputs": [],
   "source": [
    "X_engineered['year'] = pd.to_datetime(data['release_date']).dt.year"
   ]
  },
  {
   "cell_type": "code",
   "execution_count": 29,
   "metadata": {},
   "outputs": [
    {
     "data": {
      "text/html": [
       "<div>\n",
       "<style scoped>\n",
       "    .dataframe tbody tr th:only-of-type {\n",
       "        vertical-align: middle;\n",
       "    }\n",
       "\n",
       "    .dataframe tbody tr th {\n",
       "        vertical-align: top;\n",
       "    }\n",
       "\n",
       "    .dataframe thead th {\n",
       "        text-align: right;\n",
       "    }\n",
       "</style>\n",
       "<table border=\"1\" class=\"dataframe\">\n",
       "  <thead>\n",
       "    <tr style=\"text-align: right;\">\n",
       "      <th></th>\n",
       "      <th>acousticness</th>\n",
       "      <th>danceability</th>\n",
       "      <th>duration_ms</th>\n",
       "      <th>energy</th>\n",
       "      <th>explicit</th>\n",
       "      <th>instrumentalness</th>\n",
       "      <th>key</th>\n",
       "      <th>liveness</th>\n",
       "      <th>loudness</th>\n",
       "      <th>mode</th>\n",
       "      <th>speechiness</th>\n",
       "      <th>tempo</th>\n",
       "      <th>valence</th>\n",
       "      <th>year</th>\n",
       "    </tr>\n",
       "  </thead>\n",
       "  <tbody>\n",
       "    <tr>\n",
       "      <th>0</th>\n",
       "      <td>0.65400</td>\n",
       "      <td>0.499</td>\n",
       "      <td>219827</td>\n",
       "      <td>0.190</td>\n",
       "      <td>0</td>\n",
       "      <td>0.004090</td>\n",
       "      <td>7</td>\n",
       "      <td>0.0898</td>\n",
       "      <td>-16.435</td>\n",
       "      <td>1</td>\n",
       "      <td>0.0454</td>\n",
       "      <td>149.460</td>\n",
       "      <td>0.4300</td>\n",
       "      <td>1971</td>\n",
       "    </tr>\n",
       "    <tr>\n",
       "      <th>1</th>\n",
       "      <td>0.00592</td>\n",
       "      <td>0.439</td>\n",
       "      <td>483948</td>\n",
       "      <td>0.808</td>\n",
       "      <td>0</td>\n",
       "      <td>0.140000</td>\n",
       "      <td>2</td>\n",
       "      <td>0.0890</td>\n",
       "      <td>-8.497</td>\n",
       "      <td>1</td>\n",
       "      <td>0.0677</td>\n",
       "      <td>138.040</td>\n",
       "      <td>0.0587</td>\n",
       "      <td>2015</td>\n",
       "    </tr>\n",
       "    <tr>\n",
       "      <th>2</th>\n",
       "      <td>0.73400</td>\n",
       "      <td>0.523</td>\n",
       "      <td>245693</td>\n",
       "      <td>0.288</td>\n",
       "      <td>0</td>\n",
       "      <td>0.000000</td>\n",
       "      <td>0</td>\n",
       "      <td>0.0771</td>\n",
       "      <td>-11.506</td>\n",
       "      <td>1</td>\n",
       "      <td>0.2140</td>\n",
       "      <td>75.869</td>\n",
       "      <td>0.4640</td>\n",
       "      <td>1968</td>\n",
       "    </tr>\n",
       "    <tr>\n",
       "      <th>3</th>\n",
       "      <td>0.42900</td>\n",
       "      <td>0.681</td>\n",
       "      <td>130026</td>\n",
       "      <td>0.165</td>\n",
       "      <td>0</td>\n",
       "      <td>0.000000</td>\n",
       "      <td>11</td>\n",
       "      <td>0.3940</td>\n",
       "      <td>-21.457</td>\n",
       "      <td>0</td>\n",
       "      <td>0.9460</td>\n",
       "      <td>145.333</td>\n",
       "      <td>0.2880</td>\n",
       "      <td>1926</td>\n",
       "    </tr>\n",
       "    <tr>\n",
       "      <th>4</th>\n",
       "      <td>0.56200</td>\n",
       "      <td>0.543</td>\n",
       "      <td>129813</td>\n",
       "      <td>0.575</td>\n",
       "      <td>0</td>\n",
       "      <td>0.000004</td>\n",
       "      <td>2</td>\n",
       "      <td>0.1270</td>\n",
       "      <td>-7.374</td>\n",
       "      <td>1</td>\n",
       "      <td>0.0265</td>\n",
       "      <td>139.272</td>\n",
       "      <td>0.8010</td>\n",
       "      <td>2008</td>\n",
       "    </tr>\n",
       "  </tbody>\n",
       "</table>\n",
       "</div>"
      ],
      "text/plain": [
       "   acousticness  danceability  duration_ms  energy  explicit  \\\n",
       "0       0.65400         0.499       219827   0.190         0   \n",
       "1       0.00592         0.439       483948   0.808         0   \n",
       "2       0.73400         0.523       245693   0.288         0   \n",
       "3       0.42900         0.681       130026   0.165         0   \n",
       "4       0.56200         0.543       129813   0.575         0   \n",
       "\n",
       "   instrumentalness  key  liveness  loudness  mode  speechiness    tempo  \\\n",
       "0          0.004090    7    0.0898   -16.435     1       0.0454  149.460   \n",
       "1          0.140000    2    0.0890    -8.497     1       0.0677  138.040   \n",
       "2          0.000000    0    0.0771   -11.506     1       0.2140   75.869   \n",
       "3          0.000000   11    0.3940   -21.457     0       0.9460  145.333   \n",
       "4          0.000004    2    0.1270    -7.374     1       0.0265  139.272   \n",
       "\n",
       "   valence  year  \n",
       "0   0.4300  1971  \n",
       "1   0.0587  2015  \n",
       "2   0.4640  1968  \n",
       "3   0.2880  1926  \n",
       "4   0.8010  2008  "
      ]
     },
     "execution_count": 29,
     "metadata": {},
     "output_type": "execute_result"
    }
   ],
   "source": [
    "X_engineered.head()"
   ]
  },
  {
   "cell_type": "markdown",
   "metadata": {},
   "source": [
    "📝 **Let's see how this impact the performance of our model.**\n",
    "- Retrain the same simple linear model on numerical values only, adding the new feature `year`\n",
    "- Save the mean cross-validated performance metric in a variable named `score_engineered` as a `float`\n",
    "- Do not fine tune the model yet"
   ]
  },
  {
   "cell_type": "code",
   "execution_count": 30,
   "metadata": {},
   "outputs": [
    {
     "data": {
      "text/plain": [
       "{'fit_time': array([0.01504779, 0.01630664, 0.02255177, 0.01649284, 0.01555705]),\n",
       " 'score_time': array([0.00956368, 0.01289558, 0.0035584 , 0.00689626, 0.00260305]),\n",
       " 'test_score': array([-17.4412204 , -17.4317139 , -17.2453717 , -17.32187397,\n",
       "        -17.06965388])}"
      ]
     },
     "execution_count": 30,
     "metadata": {},
     "output_type": "execute_result"
    }
   ],
   "source": [
    "model = LinearRegression()\n",
    "cv_results = cross_validate(model, X_engineered, y, cv=5, scoring=\"neg_root_mean_squared_error\")\n",
    "cv_results"
   ]
  },
  {
   "cell_type": "code",
   "execution_count": 31,
   "metadata": {},
   "outputs": [],
   "source": [
    "#the addition of the feature year as a significant impact on the score"
   ]
  },
  {
   "cell_type": "code",
   "execution_count": 32,
   "metadata": {},
   "outputs": [],
   "source": [
    "score_engineered=cv_results['test_score'].mean()"
   ]
  },
  {
   "cell_type": "markdown",
   "metadata": {},
   "source": [
    "🧪 **Run the following cell to save your results**"
   ]
  },
  {
   "cell_type": "code",
   "execution_count": 33,
   "metadata": {},
   "outputs": [],
   "source": [
    "from nbresult import ChallengeResult\n",
    "\n",
    "ChallengeResult(\"feature_engineering\",\n",
    "    cols = X_engineered.columns,\n",
    "    years = X_engineered.get(\"year\"),\n",
    "    score_engineered=score_engineered\n",
    ").write()"
   ]
  },
  {
   "cell_type": "markdown",
   "metadata": {},
   "source": [
    "## Pipelining\n",
    "\n",
    "Let's now look for maximum performance by creating a solid preprocessing pipeline.\n",
    "\n",
    "**📝 Create a sklearn preprocessing [pipeline](https://scikit-learn.org/stable/modules/generated/sklearn.pipeline.Pipeline.html) and store it as `preproc`**\n",
    "\n",
    "- Feel free to add any preprocessing steps you think of\n",
    "- You may want to integrate your feature engineering for `year`\n",
    "- You may also further improve it using the `ArtistPopularityTransformer` class given to you below\n",
    "- Don't add any model to it yet\n",
    "\n",
    "🚨 Advice: It is better for you to have a working pipeline (even simple one) rather than NO pipeline at all"
   ]
  },
  {
   "cell_type": "code",
   "execution_count": 34,
   "metadata": {},
   "outputs": [],
   "source": [
    "# 👉 Do not hesitate to reload a clean new dataset if you need a fresh start.\n",
    "X=data.drop(columns='popularity')\n",
    "y=data['popularity']"
   ]
  },
  {
   "cell_type": "code",
   "execution_count": 35,
   "metadata": {},
   "outputs": [
    {
     "data": {
      "text/plain": [
       "<AxesSubplot:>"
      ]
     },
     "execution_count": 35,
     "metadata": {},
     "output_type": "execute_result"
    },
    {
     "data": {
      "image/png": "[encoded data removed]",
      "text/plain": [
       "<Figure size 432x288 with 1 Axes>"
      ]
     },
     "metadata": {
      "needs_background": "light"
     },
     "output_type": "display_data"
    }
   ],
   "source": [
    "X.select_dtypes(include=['int64']).boxplot()"
   ]
  },
  {
   "cell_type": "code",
   "execution_count": 45,
   "metadata": {
    "scrolled": true
   },
   "outputs": [
    {
     "data": {
      "text/plain": [
       "<AxesSubplot:>"
      ]
     },
     "execution_count": 45,
     "metadata": {},
     "output_type": "execute_result"
    },
    {
     "data": {
      "image/png": "[encoded data removed]",
      "text/plain": [
       "<Figure size 432x288 with 1 Axes>"
      ]
     },
     "metadata": {
      "needs_background": "light"
     },
     "output_type": "display_data"
    }
   ],
   "source": [
    "X[['instrumentalness','liveness','speechiness','explicit']].boxplot()"
   ]
  },
  {
   "cell_type": "code",
   "execution_count": 48,
   "metadata": {},
   "outputs": [
    {
     "data": {
      "text/plain": [
       "<AxesSubplot:>"
      ]
     },
     "execution_count": 48,
     "metadata": {},
     "output_type": "execute_result"
    },
    {
     "data": {
      "image/png": "[encoded data removed]",
      "text/plain": [
       "<Figure size 432x288 with 1 Axes>"
      ]
     },
     "metadata": {
      "needs_background": "light"
     },
     "output_type": "display_data"
    }
   ],
   "source": [
    "X[['acousticness','danceability','energy', 'valence']].boxplot()"
   ]
  },
  {
   "cell_type": "code",
   "execution_count": 49,
   "metadata": {},
   "outputs": [
    {
     "data": {
      "text/plain": [
       "<AxesSubplot:>"
      ]
     },
     "execution_count": 49,
     "metadata": {},
     "output_type": "execute_result"
    },
    {
     "data": {
      "image/png": "[encoded data removed]",
      "text/plain": [
       "<Figure size 432x288 with 1 Axes>"
      ]
     },
     "metadata": {
      "needs_background": "light"
     },
     "output_type": "display_data"
    }
   ],
   "source": [
    "X[['loudness','tempo']].boxplot()"
   ]
  },
  {
   "cell_type": "code",
   "execution_count": 50,
   "metadata": {},
   "outputs": [],
   "source": [
    "# Scale for numerical variables: \n",
    "# We could decide to do some robust scaling, typically on the duration_ms which as lots of outliers\n",
    "# The variables which are already between 0 and 1 would not necessarily need to be rescaled\n",
    "# => But here for time reasons we decided to keep thing simple and apply the same standard scaler to all the numerical features\n",
    "\n",
    "num_transformer = Pipeline([('scaler', StandardScaler())])\n",
    "\n",
    "preprocnum = ColumnTransformer([\n",
    "    ('num_transformer', num_transformer, make_column_selector(dtype_include=['float64', 'int64']))])\n"
   ]
  },
  {
   "cell_type": "code",
   "execution_count": 51,
   "metadata": {
    "slideshow": {
     "slide_type": "-"
    }
   },
   "outputs": [],
   "source": [
    "# We are giving you below a custom transformer that you may want to use in your pipeline (make sure you understanding it)\n",
    "\n",
    "from sklearn.base import BaseEstimator, TransformerMixin\n",
    "\n",
    "class ArtistPopularityTransformer(BaseEstimator, TransformerMixin):\n",
    "    \"\"\"\n",
    "    Compute, as a new feature of the test set, the mean popularity of \n",
    "    all songs made by the artist on the train set.\n",
    "    \"\"\"\n",
    "\n",
    "    def __init__(self):\n",
    "        pass\n",
    "\n",
    "    def fit(self, X, y=None):\n",
    "        \"\"\"\n",
    "        process artist mean popularity from artists songs popularity\n",
    "        process song global mean popularity\n",
    "        \"\"\"\n",
    "\n",
    "        # process artist popularity\n",
    "        self.artist_popularity = y.groupby(X.artist).agg(\"mean\")\n",
    "        self.artist_popularity.name = \"artist_popularity\"\n",
    "\n",
    "        # process mean popularity\n",
    "        self.mean_popularity = y.mean()\n",
    "\n",
    "        return self\n",
    "\n",
    "    def transform(self, X, y=None):\n",
    "        \"\"\"\n",
    "        apply artist mean popularity vs song global mean popularity to songs\n",
    "        \"\"\"\n",
    "\n",
    "        # inject artist popularity\n",
    "        X_copy = X.merge(self.artist_popularity, how=\"left\", left_on=\"artist\", right_index=True)\n",
    "\n",
    "        # fills popularity of unknown artists with song global mean popularity\n",
    "        X_copy.replace(np.nan, self.mean_popularity, inplace=True)\n",
    "\n",
    "        return X_copy[[\"artist_popularity\"]]"
   ]
  },
  {
   "cell_type": "code",
   "execution_count": 52,
   "metadata": {},
   "outputs": [],
   "source": [
    "# Create a transformer that add artistpopularity\n",
    "artistpoptrans=ArtistPopularityTransformer()\n",
    "\n",
    "# Create a transformer that add the year\n",
    "year_calc=FunctionTransformer(lambda data: pd.DataFrame(pd.to_datetime(data['release_date']).dt.year))\n",
    "\n",
    "\n",
    "#Bring them together with feature Union\n",
    "preproc_inter = FeatureUnion([\n",
    "    ('artistpoptrans', artistpoptrans),\n",
    "    ('year_calc',year_calc),\n",
    "    ('preprocnum', preprocnum),   \n",
    "])"
   ]
  },
  {
   "cell_type": "code",
   "execution_count": 53,
   "metadata": {},
   "outputs": [],
   "source": [
    "#Adding another layer of standard scaler to scale the new columns (year / artist pop). This does not affect the other column which have already been scaled.\n",
    "preproc = Pipeline([('preproc_inter', preproc_inter),('scaler', StandardScaler())])"
   ]
  },
  {
   "cell_type": "code",
   "execution_count": 55,
   "metadata": {},
   "outputs": [
    {
     "data": {
      "text/html": [
       "<div>\n",
       "<style scoped>\n",
       "    .dataframe tbody tr th:only-of-type {\n",
       "        vertical-align: middle;\n",
       "    }\n",
       "\n",
       "    .dataframe tbody tr th {\n",
       "        vertical-align: top;\n",
       "    }\n",
       "\n",
       "    .dataframe thead th {\n",
       "        text-align: right;\n",
       "    }\n",
       "</style>\n",
       "<table border=\"1\" class=\"dataframe\">\n",
       "  <thead>\n",
       "    <tr style=\"text-align: right;\">\n",
       "      <th></th>\n",
       "      <th>0</th>\n",
       "      <th>1</th>\n",
       "      <th>2</th>\n",
       "      <th>3</th>\n",
       "      <th>4</th>\n",
       "      <th>5</th>\n",
       "      <th>6</th>\n",
       "      <th>7</th>\n",
       "      <th>8</th>\n",
       "      <th>9</th>\n",
       "      <th>10</th>\n",
       "      <th>11</th>\n",
       "      <th>12</th>\n",
       "      <th>13</th>\n",
       "      <th>14</th>\n",
       "    </tr>\n",
       "  </thead>\n",
       "  <tbody>\n",
       "    <tr>\n",
       "      <th>0</th>\n",
       "      <td>0.460356</td>\n",
       "      <td>-0.220188</td>\n",
       "      <td>0.410158</td>\n",
       "      <td>-0.212695</td>\n",
       "      <td>-0.088403</td>\n",
       "      <td>-1.076387</td>\n",
       "      <td>-0.273715</td>\n",
       "      <td>-0.574119</td>\n",
       "      <td>0.512789</td>\n",
       "      <td>-0.676648</td>\n",
       "      <td>-0.823320</td>\n",
       "      <td>0.645835</td>\n",
       "      <td>-0.332502</td>\n",
       "      <td>1.069938</td>\n",
       "      <td>-0.359104</td>\n",
       "    </tr>\n",
       "    <tr>\n",
       "      <th>1</th>\n",
       "      <td>-0.792680</td>\n",
       "      <td>1.418465</td>\n",
       "      <td>-1.296168</td>\n",
       "      <td>-0.552799</td>\n",
       "      <td>1.754475</td>\n",
       "      <td>1.187137</td>\n",
       "      <td>-0.273715</td>\n",
       "      <td>-0.166816</td>\n",
       "      <td>-0.904957</td>\n",
       "      <td>-0.681084</td>\n",
       "      <td>0.570288</td>\n",
       "      <td>0.645835</td>\n",
       "      <td>-0.210526</td>\n",
       "      <td>0.692617</td>\n",
       "      <td>-1.766522</td>\n",
       "    </tr>\n",
       "    <tr>\n",
       "      <th>2</th>\n",
       "      <td>0.426941</td>\n",
       "      <td>-0.331914</td>\n",
       "      <td>0.620789</td>\n",
       "      <td>-0.076653</td>\n",
       "      <td>0.092074</td>\n",
       "      <td>-0.717446</td>\n",
       "      <td>-0.273715</td>\n",
       "      <td>-0.586376</td>\n",
       "      <td>-1.472056</td>\n",
       "      <td>-0.747067</td>\n",
       "      <td>0.042023</td>\n",
       "      <td>0.645835</td>\n",
       "      <td>0.589701</td>\n",
       "      <td>-1.361536</td>\n",
       "      <td>-0.230227</td>\n",
       "    </tr>\n",
       "    <tr>\n",
       "      <th>3</th>\n",
       "      <td>-1.104899</td>\n",
       "      <td>-1.896083</td>\n",
       "      <td>-0.182243</td>\n",
       "      <td>0.818954</td>\n",
       "      <td>-0.714981</td>\n",
       "      <td>-1.167954</td>\n",
       "      <td>-0.273715</td>\n",
       "      <td>-0.586376</td>\n",
       "      <td>1.646985</td>\n",
       "      <td>1.010077</td>\n",
       "      <td>-1.704990</td>\n",
       "      <td>-1.548384</td>\n",
       "      <td>4.593569</td>\n",
       "      <td>0.933581</td>\n",
       "      <td>-0.897357</td>\n",
       "    </tr>\n",
       "    <tr>\n",
       "      <th>4</th>\n",
       "      <td>-0.627465</td>\n",
       "      <td>1.157770</td>\n",
       "      <td>0.167932</td>\n",
       "      <td>0.036715</td>\n",
       "      <td>-0.716467</td>\n",
       "      <td>0.333737</td>\n",
       "      <td>-0.273715</td>\n",
       "      <td>-0.586365</td>\n",
       "      <td>-0.904957</td>\n",
       "      <td>-0.470382</td>\n",
       "      <td>0.767444</td>\n",
       "      <td>0.645835</td>\n",
       "      <td>-0.435880</td>\n",
       "      <td>0.733323</td>\n",
       "      <td>1.047177</td>\n",
       "    </tr>\n",
       "    <tr>\n",
       "      <th>...</th>\n",
       "      <td>...</td>\n",
       "      <td>...</td>\n",
       "      <td>...</td>\n",
       "      <td>...</td>\n",
       "      <td>...</td>\n",
       "      <td>...</td>\n",
       "      <td>...</td>\n",
       "      <td>...</td>\n",
       "      <td>...</td>\n",
       "      <td>...</td>\n",
       "      <td>...</td>\n",
       "      <td>...</td>\n",
       "      <td>...</td>\n",
       "      <td>...</td>\n",
       "      <td>...</td>\n",
       "    </tr>\n",
       "    <tr>\n",
       "      <th>52048</th>\n",
       "      <td>-0.040858</td>\n",
       "      <td>0.003265</td>\n",
       "      <td>-0.879960</td>\n",
       "      <td>-0.139006</td>\n",
       "      <td>-1.229725</td>\n",
       "      <td>1.549740</td>\n",
       "      <td>-0.273715</td>\n",
       "      <td>-0.571782</td>\n",
       "      <td>0.229239</td>\n",
       "      <td>3.266807</td>\n",
       "      <td>0.691952</td>\n",
       "      <td>0.645835</td>\n",
       "      <td>3.040156</td>\n",
       "      <td>-1.039525</td>\n",
       "      <td>-0.795013</td>\n",
       "    </tr>\n",
       "    <tr>\n",
       "      <th>52049</th>\n",
       "      <td>0.147097</td>\n",
       "      <td>-0.443641</td>\n",
       "      <td>0.723472</td>\n",
       "      <td>-0.019969</td>\n",
       "      <td>-0.276717</td>\n",
       "      <td>0.641400</td>\n",
       "      <td>-0.273715</td>\n",
       "      <td>1.730197</td>\n",
       "      <td>-0.904957</td>\n",
       "      <td>-0.548009</td>\n",
       "      <td>0.461440</td>\n",
       "      <td>-1.548384</td>\n",
       "      <td>-0.347817</td>\n",
       "      <td>1.364196</td>\n",
       "      <td>0.338350</td>\n",
       "    </tr>\n",
       "    <tr>\n",
       "      <th>52050</th>\n",
       "      <td>-1.293894</td>\n",
       "      <td>1.604676</td>\n",
       "      <td>-0.111155</td>\n",
       "      <td>0.065057</td>\n",
       "      <td>0.546631</td>\n",
       "      <td>0.308098</td>\n",
       "      <td>-0.273715</td>\n",
       "      <td>-0.586376</td>\n",
       "      <td>0.229239</td>\n",
       "      <td>-0.679975</td>\n",
       "      <td>1.123132</td>\n",
       "      <td>0.645835</td>\n",
       "      <td>-0.430410</td>\n",
       "      <td>-1.307813</td>\n",
       "      <td>-0.707832</td>\n",
       "    </tr>\n",
       "    <tr>\n",
       "      <th>52051</th>\n",
       "      <td>-1.264876</td>\n",
       "      <td>-0.927788</td>\n",
       "      <td>1.228988</td>\n",
       "      <td>-1.000603</td>\n",
       "      <td>-0.111666</td>\n",
       "      <td>-1.288821</td>\n",
       "      <td>-0.273715</td>\n",
       "      <td>-0.586376</td>\n",
       "      <td>1.363436</td>\n",
       "      <td>-0.475927</td>\n",
       "      <td>-1.627217</td>\n",
       "      <td>0.645835</td>\n",
       "      <td>-0.386652</td>\n",
       "      <td>-1.195013</td>\n",
       "      <td>-0.434915</td>\n",
       "    </tr>\n",
       "    <tr>\n",
       "      <th>52052</th>\n",
       "      <td>0.695926</td>\n",
       "      <td>0.599139</td>\n",
       "      <td>0.117907</td>\n",
       "      <td>1.635203</td>\n",
       "      <td>-0.097153</td>\n",
       "      <td>-0.695470</td>\n",
       "      <td>-0.273715</td>\n",
       "      <td>-0.582480</td>\n",
       "      <td>0.229239</td>\n",
       "      <td>-0.470382</td>\n",
       "      <td>-0.585961</td>\n",
       "      <td>-1.548384</td>\n",
       "      <td>-0.406890</td>\n",
       "      <td>-0.589746</td>\n",
       "      <td>0.550619</td>\n",
       "    </tr>\n",
       "  </tbody>\n",
       "</table>\n",
       "<p>52053 rows × 15 columns</p>\n",
       "</div>"
      ],
      "text/plain": [
       "             0         1         2         3         4         5         6   \\\n",
       "0      0.460356 -0.220188  0.410158 -0.212695 -0.088403 -1.076387 -0.273715   \n",
       "1     -0.792680  1.418465 -1.296168 -0.552799  1.754475  1.187137 -0.273715   \n",
       "2      0.426941 -0.331914  0.620789 -0.076653  0.092074 -0.717446 -0.273715   \n",
       "3     -1.104899 -1.896083 -0.182243  0.818954 -0.714981 -1.167954 -0.273715   \n",
       "4     -0.627465  1.157770  0.167932  0.036715 -0.716467  0.333737 -0.273715   \n",
       "...         ...       ...       ...       ...       ...       ...       ...   \n",
       "52048 -0.040858  0.003265 -0.879960 -0.139006 -1.229725  1.549740 -0.273715   \n",
       "52049  0.147097 -0.443641  0.723472 -0.019969 -0.276717  0.641400 -0.273715   \n",
       "52050 -1.293894  1.604676 -0.111155  0.065057  0.546631  0.308098 -0.273715   \n",
       "52051 -1.264876 -0.927788  1.228988 -1.000603 -0.111666 -1.288821 -0.273715   \n",
       "52052  0.695926  0.599139  0.117907  1.635203 -0.097153 -0.695470 -0.273715   \n",
       "\n",
       "             7         8         9         10        11        12        13  \\\n",
       "0     -0.574119  0.512789 -0.676648 -0.823320  0.645835 -0.332502  1.069938   \n",
       "1     -0.166816 -0.904957 -0.681084  0.570288  0.645835 -0.210526  0.692617   \n",
       "2     -0.586376 -1.472056 -0.747067  0.042023  0.645835  0.589701 -1.361536   \n",
       "3     -0.586376  1.646985  1.010077 -1.704990 -1.548384  4.593569  0.933581   \n",
       "4     -0.586365 -0.904957 -0.470382  0.767444  0.645835 -0.435880  0.733323   \n",
       "...         ...       ...       ...       ...       ...       ...       ...   \n",
       "52048 -0.571782  0.229239  3.266807  0.691952  0.645835  3.040156 -1.039525   \n",
       "52049  1.730197 -0.904957 -0.548009  0.461440 -1.548384 -0.347817  1.364196   \n",
       "52050 -0.586376  0.229239 -0.679975  1.123132  0.645835 -0.430410 -1.307813   \n",
       "52051 -0.586376  1.363436 -0.475927 -1.627217  0.645835 -0.386652 -1.195013   \n",
       "52052 -0.582480  0.229239 -0.470382 -0.585961 -1.548384 -0.406890 -0.589746   \n",
       "\n",
       "             14  \n",
       "0     -0.359104  \n",
       "1     -1.766522  \n",
       "2     -0.230227  \n",
       "3     -0.897357  \n",
       "4      1.047177  \n",
       "...         ...  \n",
       "52048 -0.795013  \n",
       "52049  0.338350  \n",
       "52050 -0.707832  \n",
       "52051 -0.434915  \n",
       "52052  0.550619  \n",
       "\n",
       "[52053 rows x 15 columns]"
      ]
     },
     "execution_count": 55,
     "metadata": {},
     "output_type": "execute_result"
    }
   ],
   "source": [
    "#we can have a quick visual look on the table to check whether it looks clean\n",
    "pd.DataFrame(preproc.fit_transform(X,y))"
   ]
  },
  {
   "cell_type": "markdown",
   "metadata": {},
   "source": [
    "**📝 Store the number of columns/feature after preprocessing your inputs in a variable `col_number`**"
   ]
  },
  {
   "cell_type": "code",
   "execution_count": 56,
   "metadata": {},
   "outputs": [],
   "source": [
    "col_number=15"
   ]
  },
  {
   "cell_type": "markdown",
   "metadata": {},
   "source": [
    "🧪 **Run the following cells to save your results**"
   ]
  },
  {
   "cell_type": "code",
   "execution_count": 57,
   "metadata": {},
   "outputs": [
    {
     "data": {
      "text/html": [
       "<style>div.sk-top-container {color: black;background-color: white;}div.sk-toggleable {background-color: white;}label.sk-toggleable__label {cursor: pointer;display: block;width: 100%;margin-bottom: 0;padding: 0.2em 0.3em;box-sizing: border-box;text-align: center;}div.sk-toggleable__content {max-height: 0;max-width: 0;overflow: hidden;text-align: left;background-color: #f0f8ff;}div.sk-toggleable__content pre {margin: 0.2em;color: black;border-radius: 0.25em;background-color: #f0f8ff;}input.sk-toggleable__control:checked~div.sk-toggleable__content {max-height: 200px;max-width: 100%;overflow: auto;}div.sk-estimator input.sk-toggleable__control:checked~label.sk-toggleable__label {background-color: #d4ebff;}div.sk-label input.sk-toggleable__control:checked~label.sk-toggleable__label {background-color: #d4ebff;}input.sk-hidden--visually {border: 0;clip: rect(1px 1px 1px 1px);clip: rect(1px, 1px, 1px, 1px);height: 1px;margin: -1px;overflow: hidden;padding: 0;position: absolute;width: 1px;}div.sk-estimator {font-family: monospace;background-color: #f0f8ff;margin: 0.25em 0.25em;border: 1px dotted black;border-radius: 0.25em;box-sizing: border-box;}div.sk-estimator:hover {background-color: #d4ebff;}div.sk-parallel-item::after {content: \"\";width: 100%;border-bottom: 1px solid gray;flex-grow: 1;}div.sk-label:hover label.sk-toggleable__label {background-color: #d4ebff;}div.sk-serial::before {content: \"\";position: absolute;border-left: 1px solid gray;box-sizing: border-box;top: 2em;bottom: 0;left: 50%;}div.sk-serial {display: flex;flex-direction: column;align-items: center;background-color: white;}div.sk-item {z-index: 1;}div.sk-parallel {display: flex;align-items: stretch;justify-content: center;background-color: white;}div.sk-parallel-item {display: flex;flex-direction: column;position: relative;background-color: white;}div.sk-parallel-item:first-child::after {align-self: flex-end;width: 50%;}div.sk-parallel-item:last-child::after {align-self: flex-start;width: 50%;}div.sk-parallel-item:only-child::after {width: 0;}div.sk-dashed-wrapped {border: 1px dashed gray;margin: 0.2em;box-sizing: border-box;padding-bottom: 0.1em;background-color: white;position: relative;}div.sk-label label {font-family: monospace;font-weight: bold;background-color: white;display: inline-block;line-height: 1.2em;}div.sk-label-container {position: relative;z-index: 2;text-align: center;}div.sk-container {display: inline-block;position: relative;}</style><div class=\"sk-top-container\"><div class=\"sk-container\"><div class=\"sk-item sk-dashed-wrapped\"><div class=\"sk-label-container\"><div class=\"sk-label sk-toggleable\"><input class=\"sk-toggleable__control sk-hidden--visually\" id=\"8ab3c2f8-9e9a-4f90-8dd2-a8956ccaf822\" type=\"checkbox\" ><label class=\"sk-toggleable__label\" for=\"8ab3c2f8-9e9a-4f90-8dd2-a8956ccaf822\">Pipeline</label><div class=\"sk-toggleable__content\"><pre>Pipeline(steps=[('preproc_inter',\n",
       "                 FeatureUnion(transformer_list=[('artistpoptrans',\n",
       "                                                 ArtistPopularityTransformer()),\n",
       "                                                ('year_calc',\n",
       "                                                 FunctionTransformer(func=<function <lambda> at 0x7fa2a7f26550>)),\n",
       "                                                ('preprocnum',\n",
       "                                                 ColumnTransformer(transformers=[('num_transformer',\n",
       "                                                                                  Pipeline(steps=[('scaler',\n",
       "                                                                                                   StandardScaler())]),\n",
       "                                                                                  <sklearn.compose._column_transformer.make_column_selector object at 0x7fa2a7c9a3d0>)]))])),\n",
       "                ('scaler', StandardScaler())])</pre></div></div></div><div class=\"sk-serial\"><div class=\"sk-item sk-dashed-wrapped\"><div class=\"sk-label-container\"><div class=\"sk-label sk-toggleable\"><input class=\"sk-toggleable__control sk-hidden--visually\" id=\"b7225eef-d0b4-433a-994c-c7590ad7aad9\" type=\"checkbox\" ><label class=\"sk-toggleable__label\" for=\"b7225eef-d0b4-433a-994c-c7590ad7aad9\">preproc_inter: FeatureUnion</label><div class=\"sk-toggleable__content\"><pre>FeatureUnion(transformer_list=[('artistpoptrans',\n",
       "                                ArtistPopularityTransformer()),\n",
       "                               ('year_calc',\n",
       "                                FunctionTransformer(func=<function <lambda> at 0x7fa2a7f26550>)),\n",
       "                               ('preprocnum',\n",
       "                                ColumnTransformer(transformers=[('num_transformer',\n",
       "                                                                 Pipeline(steps=[('scaler',\n",
       "                                                                                  StandardScaler())]),\n",
       "                                                                 <sklearn.compose._column_transformer.make_column_selector object at 0x7fa2a7c9a3d0>)]))])</pre></div></div></div><div class=\"sk-parallel\"><div class=\"sk-parallel-item\"><div class=\"sk-item\"><div class=\"sk-label-container\"><div class=\"sk-label sk-toggleable\"><label>artistpoptrans</label></div></div><div class=\"sk-serial\"><div class=\"sk-item\"><div class=\"sk-estimator sk-toggleable\"><input class=\"sk-toggleable__control sk-hidden--visually\" id=\"f4353884-6780-4848-9d8c-7fc4d34f149b\" type=\"checkbox\" ><label class=\"sk-toggleable__label\" for=\"f4353884-6780-4848-9d8c-7fc4d34f149b\">ArtistPopularityTransformer</label><div class=\"sk-toggleable__content\"><pre>ArtistPopularityTransformer()</pre></div></div></div></div></div></div><div class=\"sk-parallel-item\"><div class=\"sk-item\"><div class=\"sk-label-container\"><div class=\"sk-label sk-toggleable\"><label>year_calc</label></div></div><div class=\"sk-serial\"><div class=\"sk-item\"><div class=\"sk-estimator sk-toggleable\"><input class=\"sk-toggleable__control sk-hidden--visually\" id=\"6f0aede2-8624-43ac-884a-cb1293281530\" type=\"checkbox\" ><label class=\"sk-toggleable__label\" for=\"6f0aede2-8624-43ac-884a-cb1293281530\">FunctionTransformer</label><div class=\"sk-toggleable__content\"><pre>FunctionTransformer(func=<function <lambda> at 0x7fa2a7f26550>)</pre></div></div></div></div></div></div><div class=\"sk-parallel-item\"><div class=\"sk-item\"><div class=\"sk-label-container\"><div class=\"sk-label sk-toggleable\"><label>preprocnum</label></div></div><div class=\"sk-serial\"><div class=\"sk-item sk-dashed-wrapped\"><div class=\"sk-parallel\"><div class=\"sk-parallel-item\"><div class=\"sk-item\"><div class=\"sk-label-container\"><div class=\"sk-label sk-toggleable\"><input class=\"sk-toggleable__control sk-hidden--visually\" id=\"6a32a309-24ab-4de1-acb2-5a22ad5faf7b\" type=\"checkbox\" ><label class=\"sk-toggleable__label\" for=\"6a32a309-24ab-4de1-acb2-5a22ad5faf7b\">num_transformer</label><div class=\"sk-toggleable__content\"><pre><sklearn.compose._column_transformer.make_column_selector object at 0x7fa2a7c9a3d0></pre></div></div></div><div class=\"sk-serial\"><div class=\"sk-item\"><div class=\"sk-serial\"><div class=\"sk-item\"><div class=\"sk-estimator sk-toggleable\"><input class=\"sk-toggleable__control sk-hidden--visually\" id=\"079f2979-0953-4751-9435-f1d3fb2bfff3\" type=\"checkbox\" ><label class=\"sk-toggleable__label\" for=\"079f2979-0953-4751-9435-f1d3fb2bfff3\">StandardScaler</label><div class=\"sk-toggleable__content\"><pre>StandardScaler()</pre></div></div></div></div></div></div></div></div></div></div></div></div></div></div></div><div class=\"sk-item\"><div class=\"sk-estimator sk-toggleable\"><input class=\"sk-toggleable__control sk-hidden--visually\" id=\"144e6338-99b9-48cf-9e72-b7bdcafeddfd\" type=\"checkbox\" ><label class=\"sk-toggleable__label\" for=\"144e6338-99b9-48cf-9e72-b7bdcafeddfd\">StandardScaler</label><div class=\"sk-toggleable__content\"><pre>StandardScaler()</pre></div></div></div></div></div></div></div>"
      ],
      "text/plain": [
       "Pipeline(steps=[('preproc_inter',\n",
       "                 FeatureUnion(transformer_list=[('artistpoptrans',\n",
       "                                                 ArtistPopularityTransformer()),\n",
       "                                                ('year_calc',\n",
       "                                                 FunctionTransformer(func=<function <lambda> at 0x7fa2a7f26550>)),\n",
       "                                                ('preprocnum',\n",
       "                                                 ColumnTransformer(transformers=[('num_transformer',\n",
       "                                                                                  Pipeline(steps=[('scaler',\n",
       "                                                                                                   StandardScaler())]),\n",
       "                                                                                  <sklearn.compose._column_transformer.make_column_selector object at 0x7fa2a7c9a3d0>)]))])),\n",
       "                ('scaler', StandardScaler())])"
      ]
     },
     "execution_count": 57,
     "metadata": {},
     "output_type": "execute_result"
    }
   ],
   "source": [
    "# Visually print your preproc\n",
    "from sklearn import set_config; set_config(display='diagram')\n",
    "preproc"
   ]
  },
  {
   "cell_type": "code",
   "execution_count": 58,
   "metadata": {},
   "outputs": [],
   "source": [
    "# Save your preproc\n",
    "from nbresult import ChallengeResult\n",
    "\n",
    "ChallengeResult(\n",
    "    \"preprocessing\",\n",
    "    col_number=col_number,\n",
    "    first_observation = preproc.fit_transform(X, y)[0]\n",
    ").write()"
   ]
  },
  {
   "cell_type": "markdown",
   "metadata": {},
   "source": [
    "## Training\n",
    "\n",
    "📝 **Time to fine tune your models**\n",
    "\n",
    "- Add an **estimator** to your pipeline (only from Scikit-learn) \n",
    "\n",
    "- Train your pipeline and **fine-tune** (optimize) your estimator to maximize prediction score\n",
    "\n",
    "- You must try to fine tune at least 2 different models: \n",
    "    - create one pipeline with a **linear model** of your choice\n",
    "    - create one pipeline with an **ensemble model** of your choice\n",
    "\n",
    "Then, \n",
    "\n",
    "- Save your two best 5-time cross-validated scores as _float_: `score_linear` and `score_ensemble`\n",
    "\n",
    "- Save your two best trained pipelines as _Pipeline_ objects: `pipe_linear` and `pipe_ensemble`"
   ]
  },
  {
   "cell_type": "markdown",
   "metadata": {
    "slideshow": {
     "slide_type": "-"
    }
   },
   "source": [
    "### Linear"
   ]
  },
  {
   "cell_type": "code",
   "execution_count": 59,
   "metadata": {},
   "outputs": [],
   "source": [
    "#here we decide to go with an elastic net to play together with the ridge and lasso finetuning parameters\n",
    "pipe_linear = Pipeline([\n",
    "    ('preprocessing', preproc),\n",
    "    ('linear_regression', ElasticNet())])"
   ]
  },
  {
   "cell_type": "code",
   "execution_count": 61,
   "metadata": {},
   "outputs": [
    {
     "name": "stdout",
     "output_type": "stream",
     "text": [
      "Neg RMSE:  -14.005544853728978\n"
     ]
    }
   ],
   "source": [
    "#let's do a first test to see if everythinbg goes ok\n",
    "cv_results = cross_validate(pipe_linear, X, y, scoring = \"neg_root_mean_squared_error\", cv=5)\n",
    "print('Neg RMSE: ',cv_results['test_score'].mean())"
   ]
  },
  {
   "cell_type": "code",
   "execution_count": 62,
   "metadata": {
    "collapsed": true
   },
   "outputs": [
    {
     "data": {
      "text/plain": [
       "{'memory': None,\n",
       " 'steps': [('preprocessing', Pipeline(steps=[('preproc_inter',\n",
       "                    FeatureUnion(transformer_list=[('artistpoptrans',\n",
       "                                                    ArtistPopularityTransformer()),\n",
       "                                                   ('year_calc',\n",
       "                                                    FunctionTransformer(func=<function <lambda> at 0x7fa2a7f26550>)),\n",
       "                                                   ('preprocnum',\n",
       "                                                    ColumnTransformer(transformers=[('num_transformer',\n",
       "                                                                                     Pipeline(steps=[('scaler',\n",
       "                                                                                                      StandardScaler())]),\n",
       "                                                                                     <sklearn.compose._column_transformer.make_column_selector object at 0x7fa2a7c9a3d0>)]))])),\n",
       "                   ('scaler', StandardScaler())])),\n",
       "  ('linear_regression', ElasticNet())],\n",
       " 'verbose': False,\n",
       " 'preprocessing': Pipeline(steps=[('preproc_inter',\n",
       "                  FeatureUnion(transformer_list=[('artistpoptrans',\n",
       "                                                  ArtistPopularityTransformer()),\n",
       "                                                 ('year_calc',\n",
       "                                                  FunctionTransformer(func=<function <lambda> at 0x7fa2a7f26550>)),\n",
       "                                                 ('preprocnum',\n",
       "                                                  ColumnTransformer(transformers=[('num_transformer',\n",
       "                                                                                   Pipeline(steps=[('scaler',\n",
       "                                                                                                    StandardScaler())]),\n",
       "                                                                                   <sklearn.compose._column_transformer.make_column_selector object at 0x7fa2a7c9a3d0>)]))])),\n",
       "                 ('scaler', StandardScaler())]),\n",
       " 'linear_regression': ElasticNet(),\n",
       " 'preprocessing__memory': None,\n",
       " 'preprocessing__steps': [('preproc_inter',\n",
       "   FeatureUnion(transformer_list=[('artistpoptrans',\n",
       "                                   ArtistPopularityTransformer()),\n",
       "                                  ('year_calc',\n",
       "                                   FunctionTransformer(func=<function <lambda> at 0x7fa2a7f26550>)),\n",
       "                                  ('preprocnum',\n",
       "                                   ColumnTransformer(transformers=[('num_transformer',\n",
       "                                                                    Pipeline(steps=[('scaler',\n",
       "                                                                                     StandardScaler())]),\n",
       "                                                                    <sklearn.compose._column_transformer.make_column_selector object at 0x7fa2a7c9a3d0>)]))])),\n",
       "  ('scaler', StandardScaler())],\n",
       " 'preprocessing__verbose': False,\n",
       " 'preprocessing__preproc_inter': FeatureUnion(transformer_list=[('artistpoptrans',\n",
       "                                 ArtistPopularityTransformer()),\n",
       "                                ('year_calc',\n",
       "                                 FunctionTransformer(func=<function <lambda> at 0x7fa2a7f26550>)),\n",
       "                                ('preprocnum',\n",
       "                                 ColumnTransformer(transformers=[('num_transformer',\n",
       "                                                                  Pipeline(steps=[('scaler',\n",
       "                                                                                   StandardScaler())]),\n",
       "                                                                  <sklearn.compose._column_transformer.make_column_selector object at 0x7fa2a7c9a3d0>)]))]),\n",
       " 'preprocessing__scaler': StandardScaler(),\n",
       " 'preprocessing__preproc_inter__n_jobs': None,\n",
       " 'preprocessing__preproc_inter__transformer_list': [('artistpoptrans',\n",
       "   ArtistPopularityTransformer()),\n",
       "  ('year_calc',\n",
       "   FunctionTransformer(func=<function <lambda> at 0x7fa2a7f26550>)),\n",
       "  ('preprocnum',\n",
       "   ColumnTransformer(transformers=[('num_transformer',\n",
       "                                    Pipeline(steps=[('scaler', StandardScaler())]),\n",
       "                                    <sklearn.compose._column_transformer.make_column_selector object at 0x7fa2a7c9a3d0>)]))],\n",
       " 'preprocessing__preproc_inter__transformer_weights': None,\n",
       " 'preprocessing__preproc_inter__verbose': False,\n",
       " 'preprocessing__preproc_inter__artistpoptrans': ArtistPopularityTransformer(),\n",
       " 'preprocessing__preproc_inter__year_calc': FunctionTransformer(func=<function <lambda> at 0x7fa2a7f26550>),\n",
       " 'preprocessing__preproc_inter__preprocnum': ColumnTransformer(transformers=[('num_transformer',\n",
       "                                  Pipeline(steps=[('scaler', StandardScaler())]),\n",
       "                                  <sklearn.compose._column_transformer.make_column_selector object at 0x7fa2a7c9a3d0>)]),\n",
       " 'preprocessing__preproc_inter__year_calc__accept_sparse': False,\n",
       " 'preprocessing__preproc_inter__year_calc__check_inverse': True,\n",
       " 'preprocessing__preproc_inter__year_calc__func': <function __main__.<lambda>(data)>,\n",
       " 'preprocessing__preproc_inter__year_calc__inv_kw_args': None,\n",
       " 'preprocessing__preproc_inter__year_calc__inverse_func': None,\n",
       " 'preprocessing__preproc_inter__year_calc__kw_args': None,\n",
       " 'preprocessing__preproc_inter__year_calc__validate': False,\n",
       " 'preprocessing__preproc_inter__preprocnum__n_jobs': None,\n",
       " 'preprocessing__preproc_inter__preprocnum__remainder': 'drop',\n",
       " 'preprocessing__preproc_inter__preprocnum__sparse_threshold': 0.3,\n",
       " 'preprocessing__preproc_inter__preprocnum__transformer_weights': None,\n",
       " 'preprocessing__preproc_inter__preprocnum__transformers': [('num_transformer',\n",
       "   Pipeline(steps=[('scaler', StandardScaler())]),\n",
       "   <sklearn.compose._column_transformer.make_column_selector at 0x7fa2a7c9a3d0>)],\n",
       " 'preprocessing__preproc_inter__preprocnum__verbose': False,\n",
       " 'preprocessing__preproc_inter__preprocnum__num_transformer': Pipeline(steps=[('scaler', StandardScaler())]),\n",
       " 'preprocessing__preproc_inter__preprocnum__num_transformer__memory': None,\n",
       " 'preprocessing__preproc_inter__preprocnum__num_transformer__steps': [('scaler',\n",
       "   StandardScaler())],\n",
       " 'preprocessing__preproc_inter__preprocnum__num_transformer__verbose': False,\n",
       " 'preprocessing__preproc_inter__preprocnum__num_transformer__scaler': StandardScaler(),\n",
       " 'preprocessing__preproc_inter__preprocnum__num_transformer__scaler__copy': True,\n",
       " 'preprocessing__preproc_inter__preprocnum__num_transformer__scaler__with_mean': True,\n",
       " 'preprocessing__preproc_inter__preprocnum__num_transformer__scaler__with_std': True,\n",
       " 'preprocessing__scaler__copy': True,\n",
       " 'preprocessing__scaler__with_mean': True,\n",
       " 'preprocessing__scaler__with_std': True,\n",
       " 'linear_regression__alpha': 1.0,\n",
       " 'linear_regression__copy_X': True,\n",
       " 'linear_regression__fit_intercept': True,\n",
       " 'linear_regression__l1_ratio': 0.5,\n",
       " 'linear_regression__max_iter': 1000,\n",
       " 'linear_regression__normalize': False,\n",
       " 'linear_regression__positive': False,\n",
       " 'linear_regression__precompute': False,\n",
       " 'linear_regression__random_state': None,\n",
       " 'linear_regression__selection': 'cyclic',\n",
       " 'linear_regression__tol': 0.0001,\n",
       " 'linear_regression__warm_start': False}"
      ]
     },
     "execution_count": 62,
     "metadata": {},
     "output_type": "execute_result"
    }
   ],
   "source": [
    "#let's find the alpha and l1 ratio parameters for fine-tuning\n",
    "pipe_linear.get_params()"
   ]
  },
  {
   "cell_type": "code",
   "execution_count": 63,
   "metadata": {},
   "outputs": [
    {
     "data": {
      "text/plain": [
       "{'linear_regression__alpha': 0.15, 'linear_regression__l1_ratio': 0.1}"
      ]
     },
     "execution_count": 63,
     "metadata": {},
     "output_type": "execute_result"
    }
   ],
   "source": [
    "# and do a grid search - the parameters found here are the result of few iterations to \"zoom\" on optimal parameters\n",
    "grid_search = GridSearchCV(\n",
    "    pipe_linear, \n",
    "    param_grid={\n",
    "        'linear_regression__alpha': [0.05, 0.1, 0.15],\n",
    "        'linear_regression__l1_ratio': [0.1, 0.2, 0.3]},\n",
    "    cv=5,\n",
    "    scoring=\"neg_root_mean_squared_error\")\n",
    "\n",
    "grid_search.fit(X, y)\n",
    "grid_search.best_params_"
   ]
  },
  {
   "cell_type": "code",
   "execution_count": 66,
   "metadata": {},
   "outputs": [
    {
     "data": {
      "text/plain": [
       "-13.309793641587657"
      ]
     },
     "execution_count": 66,
     "metadata": {},
     "output_type": "execute_result"
    }
   ],
   "source": [
    "#we see some improvement with the optimized parameters\n",
    "grid_search.best_score_"
   ]
  },
  {
   "cell_type": "code",
   "execution_count": 67,
   "metadata": {},
   "outputs": [],
   "source": [
    "score_linear=grid_search.best_score_"
   ]
  },
  {
   "cell_type": "markdown",
   "metadata": {},
   "source": [
    "### Ensemble"
   ]
  },
  {
   "cell_type": "code",
   "execution_count": 68,
   "metadata": {},
   "outputs": [],
   "source": [
    "# we decide to go with gradient boost regressor\n",
    "pipe_ensemble = Pipeline([\n",
    "    ('preprocessing', preproc),\n",
    "    ('GradientBoost', GradientBoostingRegressor())])"
   ]
  },
  {
   "cell_type": "code",
   "execution_count": 69,
   "metadata": {},
   "outputs": [
    {
     "name": "stdout",
     "output_type": "stream",
     "text": [
      "Neg RMSE:  -12.478906548174546\n"
     ]
    }
   ],
   "source": [
    "#as before, let's go for a dry-run\n",
    "cv_results = cross_validate(pipe_ensemble, X, y, scoring = \"neg_root_mean_squared_error\", cv=5)\n",
    "print('Neg RMSE: ',cv_results['test_score'].mean())"
   ]
  },
  {
   "cell_type": "code",
   "execution_count": 70,
   "metadata": {
    "collapsed": true
   },
   "outputs": [
    {
     "data": {
      "text/plain": [
       "{'memory': None,\n",
       " 'steps': [('preprocessing', Pipeline(steps=[('preproc_inter',\n",
       "                    FeatureUnion(transformer_list=[('artistpoptrans',\n",
       "                                                    ArtistPopularityTransformer()),\n",
       "                                                   ('year_calc',\n",
       "                                                    FunctionTransformer(func=<function <lambda> at 0x7fa2a7f26550>)),\n",
       "                                                   ('preprocnum',\n",
       "                                                    ColumnTransformer(transformers=[('num_transformer',\n",
       "                                                                                     Pipeline(steps=[('scaler',\n",
       "                                                                                                      StandardScaler())]),\n",
       "                                                                                     <sklearn.compose._column_transformer.make_column_selector object at 0x7fa2a7c9a3d0>)]))])),\n",
       "                   ('scaler', StandardScaler())])),\n",
       "  ('GradientBoost', GradientBoostingRegressor())],\n",
       " 'verbose': False,\n",
       " 'preprocessing': Pipeline(steps=[('preproc_inter',\n",
       "                  FeatureUnion(transformer_list=[('artistpoptrans',\n",
       "                                                  ArtistPopularityTransformer()),\n",
       "                                                 ('year_calc',\n",
       "                                                  FunctionTransformer(func=<function <lambda> at 0x7fa2a7f26550>)),\n",
       "                                                 ('preprocnum',\n",
       "                                                  ColumnTransformer(transformers=[('num_transformer',\n",
       "                                                                                   Pipeline(steps=[('scaler',\n",
       "                                                                                                    StandardScaler())]),\n",
       "                                                                                   <sklearn.compose._column_transformer.make_column_selector object at 0x7fa2a7c9a3d0>)]))])),\n",
       "                 ('scaler', StandardScaler())]),\n",
       " 'GradientBoost': GradientBoostingRegressor(),\n",
       " 'preprocessing__memory': None,\n",
       " 'preprocessing__steps': [('preproc_inter',\n",
       "   FeatureUnion(transformer_list=[('artistpoptrans',\n",
       "                                   ArtistPopularityTransformer()),\n",
       "                                  ('year_calc',\n",
       "                                   FunctionTransformer(func=<function <lambda> at 0x7fa2a7f26550>)),\n",
       "                                  ('preprocnum',\n",
       "                                   ColumnTransformer(transformers=[('num_transformer',\n",
       "                                                                    Pipeline(steps=[('scaler',\n",
       "                                                                                     StandardScaler())]),\n",
       "                                                                    <sklearn.compose._column_transformer.make_column_selector object at 0x7fa2a7c9a3d0>)]))])),\n",
       "  ('scaler', StandardScaler())],\n",
       " 'preprocessing__verbose': False,\n",
       " 'preprocessing__preproc_inter': FeatureUnion(transformer_list=[('artistpoptrans',\n",
       "                                 ArtistPopularityTransformer()),\n",
       "                                ('year_calc',\n",
       "                                 FunctionTransformer(func=<function <lambda> at 0x7fa2a7f26550>)),\n",
       "                                ('preprocnum',\n",
       "                                 ColumnTransformer(transformers=[('num_transformer',\n",
       "                                                                  Pipeline(steps=[('scaler',\n",
       "                                                                                   StandardScaler())]),\n",
       "                                                                  <sklearn.compose._column_transformer.make_column_selector object at 0x7fa2a7c9a3d0>)]))]),\n",
       " 'preprocessing__scaler': StandardScaler(),\n",
       " 'preprocessing__preproc_inter__n_jobs': None,\n",
       " 'preprocessing__preproc_inter__transformer_list': [('artistpoptrans',\n",
       "   ArtistPopularityTransformer()),\n",
       "  ('year_calc',\n",
       "   FunctionTransformer(func=<function <lambda> at 0x7fa2a7f26550>)),\n",
       "  ('preprocnum',\n",
       "   ColumnTransformer(transformers=[('num_transformer',\n",
       "                                    Pipeline(steps=[('scaler', StandardScaler())]),\n",
       "                                    <sklearn.compose._column_transformer.make_column_selector object at 0x7fa2a7c9a3d0>)]))],\n",
       " 'preprocessing__preproc_inter__transformer_weights': None,\n",
       " 'preprocessing__preproc_inter__verbose': False,\n",
       " 'preprocessing__preproc_inter__artistpoptrans': ArtistPopularityTransformer(),\n",
       " 'preprocessing__preproc_inter__year_calc': FunctionTransformer(func=<function <lambda> at 0x7fa2a7f26550>),\n",
       " 'preprocessing__preproc_inter__preprocnum': ColumnTransformer(transformers=[('num_transformer',\n",
       "                                  Pipeline(steps=[('scaler', StandardScaler())]),\n",
       "                                  <sklearn.compose._column_transformer.make_column_selector object at 0x7fa2a7c9a3d0>)]),\n",
       " 'preprocessing__preproc_inter__year_calc__accept_sparse': False,\n",
       " 'preprocessing__preproc_inter__year_calc__check_inverse': True,\n",
       " 'preprocessing__preproc_inter__year_calc__func': <function __main__.<lambda>(data)>,\n",
       " 'preprocessing__preproc_inter__year_calc__inv_kw_args': None,\n",
       " 'preprocessing__preproc_inter__year_calc__inverse_func': None,\n",
       " 'preprocessing__preproc_inter__year_calc__kw_args': None,\n",
       " 'preprocessing__preproc_inter__year_calc__validate': False,\n",
       " 'preprocessing__preproc_inter__preprocnum__n_jobs': None,\n",
       " 'preprocessing__preproc_inter__preprocnum__remainder': 'drop',\n",
       " 'preprocessing__preproc_inter__preprocnum__sparse_threshold': 0.3,\n",
       " 'preprocessing__preproc_inter__preprocnum__transformer_weights': None,\n",
       " 'preprocessing__preproc_inter__preprocnum__transformers': [('num_transformer',\n",
       "   Pipeline(steps=[('scaler', StandardScaler())]),\n",
       "   <sklearn.compose._column_transformer.make_column_selector at 0x7fa2a7c9a3d0>)],\n",
       " 'preprocessing__preproc_inter__preprocnum__verbose': False,\n",
       " 'preprocessing__preproc_inter__preprocnum__num_transformer': Pipeline(steps=[('scaler', StandardScaler())]),\n",
       " 'preprocessing__preproc_inter__preprocnum__num_transformer__memory': None,\n",
       " 'preprocessing__preproc_inter__preprocnum__num_transformer__steps': [('scaler',\n",
       "   StandardScaler())],\n",
       " 'preprocessing__preproc_inter__preprocnum__num_transformer__verbose': False,\n",
       " 'preprocessing__preproc_inter__preprocnum__num_transformer__scaler': StandardScaler(),\n",
       " 'preprocessing__preproc_inter__preprocnum__num_transformer__scaler__copy': True,\n",
       " 'preprocessing__preproc_inter__preprocnum__num_transformer__scaler__with_mean': True,\n",
       " 'preprocessing__preproc_inter__preprocnum__num_transformer__scaler__with_std': True,\n",
       " 'preprocessing__scaler__copy': True,\n",
       " 'preprocessing__scaler__with_mean': True,\n",
       " 'preprocessing__scaler__with_std': True,\n",
       " 'GradientBoost__alpha': 0.9,\n",
       " 'GradientBoost__ccp_alpha': 0.0,\n",
       " 'GradientBoost__criterion': 'friedman_mse',\n",
       " 'GradientBoost__init': None,\n",
       " 'GradientBoost__learning_rate': 0.1,\n",
       " 'GradientBoost__loss': 'ls',\n",
       " 'GradientBoost__max_depth': 3,\n",
       " 'GradientBoost__max_features': None,\n",
       " 'GradientBoost__max_leaf_nodes': None,\n",
       " 'GradientBoost__min_impurity_decrease': 0.0,\n",
       " 'GradientBoost__min_impurity_split': None,\n",
       " 'GradientBoost__min_samples_leaf': 1,\n",
       " 'GradientBoost__min_samples_split': 2,\n",
       " 'GradientBoost__min_weight_fraction_leaf': 0.0,\n",
       " 'GradientBoost__n_estimators': 100,\n",
       " 'GradientBoost__n_iter_no_change': None,\n",
       " 'GradientBoost__presort': 'deprecated',\n",
       " 'GradientBoost__random_state': None,\n",
       " 'GradientBoost__subsample': 1.0,\n",
       " 'GradientBoost__tol': 0.0001,\n",
       " 'GradientBoost__validation_fraction': 0.1,\n",
       " 'GradientBoost__verbose': 0,\n",
       " 'GradientBoost__warm_start': False}"
      ]
     },
     "execution_count": 70,
     "metadata": {},
     "output_type": "execute_result"
    }
   ],
   "source": [
    "#let's find the n_estimator and learning rate parameters for fine-tuning\n",
    "pipe_ensemble.get_params()"
   ]
  },
  {
   "cell_type": "code",
   "execution_count": 71,
   "metadata": {},
   "outputs": [
    {
     "data": {
      "text/plain": [
       "{'GradientBoost__learning_rate': 0.2, 'GradientBoost__n_estimators': 150}"
      ]
     },
     "execution_count": 71,
     "metadata": {},
     "output_type": "execute_result"
    }
   ],
   "source": [
    "# and do a grid search - the parameters found here are the result of few (long) iterations to \"zoom\" on optimal parameters\n",
    "grid_search2 = GridSearchCV(\n",
    "    pipe_ensemble, \n",
    "    param_grid={\n",
    "        'GradientBoost__n_estimators': [50, 100, 150],\n",
    "        'GradientBoost__learning_rate': [0.05, 0.1, 0.2]},\n",
    "    cv=5,\n",
    "    scoring=\"neg_root_mean_squared_error\")\n",
    "\n",
    "grid_search2.fit(X, y)\n",
    "grid_search2.best_params_"
   ]
  },
  {
   "cell_type": "code",
   "execution_count": 72,
   "metadata": {},
   "outputs": [
    {
     "data": {
      "text/plain": [
       "-12.255651112409762"
      ]
     },
     "execution_count": 72,
     "metadata": {},
     "output_type": "execute_result"
    }
   ],
   "source": [
    "grid_search2.best_score_"
   ]
  },
  {
   "cell_type": "code",
   "execution_count": 73,
   "metadata": {},
   "outputs": [],
   "source": [
    "score_ensemble=grid_search2.best_score_"
   ]
  },
  {
   "cell_type": "markdown",
   "metadata": {},
   "source": [
    "🧪 **Run the following cells to save your results**"
   ]
  },
  {
   "cell_type": "code",
   "execution_count": 74,
   "metadata": {},
   "outputs": [
    {
     "data": {
      "text/plain": [
       "-18.36055855156932"
      ]
     },
     "execution_count": 74,
     "metadata": {},
     "output_type": "execute_result"
    }
   ],
   "source": [
    "score_simple_cv_mean"
   ]
  },
  {
   "cell_type": "code",
   "execution_count": 75,
   "metadata": {},
   "outputs": [
    {
     "data": {
      "text/plain": [
       "-17.301966769706553"
      ]
     },
     "execution_count": 75,
     "metadata": {},
     "output_type": "execute_result"
    }
   ],
   "source": [
    "score_engineered"
   ]
  },
  {
   "cell_type": "code",
   "execution_count": 76,
   "metadata": {
    "scrolled": true
   },
   "outputs": [
    {
     "data": {
      "text/plain": [
       "-13.309793641587657"
      ]
     },
     "execution_count": 76,
     "metadata": {},
     "output_type": "execute_result"
    }
   ],
   "source": [
    "score_linear"
   ]
  },
  {
   "cell_type": "code",
   "execution_count": 77,
   "metadata": {},
   "outputs": [
    {
     "data": {
      "text/plain": [
       "-12.255651112409762"
      ]
     },
     "execution_count": 77,
     "metadata": {},
     "output_type": "execute_result"
    }
   ],
   "source": [
    "score_ensemble"
   ]
  },
  {
   "cell_type": "code",
   "execution_count": 78,
   "metadata": {},
   "outputs": [],
   "source": [
    "#we can see that through adding some features, scaling the data, then utilizing more advanced model and finetuning these models,\n",
    "#=> we achived a significant improvement !!"
   ]
  },
  {
   "cell_type": "code",
   "execution_count": 79,
   "metadata": {},
   "outputs": [
    {
     "data": {
      "text/html": [
       "<style>div.sk-top-container {color: black;background-color: white;}div.sk-toggleable {background-color: white;}label.sk-toggleable__label {cursor: pointer;display: block;width: 100%;margin-bottom: 0;padding: 0.2em 0.3em;box-sizing: border-box;text-align: center;}div.sk-toggleable__content {max-height: 0;max-width: 0;overflow: hidden;text-align: left;background-color: #f0f8ff;}div.sk-toggleable__content pre {margin: 0.2em;color: black;border-radius: 0.25em;background-color: #f0f8ff;}input.sk-toggleable__control:checked~div.sk-toggleable__content {max-height: 200px;max-width: 100%;overflow: auto;}div.sk-estimator input.sk-toggleable__control:checked~label.sk-toggleable__label {background-color: #d4ebff;}div.sk-label input.sk-toggleable__control:checked~label.sk-toggleable__label {background-color: #d4ebff;}input.sk-hidden--visually {border: 0;clip: rect(1px 1px 1px 1px);clip: rect(1px, 1px, 1px, 1px);height: 1px;margin: -1px;overflow: hidden;padding: 0;position: absolute;width: 1px;}div.sk-estimator {font-family: monospace;background-color: #f0f8ff;margin: 0.25em 0.25em;border: 1px dotted black;border-radius: 0.25em;box-sizing: border-box;}div.sk-estimator:hover {background-color: #d4ebff;}div.sk-parallel-item::after {content: \"\";width: 100%;border-bottom: 1px solid gray;flex-grow: 1;}div.sk-label:hover label.sk-toggleable__label {background-color: #d4ebff;}div.sk-serial::before {content: \"\";position: absolute;border-left: 1px solid gray;box-sizing: border-box;top: 2em;bottom: 0;left: 50%;}div.sk-serial {display: flex;flex-direction: column;align-items: center;background-color: white;}div.sk-item {z-index: 1;}div.sk-parallel {display: flex;align-items: stretch;justify-content: center;background-color: white;}div.sk-parallel-item {display: flex;flex-direction: column;position: relative;background-color: white;}div.sk-parallel-item:first-child::after {align-self: flex-end;width: 50%;}div.sk-parallel-item:last-child::after {align-self: flex-start;width: 50%;}div.sk-parallel-item:only-child::after {width: 0;}div.sk-dashed-wrapped {border: 1px dashed gray;margin: 0.2em;box-sizing: border-box;padding-bottom: 0.1em;background-color: white;position: relative;}div.sk-label label {font-family: monospace;font-weight: bold;background-color: white;display: inline-block;line-height: 1.2em;}div.sk-label-container {position: relative;z-index: 2;text-align: center;}div.sk-container {display: inline-block;position: relative;}</style><div class=\"sk-top-container\"><div class=\"sk-container\"><div class=\"sk-item sk-dashed-wrapped\"><div class=\"sk-label-container\"><div class=\"sk-label sk-toggleable\"><input class=\"sk-toggleable__control sk-hidden--visually\" id=\"ac9605da-c51e-4a80-a09f-b1c3b69f92f1\" type=\"checkbox\" ><label class=\"sk-toggleable__label\" for=\"ac9605da-c51e-4a80-a09f-b1c3b69f92f1\">Pipeline</label><div class=\"sk-toggleable__content\"><pre>Pipeline(steps=[('preprocessing',\n",
       "                 Pipeline(steps=[('preproc_inter',\n",
       "                                  FeatureUnion(transformer_list=[('artistpoptrans',\n",
       "                                                                  ArtistPopularityTransformer()),\n",
       "                                                                 ('year_calc',\n",
       "                                                                  FunctionTransformer(func=<function <lambda> at 0x7fa2a7f26550>)),\n",
       "                                                                 ('preprocnum',\n",
       "                                                                  ColumnTransformer(transformers=[('num_transformer',\n",
       "                                                                                                   Pipeline(steps=[('scaler',\n",
       "                                                                                                                    StandardScaler())]),\n",
       "                                                                                                   <sklearn.compose._column_transformer.make_column_selector object at 0x7fa2a7c9a3d0>)]))])),\n",
       "                                 ('scaler', StandardScaler())])),\n",
       "                ('linear_regression', ElasticNet())])</pre></div></div></div><div class=\"sk-serial\"><div class=\"sk-item\"><div class=\"sk-label-container\"><div class=\"sk-label sk-toggleable\"><input class=\"sk-toggleable__control sk-hidden--visually\" id=\"28b6feef-e615-4362-8378-08be9c7cddc7\" type=\"checkbox\" ><label class=\"sk-toggleable__label\" for=\"28b6feef-e615-4362-8378-08be9c7cddc7\">preprocessing: Pipeline</label><div class=\"sk-toggleable__content\"><pre>Pipeline(steps=[('preproc_inter',\n",
       "                 FeatureUnion(transformer_list=[('artistpoptrans',\n",
       "                                                 ArtistPopularityTransformer()),\n",
       "                                                ('year_calc',\n",
       "                                                 FunctionTransformer(func=<function <lambda> at 0x7fa2a7f26550>)),\n",
       "                                                ('preprocnum',\n",
       "                                                 ColumnTransformer(transformers=[('num_transformer',\n",
       "                                                                                  Pipeline(steps=[('scaler',\n",
       "                                                                                                   StandardScaler())]),\n",
       "                                                                                  <sklearn.compose._column_transformer.make_column_selector object at 0x7fa2a7c9a3d0>)]))])),\n",
       "                ('scaler', StandardScaler())])</pre></div></div></div><div class=\"sk-serial\"><div class=\"sk-item sk-dashed-wrapped\"><div class=\"sk-label-container\"><div class=\"sk-label sk-toggleable\"><input class=\"sk-toggleable__control sk-hidden--visually\" id=\"25241d5a-af4a-4fbb-95f7-cb35d0d203b1\" type=\"checkbox\" ><label class=\"sk-toggleable__label\" for=\"25241d5a-af4a-4fbb-95f7-cb35d0d203b1\">preproc_inter: FeatureUnion</label><div class=\"sk-toggleable__content\"><pre>FeatureUnion(transformer_list=[('artistpoptrans',\n",
       "                                ArtistPopularityTransformer()),\n",
       "                               ('year_calc',\n",
       "                                FunctionTransformer(func=<function <lambda> at 0x7fa2a7f26550>)),\n",
       "                               ('preprocnum',\n",
       "                                ColumnTransformer(transformers=[('num_transformer',\n",
       "                                                                 Pipeline(steps=[('scaler',\n",
       "                                                                                  StandardScaler())]),\n",
       "                                                                 <sklearn.compose._column_transformer.make_column_selector object at 0x7fa2a7c9a3d0>)]))])</pre></div></div></div><div class=\"sk-parallel\"><div class=\"sk-parallel-item\"><div class=\"sk-item\"><div class=\"sk-label-container\"><div class=\"sk-label sk-toggleable\"><label>artistpoptrans</label></div></div><div class=\"sk-serial\"><div class=\"sk-item\"><div class=\"sk-estimator sk-toggleable\"><input class=\"sk-toggleable__control sk-hidden--visually\" id=\"e25bf871-d1f6-410b-8bc5-2ba32322833d\" type=\"checkbox\" ><label class=\"sk-toggleable__label\" for=\"e25bf871-d1f6-410b-8bc5-2ba32322833d\">ArtistPopularityTransformer</label><div class=\"sk-toggleable__content\"><pre>ArtistPopularityTransformer()</pre></div></div></div></div></div></div><div class=\"sk-parallel-item\"><div class=\"sk-item\"><div class=\"sk-label-container\"><div class=\"sk-label sk-toggleable\"><label>year_calc</label></div></div><div class=\"sk-serial\"><div class=\"sk-item\"><div class=\"sk-estimator sk-toggleable\"><input class=\"sk-toggleable__control sk-hidden--visually\" id=\"aa230f50-cdc0-4e62-bf0d-28de3855bc39\" type=\"checkbox\" ><label class=\"sk-toggleable__label\" for=\"aa230f50-cdc0-4e62-bf0d-28de3855bc39\">FunctionTransformer</label><div class=\"sk-toggleable__content\"><pre>FunctionTransformer(func=<function <lambda> at 0x7fa2a7f26550>)</pre></div></div></div></div></div></div><div class=\"sk-parallel-item\"><div class=\"sk-item\"><div class=\"sk-label-container\"><div class=\"sk-label sk-toggleable\"><label>preprocnum</label></div></div><div class=\"sk-serial\"><div class=\"sk-item sk-dashed-wrapped\"><div class=\"sk-parallel\"><div class=\"sk-parallel-item\"><div class=\"sk-item\"><div class=\"sk-label-container\"><div class=\"sk-label sk-toggleable\"><input class=\"sk-toggleable__control sk-hidden--visually\" id=\"d18ad569-d9e3-4af3-9a20-0737b24f3d80\" type=\"checkbox\" ><label class=\"sk-toggleable__label\" for=\"d18ad569-d9e3-4af3-9a20-0737b24f3d80\">num_transformer</label><div class=\"sk-toggleable__content\"><pre><sklearn.compose._column_transformer.make_column_selector object at 0x7fa2a7c9a3d0></pre></div></div></div><div class=\"sk-serial\"><div class=\"sk-item\"><div class=\"sk-serial\"><div class=\"sk-item\"><div class=\"sk-estimator sk-toggleable\"><input class=\"sk-toggleable__control sk-hidden--visually\" id=\"fda9bf75-0dac-48ee-953f-ef030fa31272\" type=\"checkbox\" ><label class=\"sk-toggleable__label\" for=\"fda9bf75-0dac-48ee-953f-ef030fa31272\">StandardScaler</label><div class=\"sk-toggleable__content\"><pre>StandardScaler()</pre></div></div></div></div></div></div></div></div></div></div></div></div></div></div></div><div class=\"sk-item\"><div class=\"sk-estimator sk-toggleable\"><input class=\"sk-toggleable__control sk-hidden--visually\" id=\"4ab4d1e4-310c-4f45-a7d0-37fd88a4c719\" type=\"checkbox\" ><label class=\"sk-toggleable__label\" for=\"4ab4d1e4-310c-4f45-a7d0-37fd88a4c719\">StandardScaler</label><div class=\"sk-toggleable__content\"><pre>StandardScaler()</pre></div></div></div></div></div><div class=\"sk-item\"><div class=\"sk-estimator sk-toggleable\"><input class=\"sk-toggleable__control sk-hidden--visually\" id=\"8f98cac3-cdc4-433b-b680-48b655e16836\" type=\"checkbox\" ><label class=\"sk-toggleable__label\" for=\"8f98cac3-cdc4-433b-b680-48b655e16836\">ElasticNet</label><div class=\"sk-toggleable__content\"><pre>ElasticNet()</pre></div></div></div></div></div></div></div>"
      ],
      "text/plain": [
       "Pipeline(steps=[('preprocessing',\n",
       "                 Pipeline(steps=[('preproc_inter',\n",
       "                                  FeatureUnion(transformer_list=[('artistpoptrans',\n",
       "                                                                  ArtistPopularityTransformer()),\n",
       "                                                                 ('year_calc',\n",
       "                                                                  FunctionTransformer(func=<function <lambda> at 0x7fa2a7f26550>)),\n",
       "                                                                 ('preprocnum',\n",
       "                                                                  ColumnTransformer(transformers=[('num_transformer',\n",
       "                                                                                                   Pipeline(steps=[('scaler',\n",
       "                                                                                                                    StandardScaler())]),\n",
       "                                                                                                   <sklearn.compose._column_transformer.make_column_selector object at 0x7fa2a7c9a3d0>)]))])),\n",
       "                                 ('scaler', StandardScaler())])),\n",
       "                ('linear_regression', ElasticNet())])"
      ]
     },
     "execution_count": 79,
     "metadata": {},
     "output_type": "execute_result"
    }
   ],
   "source": [
    "# Print below your best pipe for correction purpose\n",
    "from sklearn import set_config; set_config(display='diagram')\n",
    "pipe_linear"
   ]
  },
  {
   "cell_type": "code",
   "execution_count": 80,
   "metadata": {},
   "outputs": [
    {
     "data": {
      "text/html": [
       "<style>div.sk-top-container {color: black;background-color: white;}div.sk-toggleable {background-color: white;}label.sk-toggleable__label {cursor: pointer;display: block;width: 100%;margin-bottom: 0;padding: 0.2em 0.3em;box-sizing: border-box;text-align: center;}div.sk-toggleable__content {max-height: 0;max-width: 0;overflow: hidden;text-align: left;background-color: #f0f8ff;}div.sk-toggleable__content pre {margin: 0.2em;color: black;border-radius: 0.25em;background-color: #f0f8ff;}input.sk-toggleable__control:checked~div.sk-toggleable__content {max-height: 200px;max-width: 100%;overflow: auto;}div.sk-estimator input.sk-toggleable__control:checked~label.sk-toggleable__label {background-color: #d4ebff;}div.sk-label input.sk-toggleable__control:checked~label.sk-toggleable__label {background-color: #d4ebff;}input.sk-hidden--visually {border: 0;clip: rect(1px 1px 1px 1px);clip: rect(1px, 1px, 1px, 1px);height: 1px;margin: -1px;overflow: hidden;padding: 0;position: absolute;width: 1px;}div.sk-estimator {font-family: monospace;background-color: #f0f8ff;margin: 0.25em 0.25em;border: 1px dotted black;border-radius: 0.25em;box-sizing: border-box;}div.sk-estimator:hover {background-color: #d4ebff;}div.sk-parallel-item::after {content: \"\";width: 100%;border-bottom: 1px solid gray;flex-grow: 1;}div.sk-label:hover label.sk-toggleable__label {background-color: #d4ebff;}div.sk-serial::before {content: \"\";position: absolute;border-left: 1px solid gray;box-sizing: border-box;top: 2em;bottom: 0;left: 50%;}div.sk-serial {display: flex;flex-direction: column;align-items: center;background-color: white;}div.sk-item {z-index: 1;}div.sk-parallel {display: flex;align-items: stretch;justify-content: center;background-color: white;}div.sk-parallel-item {display: flex;flex-direction: column;position: relative;background-color: white;}div.sk-parallel-item:first-child::after {align-self: flex-end;width: 50%;}div.sk-parallel-item:last-child::after {align-self: flex-start;width: 50%;}div.sk-parallel-item:only-child::after {width: 0;}div.sk-dashed-wrapped {border: 1px dashed gray;margin: 0.2em;box-sizing: border-box;padding-bottom: 0.1em;background-color: white;position: relative;}div.sk-label label {font-family: monospace;font-weight: bold;background-color: white;display: inline-block;line-height: 1.2em;}div.sk-label-container {position: relative;z-index: 2;text-align: center;}div.sk-container {display: inline-block;position: relative;}</style><div class=\"sk-top-container\"><div class=\"sk-container\"><div class=\"sk-item sk-dashed-wrapped\"><div class=\"sk-label-container\"><div class=\"sk-label sk-toggleable\"><input class=\"sk-toggleable__control sk-hidden--visually\" id=\"bf7ba670-f293-42b0-b78b-3ae8b46b8f70\" type=\"checkbox\" ><label class=\"sk-toggleable__label\" for=\"bf7ba670-f293-42b0-b78b-3ae8b46b8f70\">Pipeline</label><div class=\"sk-toggleable__content\"><pre>Pipeline(steps=[('preprocessing',\n",
       "                 Pipeline(steps=[('preproc_inter',\n",
       "                                  FeatureUnion(transformer_list=[('artistpoptrans',\n",
       "                                                                  ArtistPopularityTransformer()),\n",
       "                                                                 ('year_calc',\n",
       "                                                                  FunctionTransformer(func=<function <lambda> at 0x7fa2a7f26550>)),\n",
       "                                                                 ('preprocnum',\n",
       "                                                                  ColumnTransformer(transformers=[('num_transformer',\n",
       "                                                                                                   Pipeline(steps=[('scaler',\n",
       "                                                                                                                    StandardScaler())]),\n",
       "                                                                                                   <sklearn.compose._column_transformer.make_column_selector object at 0x7fa2a7c9a3d0>)]))])),\n",
       "                                 ('scaler', StandardScaler())])),\n",
       "                ('GradientBoost', GradientBoostingRegressor())])</pre></div></div></div><div class=\"sk-serial\"><div class=\"sk-item\"><div class=\"sk-label-container\"><div class=\"sk-label sk-toggleable\"><input class=\"sk-toggleable__control sk-hidden--visually\" id=\"9f1490bf-9b5f-4a52-8399-5eecb8d7845c\" type=\"checkbox\" ><label class=\"sk-toggleable__label\" for=\"9f1490bf-9b5f-4a52-8399-5eecb8d7845c\">preprocessing: Pipeline</label><div class=\"sk-toggleable__content\"><pre>Pipeline(steps=[('preproc_inter',\n",
       "                 FeatureUnion(transformer_list=[('artistpoptrans',\n",
       "                                                 ArtistPopularityTransformer()),\n",
       "                                                ('year_calc',\n",
       "                                                 FunctionTransformer(func=<function <lambda> at 0x7fa2a7f26550>)),\n",
       "                                                ('preprocnum',\n",
       "                                                 ColumnTransformer(transformers=[('num_transformer',\n",
       "                                                                                  Pipeline(steps=[('scaler',\n",
       "                                                                                                   StandardScaler())]),\n",
       "                                                                                  <sklearn.compose._column_transformer.make_column_selector object at 0x7fa2a7c9a3d0>)]))])),\n",
       "                ('scaler', StandardScaler())])</pre></div></div></div><div class=\"sk-serial\"><div class=\"sk-item sk-dashed-wrapped\"><div class=\"sk-label-container\"><div class=\"sk-label sk-toggleable\"><input class=\"sk-toggleable__control sk-hidden--visually\" id=\"bc80de93-1d69-4d0f-a74e-810e5ccfac78\" type=\"checkbox\" ><label class=\"sk-toggleable__label\" for=\"bc80de93-1d69-4d0f-a74e-810e5ccfac78\">preproc_inter: FeatureUnion</label><div class=\"sk-toggleable__content\"><pre>FeatureUnion(transformer_list=[('artistpoptrans',\n",
       "                                ArtistPopularityTransformer()),\n",
       "                               ('year_calc',\n",
       "                                FunctionTransformer(func=<function <lambda> at 0x7fa2a7f26550>)),\n",
       "                               ('preprocnum',\n",
       "                                ColumnTransformer(transformers=[('num_transformer',\n",
       "                                                                 Pipeline(steps=[('scaler',\n",
       "                                                                                  StandardScaler())]),\n",
       "                                                                 <sklearn.compose._column_transformer.make_column_selector object at 0x7fa2a7c9a3d0>)]))])</pre></div></div></div><div class=\"sk-parallel\"><div class=\"sk-parallel-item\"><div class=\"sk-item\"><div class=\"sk-label-container\"><div class=\"sk-label sk-toggleable\"><label>artistpoptrans</label></div></div><div class=\"sk-serial\"><div class=\"sk-item\"><div class=\"sk-estimator sk-toggleable\"><input class=\"sk-toggleable__control sk-hidden--visually\" id=\"b4b3ad3a-0347-4c41-9f4d-92443d0cc89b\" type=\"checkbox\" ><label class=\"sk-toggleable__label\" for=\"b4b3ad3a-0347-4c41-9f4d-92443d0cc89b\">ArtistPopularityTransformer</label><div class=\"sk-toggleable__content\"><pre>ArtistPopularityTransformer()</pre></div></div></div></div></div></div><div class=\"sk-parallel-item\"><div class=\"sk-item\"><div class=\"sk-label-container\"><div class=\"sk-label sk-toggleable\"><label>year_calc</label></div></div><div class=\"sk-serial\"><div class=\"sk-item\"><div class=\"sk-estimator sk-toggleable\"><input class=\"sk-toggleable__control sk-hidden--visually\" id=\"259ab53f-cac0-4b28-8421-61889d524032\" type=\"checkbox\" ><label class=\"sk-toggleable__label\" for=\"259ab53f-cac0-4b28-8421-61889d524032\">FunctionTransformer</label><div class=\"sk-toggleable__content\"><pre>FunctionTransformer(func=<function <lambda> at 0x7fa2a7f26550>)</pre></div></div></div></div></div></div><div class=\"sk-parallel-item\"><div class=\"sk-item\"><div class=\"sk-label-container\"><div class=\"sk-label sk-toggleable\"><label>preprocnum</label></div></div><div class=\"sk-serial\"><div class=\"sk-item sk-dashed-wrapped\"><div class=\"sk-parallel\"><div class=\"sk-parallel-item\"><div class=\"sk-item\"><div class=\"sk-label-container\"><div class=\"sk-label sk-toggleable\"><input class=\"sk-toggleable__control sk-hidden--visually\" id=\"3b9e042a-9b93-4fdc-bb0e-441200e4bbd3\" type=\"checkbox\" ><label class=\"sk-toggleable__label\" for=\"3b9e042a-9b93-4fdc-bb0e-441200e4bbd3\">num_transformer</label><div class=\"sk-toggleable__content\"><pre><sklearn.compose._column_transformer.make_column_selector object at 0x7fa2a7c9a3d0></pre></div></div></div><div class=\"sk-serial\"><div class=\"sk-item\"><div class=\"sk-serial\"><div class=\"sk-item\"><div class=\"sk-estimator sk-toggleable\"><input class=\"sk-toggleable__control sk-hidden--visually\" id=\"59bfb760-1658-4c00-93a4-787d04abcdf3\" type=\"checkbox\" ><label class=\"sk-toggleable__label\" for=\"59bfb760-1658-4c00-93a4-787d04abcdf3\">StandardScaler</label><div class=\"sk-toggleable__content\"><pre>StandardScaler()</pre></div></div></div></div></div></div></div></div></div></div></div></div></div></div></div><div class=\"sk-item\"><div class=\"sk-estimator sk-toggleable\"><input class=\"sk-toggleable__control sk-hidden--visually\" id=\"497c2062-e247-4b2b-bcfd-c59c9d6c390a\" type=\"checkbox\" ><label class=\"sk-toggleable__label\" for=\"497c2062-e247-4b2b-bcfd-c59c9d6c390a\">StandardScaler</label><div class=\"sk-toggleable__content\"><pre>StandardScaler()</pre></div></div></div></div></div><div class=\"sk-item\"><div class=\"sk-estimator sk-toggleable\"><input class=\"sk-toggleable__control sk-hidden--visually\" id=\"f684ff71-012c-4c40-862a-5c487eb58241\" type=\"checkbox\" ><label class=\"sk-toggleable__label\" for=\"f684ff71-012c-4c40-862a-5c487eb58241\">GradientBoostingRegressor</label><div class=\"sk-toggleable__content\"><pre>GradientBoostingRegressor()</pre></div></div></div></div></div></div></div>"
      ],
      "text/plain": [
       "Pipeline(steps=[('preprocessing',\n",
       "                 Pipeline(steps=[('preproc_inter',\n",
       "                                  FeatureUnion(transformer_list=[('artistpoptrans',\n",
       "                                                                  ArtistPopularityTransformer()),\n",
       "                                                                 ('year_calc',\n",
       "                                                                  FunctionTransformer(func=<function <lambda> at 0x7fa2a7f26550>)),\n",
       "                                                                 ('preprocnum',\n",
       "                                                                  ColumnTransformer(transformers=[('num_transformer',\n",
       "                                                                                                   Pipeline(steps=[('scaler',\n",
       "                                                                                                                    StandardScaler())]),\n",
       "                                                                                                   <sklearn.compose._column_transformer.make_column_selector object at 0x7fa2a7c9a3d0>)]))])),\n",
       "                                 ('scaler', StandardScaler())])),\n",
       "                ('GradientBoost', GradientBoostingRegressor())])"
      ]
     },
     "execution_count": 80,
     "metadata": {},
     "output_type": "execute_result"
    }
   ],
   "source": [
    "# Print below your best pipe for correction purpose\n",
    "pipe_ensemble"
   ]
  },
  {
   "cell_type": "code",
   "execution_count": 81,
   "metadata": {},
   "outputs": [],
   "source": [
    "from nbresult import ChallengeResult\n",
    "\n",
    "ChallengeResult(\"model_tuning\",\n",
    "    scoring = scoring,\n",
    "    score_linear=score_linear,\n",
    "    score_ensemble=score_ensemble).write()"
   ]
  },
  {
   "cell_type": "markdown",
   "metadata": {},
   "source": [
    "## API \n",
    "\n",
    "Time to put a pipeline in production!\n",
    "\n",
    "👉 Go to https://github.com/lewagon/data-certification-api and follow instructions\n",
    "\n",
    "**This final part is independent from the above notebook**"
   ]
  },
  {
   "cell_type": "code",
   "execution_count": null,
   "metadata": {},
   "outputs": [],
   "source": [
    "https://certif-33vjx73zaq-ew.a.run.app/predict?acousticness=0.654&danceability=0.499&duration_ms=219827&energy=0.19&explicit=0&id=0B6BeEUd6UwFlbsHMQKjob&instrumentalness=0.00409&key=7&liveness=0.0898&loudness=-16.435&mode=1&name=Back%20in%20the%20Goodle%20Days&release_date=1971&speechiness=0.0454&tempo=149.46&valence=0.43&artist=John%20Hartford"
   ]
  }
 ],
 "metadata": {
  "hide_input": false,
  "kernelspec": {
   "display_name": "Python 3",
   "language": "python",
   "name": "python3"
  },
  "language_info": {
   "codemirror_mode": {
    "name": "ipython",
    "version": 3
   },
   "file_extension": ".py",
   "mimetype": "text/x-python",
   "name": "python",
   "nbconvert_exporter": "python",
   "pygments_lexer": "ipython3",
   "version": "3.8.6"
  },
  "toc": {
   "base_numbering": 1,
   "nav_menu": {},
   "number_sections": true,
   "sideBar": true,
   "skip_h1_title": true,
   "title_cell": "Table of Contents",
   "title_sidebar": "Contents",
   "toc_cell": false,
   "toc_position": {
    "height": "calc(100% - 180px)",
    "left": "10px",
    "top": "150px",
    "width": "242px"
   },
   "toc_section_display": true,
   "toc_window_display": true
  },
  "varInspector": {
   "cols": {
    "lenName": 16,
    "lenType": 16,
    "lenVar": 40
   },
   "kernels_config": {
    "python": {
     "delete_cmd_postfix": "",
     "delete_cmd_prefix": "del ",
     "library": "var_list.py",
     "varRefreshCmd": "print(var_dic_list())"
    },
    "r": {
     "delete_cmd_postfix": ") ",
     "delete_cmd_prefix": "rm(",
     "library": "var_list.r",
     "varRefreshCmd": "cat(var_dic_list()) "
    }
   },
   "types_to_exclude": [
    "module",
    "function",
    "builtin_function_or_method",
    "instance",
    "_Feature"
   ],
   "window_display": false
  }
 },
 "nbformat": 4,
 "nbformat_minor": 4
}
