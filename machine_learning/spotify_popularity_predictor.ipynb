{
 "cells": [
  {
   "cell_type": "markdown",
   "metadata": {},
   "source": [
    "# Spotify Popularity Predictor (39%)"
   ]
  },
  {
   "cell_type": "markdown",
   "metadata": {},
   "source": [
    "The goal of this challenge is to create a model that predicts the popularity of a song based on its features.\n",
    "\n",
    "The dataset contains a list of tracks with the following characteristics:\n",
    "- `acousticness`: whether the track is acoustic\n",
    "- `danceability`: describes how suitable a track is for dancing\n",
    "- `duration_ms`: duration of the track in milliseconds\n",
    "- `energy`: represents a perceptual measure of intensity and activity\n",
    "- `explicit`: whether the track has explicit lyrics\n",
    "- `id`: id for the track\n",
    "- `instrumentalness`: predicts whether a track contains no vocals\n",
    "- `key`: the key the track is in\n",
    "- `liveness`: detects the presence of an audience in the recording\n",
    "- `loudness`: the overall loudness of a track in decibels\n",
    "- `mode`: modality of a track\n",
    "- `name`: name of the track\n",
    "- `popularity`: popularity of the track\n",
    "- `release_date`: release date\n",
    "- `speechiness`: detects the presence of spoken words in a track\n",
    "- `tempo`: overall estimated tempo of a track in beats per minute\n",
    "- `valence`: describes the musical positiveness conveyed by a track\n",
    "- `artist`: artist who performed the track"
   ]
  },
  {
   "cell_type": "markdown",
   "metadata": {},
   "source": [
    "# Model"
   ]
  },
  {
   "cell_type": "markdown",
   "metadata": {},
   "source": [
    "## Data collection\n",
    "\n",
    "📝 **Load the `spotify_popularity_train.csv` dataset from the provided URL**\n",
    "- Display the first few rows\n",
    "- Perform the basic cleaning operations (remove redundant lines, as well as those with missing values)\n",
    "- Store the result in a `DataFrame` named `data`"
   ]
  },
  {
   "cell_type": "code",
   "execution_count": 1,
   "metadata": {},
   "outputs": [],
   "source": [
    "import pandas as pd"
   ]
  },
  {
   "cell_type": "code",
   "execution_count": 2,
   "metadata": {},
   "outputs": [],
   "source": [
    "import requests\n",
    "import io\n",
    "url = \"https://wagon-public-datasets.s3.amazonaws.com/certification_paris_2021Q1/spotify_popularity_train.csv\"\n",
    "s = requests.get(url).content\n",
    "database = pd.read_csv(io.StringIO(s.decode('utf-8')))"
   ]
  },
  {
   "cell_type": "code",
   "execution_count": 3,
   "metadata": {},
   "outputs": [
    {
     "data": {
      "text/html": [
       "<div>\n",
       "<style scoped>\n",
       "    .dataframe tbody tr th:only-of-type {\n",
       "        vertical-align: middle;\n",
       "    }\n",
       "\n",
       "    .dataframe tbody tr th {\n",
       "        vertical-align: top;\n",
       "    }\n",
       "\n",
       "    .dataframe thead th {\n",
       "        text-align: right;\n",
       "    }\n",
       "</style>\n",
       "<table border=\"1\" class=\"dataframe\">\n",
       "  <thead>\n",
       "    <tr style=\"text-align: right;\">\n",
       "      <th></th>\n",
       "      <th>acousticness</th>\n",
       "      <th>danceability</th>\n",
       "      <th>duration_ms</th>\n",
       "      <th>energy</th>\n",
       "      <th>explicit</th>\n",
       "      <th>id</th>\n",
       "      <th>instrumentalness</th>\n",
       "      <th>key</th>\n",
       "      <th>liveness</th>\n",
       "      <th>loudness</th>\n",
       "      <th>mode</th>\n",
       "      <th>name</th>\n",
       "      <th>popularity</th>\n",
       "      <th>release_date</th>\n",
       "      <th>speechiness</th>\n",
       "      <th>tempo</th>\n",
       "      <th>valence</th>\n",
       "      <th>artist</th>\n",
       "    </tr>\n",
       "  </thead>\n",
       "  <tbody>\n",
       "    <tr>\n",
       "      <th>0</th>\n",
       "      <td>0.65400</td>\n",
       "      <td>0.499</td>\n",
       "      <td>219827</td>\n",
       "      <td>0.190</td>\n",
       "      <td>0</td>\n",
       "      <td>0B6BeEUd6UwFlbsHMQKjob</td>\n",
       "      <td>0.00409</td>\n",
       "      <td>7</td>\n",
       "      <td>0.0898</td>\n",
       "      <td>-16.435</td>\n",
       "      <td>1</td>\n",
       "      <td>Back in the Goodle Days</td>\n",
       "      <td>40</td>\n",
       "      <td>1971</td>\n",
       "      <td>0.0454</td>\n",
       "      <td>149.46</td>\n",
       "      <td>0.4300</td>\n",
       "      <td>John Hartford</td>\n",
       "    </tr>\n",
       "    <tr>\n",
       "      <th>1</th>\n",
       "      <td>0.00592</td>\n",
       "      <td>0.439</td>\n",
       "      <td>483948</td>\n",
       "      <td>0.808</td>\n",
       "      <td>0</td>\n",
       "      <td>5Gpx4lJy3vKmIvjwbiR5c8</td>\n",
       "      <td>0.14000</td>\n",
       "      <td>2</td>\n",
       "      <td>0.0890</td>\n",
       "      <td>-8.497</td>\n",
       "      <td>1</td>\n",
       "      <td>Worlds Which Break Us - Intro Mix</td>\n",
       "      <td>22</td>\n",
       "      <td>2015-02-02</td>\n",
       "      <td>0.0677</td>\n",
       "      <td>138.04</td>\n",
       "      <td>0.0587</td>\n",
       "      <td>Driftmoon</td>\n",
       "    </tr>\n",
       "  </tbody>\n",
       "</table>\n",
       "</div>"
      ],
      "text/plain": [
       "   acousticness  danceability  duration_ms  energy  explicit  \\\n",
       "0       0.65400         0.499       219827   0.190         0   \n",
       "1       0.00592         0.439       483948   0.808         0   \n",
       "\n",
       "                       id  instrumentalness  key  liveness  loudness  mode  \\\n",
       "0  0B6BeEUd6UwFlbsHMQKjob           0.00409    7    0.0898   -16.435     1   \n",
       "1  5Gpx4lJy3vKmIvjwbiR5c8           0.14000    2    0.0890    -8.497     1   \n",
       "\n",
       "                                name  popularity release_date  speechiness  \\\n",
       "0            Back in the Goodle Days          40         1971       0.0454   \n",
       "1  Worlds Which Break Us - Intro Mix          22   2015-02-02       0.0677   \n",
       "\n",
       "    tempo  valence         artist  \n",
       "0  149.46   0.4300  John Hartford  \n",
       "1  138.04   0.0587      Driftmoon  "
      ]
     },
     "execution_count": 3,
     "metadata": {},
     "output_type": "execute_result"
    }
   ],
   "source": [
    "database.head(2)"
   ]
  },
  {
   "cell_type": "code",
   "execution_count": 4,
   "metadata": {},
   "outputs": [
    {
     "data": {
      "text/plain": [
       "(52317, 18)"
      ]
     },
     "execution_count": 4,
     "metadata": {},
     "output_type": "execute_result"
    }
   ],
   "source": [
    "database.shape"
   ]
  },
  {
   "cell_type": "code",
   "execution_count": 5,
   "metadata": {
    "scrolled": true
   },
   "outputs": [],
   "source": [
    "databasenoduplicate=database.drop_duplicates()"
   ]
  },
  {
   "cell_type": "code",
   "execution_count": 6,
   "metadata": {},
   "outputs": [
    {
     "data": {
      "text/plain": [
       "(52057, 18)"
      ]
     },
     "execution_count": 6,
     "metadata": {},
     "output_type": "execute_result"
    }
   ],
   "source": [
    "databasenoduplicate.shape"
   ]
  },
  {
   "cell_type": "code",
   "execution_count": 7,
   "metadata": {},
   "outputs": [
    {
     "data": {
      "text/plain": [
       "artist              4\n",
       "danceability        0\n",
       "valence             0\n",
       "tempo               0\n",
       "speechiness         0\n",
       "release_date        0\n",
       "popularity          0\n",
       "name                0\n",
       "mode                0\n",
       "acousticness        0\n",
       "liveness            0\n",
       "key                 0\n",
       "instrumentalness    0\n",
       "id                  0\n",
       "explicit            0\n",
       "energy              0\n",
       "duration_ms         0\n",
       "loudness            0\n",
       "dtype: int64"
      ]
     },
     "execution_count": 7,
     "metadata": {},
     "output_type": "execute_result"
    }
   ],
   "source": [
    "databasenoduplicate.isnull().sum().sort_values(ascending=False)"
   ]
  },
  {
   "cell_type": "code",
   "execution_count": 8,
   "metadata": {},
   "outputs": [],
   "source": [
    "dataclean=databasenoduplicate.dropna(subset=['artist']) "
   ]
  },
  {
   "cell_type": "code",
   "execution_count": 9,
   "metadata": {},
   "outputs": [],
   "source": [
    "data=dataclean"
   ]
  },
  {
   "cell_type": "markdown",
   "metadata": {},
   "source": [
    "🧪 **Run the following cell to save your results**"
   ]
  },
  {
   "cell_type": "code",
   "execution_count": 10,
   "metadata": {},
   "outputs": [],
   "source": [
    "from nbresult import ChallengeResult\n",
    "\n",
    "ChallengeResult(\n",
    "    \"data_cleaning\",\n",
    "    shape=data.shape).write()"
   ]
  },
  {
   "cell_type": "markdown",
   "metadata": {},
   "source": [
    "## Simple model"
   ]
  },
  {
   "cell_type": "markdown",
   "metadata": {},
   "source": [
    "📝 **Which sklearn's scoring [metric](https://scikit-learn.org/stable/modules/model_evaluation.html) should we use if we want to:**\n",
    "- **Strongly penalize** largest errors\n",
    "- Measure errors **in the same unit** than `popularity` \n",
    "- Is better when greater (metric_good_model > metric_bad_model)\n",
    "\n",
    "👉 Store its exact name as `string` in the variable `scoring` below\n",
    "\n",
    "🚨 You must use this metric for the rest of the challenge"
   ]
  },
  {
   "cell_type": "code",
   "execution_count": 11,
   "metadata": {},
   "outputs": [],
   "source": [
    "scoring = \"neg_root_mean_squared_error\""
   ]
  },
  {
   "cell_type": "markdown",
   "metadata": {},
   "source": [
    "**📝 Let's build a first simple linear model using only the numerical features in our dataset to start with**\n",
    "- Build `X_simple` keeping only numerical features\n",
    "- Build `y` your target containing the `popularity`"
   ]
  },
  {
   "cell_type": "code",
   "execution_count": 12,
   "metadata": {},
   "outputs": [],
   "source": [
    "y=data['popularity']"
   ]
  },
  {
   "cell_type": "code",
   "execution_count": 13,
   "metadata": {},
   "outputs": [
    {
     "name": "stdout",
     "output_type": "stream",
     "text": [
      "<class 'pandas.core.frame.DataFrame'>\n",
      "Int64Index: 52053 entries, 0 to 52316\n",
      "Data columns (total 18 columns):\n",
      " #   Column            Non-Null Count  Dtype  \n",
      "---  ------            --------------  -----  \n",
      " 0   acousticness      52053 non-null  float64\n",
      " 1   danceability      52053 non-null  float64\n",
      " 2   duration_ms       52053 non-null  int64  \n",
      " 3   energy            52053 non-null  float64\n",
      " 4   explicit          52053 non-null  int64  \n",
      " 5   id                52053 non-null  object \n",
      " 6   instrumentalness  52053 non-null  float64\n",
      " 7   key               52053 non-null  int64  \n",
      " 8   liveness          52053 non-null  float64\n",
      " 9   loudness          52053 non-null  float64\n",
      " 10  mode              52053 non-null  int64  \n",
      " 11  name              52053 non-null  object \n",
      " 12  popularity        52053 non-null  int64  \n",
      " 13  release_date      52053 non-null  object \n",
      " 14  speechiness       52053 non-null  float64\n",
      " 15  tempo             52053 non-null  float64\n",
      " 16  valence           52053 non-null  float64\n",
      " 17  artist            52053 non-null  object \n",
      "dtypes: float64(9), int64(5), object(4)\n",
      "memory usage: 7.5+ MB\n"
     ]
    }
   ],
   "source": [
    "data.info()"
   ]
  },
  {
   "cell_type": "code",
   "execution_count": 14,
   "metadata": {},
   "outputs": [],
   "source": [
    "X_simple = data.select_dtypes(include=['int64','float64']).drop(columns='popularity')"
   ]
  },
  {
   "cell_type": "code",
   "execution_count": 15,
   "metadata": {},
   "outputs": [
    {
     "name": "stdout",
     "output_type": "stream",
     "text": [
      "<class 'pandas.core.frame.DataFrame'>\n",
      "Int64Index: 52053 entries, 0 to 52316\n",
      "Data columns (total 13 columns):\n",
      " #   Column            Non-Null Count  Dtype  \n",
      "---  ------            --------------  -----  \n",
      " 0   acousticness      52053 non-null  float64\n",
      " 1   danceability      52053 non-null  float64\n",
      " 2   duration_ms       52053 non-null  int64  \n",
      " 3   energy            52053 non-null  float64\n",
      " 4   explicit          52053 non-null  int64  \n",
      " 5   instrumentalness  52053 non-null  float64\n",
      " 6   key               52053 non-null  int64  \n",
      " 7   liveness          52053 non-null  float64\n",
      " 8   loudness          52053 non-null  float64\n",
      " 9   mode              52053 non-null  int64  \n",
      " 10  speechiness       52053 non-null  float64\n",
      " 11  tempo             52053 non-null  float64\n",
      " 12  valence           52053 non-null  float64\n",
      "dtypes: float64(9), int64(4)\n",
      "memory usage: 5.6 MB\n"
     ]
    }
   ],
   "source": [
    "X_simple.info()"
   ]
  },
  {
   "cell_type": "code",
   "execution_count": 16,
   "metadata": {},
   "outputs": [
    {
     "data": {
      "text/html": [
       "<div>\n",
       "<style scoped>\n",
       "    .dataframe tbody tr th:only-of-type {\n",
       "        vertical-align: middle;\n",
       "    }\n",
       "\n",
       "    .dataframe tbody tr th {\n",
       "        vertical-align: top;\n",
       "    }\n",
       "\n",
       "    .dataframe thead th {\n",
       "        text-align: right;\n",
       "    }\n",
       "</style>\n",
       "<table border=\"1\" class=\"dataframe\">\n",
       "  <thead>\n",
       "    <tr style=\"text-align: right;\">\n",
       "      <th></th>\n",
       "      <th>acousticness</th>\n",
       "      <th>danceability</th>\n",
       "      <th>duration_ms</th>\n",
       "      <th>energy</th>\n",
       "      <th>explicit</th>\n",
       "      <th>instrumentalness</th>\n",
       "      <th>key</th>\n",
       "      <th>liveness</th>\n",
       "      <th>loudness</th>\n",
       "      <th>mode</th>\n",
       "      <th>speechiness</th>\n",
       "      <th>tempo</th>\n",
       "      <th>valence</th>\n",
       "    </tr>\n",
       "  </thead>\n",
       "  <tbody>\n",
       "    <tr>\n",
       "      <th>0</th>\n",
       "      <td>0.65400</td>\n",
       "      <td>0.499</td>\n",
       "      <td>219827</td>\n",
       "      <td>0.190</td>\n",
       "      <td>0</td>\n",
       "      <td>0.004090</td>\n",
       "      <td>7</td>\n",
       "      <td>0.0898</td>\n",
       "      <td>-16.435</td>\n",
       "      <td>1</td>\n",
       "      <td>0.0454</td>\n",
       "      <td>149.460</td>\n",
       "      <td>0.4300</td>\n",
       "    </tr>\n",
       "    <tr>\n",
       "      <th>1</th>\n",
       "      <td>0.00592</td>\n",
       "      <td>0.439</td>\n",
       "      <td>483948</td>\n",
       "      <td>0.808</td>\n",
       "      <td>0</td>\n",
       "      <td>0.140000</td>\n",
       "      <td>2</td>\n",
       "      <td>0.0890</td>\n",
       "      <td>-8.497</td>\n",
       "      <td>1</td>\n",
       "      <td>0.0677</td>\n",
       "      <td>138.040</td>\n",
       "      <td>0.0587</td>\n",
       "    </tr>\n",
       "    <tr>\n",
       "      <th>2</th>\n",
       "      <td>0.73400</td>\n",
       "      <td>0.523</td>\n",
       "      <td>245693</td>\n",
       "      <td>0.288</td>\n",
       "      <td>0</td>\n",
       "      <td>0.000000</td>\n",
       "      <td>0</td>\n",
       "      <td>0.0771</td>\n",
       "      <td>-11.506</td>\n",
       "      <td>1</td>\n",
       "      <td>0.2140</td>\n",
       "      <td>75.869</td>\n",
       "      <td>0.4640</td>\n",
       "    </tr>\n",
       "    <tr>\n",
       "      <th>3</th>\n",
       "      <td>0.42900</td>\n",
       "      <td>0.681</td>\n",
       "      <td>130026</td>\n",
       "      <td>0.165</td>\n",
       "      <td>0</td>\n",
       "      <td>0.000000</td>\n",
       "      <td>11</td>\n",
       "      <td>0.3940</td>\n",
       "      <td>-21.457</td>\n",
       "      <td>0</td>\n",
       "      <td>0.9460</td>\n",
       "      <td>145.333</td>\n",
       "      <td>0.2880</td>\n",
       "    </tr>\n",
       "    <tr>\n",
       "      <th>4</th>\n",
       "      <td>0.56200</td>\n",
       "      <td>0.543</td>\n",
       "      <td>129813</td>\n",
       "      <td>0.575</td>\n",
       "      <td>0</td>\n",
       "      <td>0.000004</td>\n",
       "      <td>2</td>\n",
       "      <td>0.1270</td>\n",
       "      <td>-7.374</td>\n",
       "      <td>1</td>\n",
       "      <td>0.0265</td>\n",
       "      <td>139.272</td>\n",
       "      <td>0.8010</td>\n",
       "    </tr>\n",
       "    <tr>\n",
       "      <th>...</th>\n",
       "      <td>...</td>\n",
       "      <td>...</td>\n",
       "      <td>...</td>\n",
       "      <td>...</td>\n",
       "      <td>...</td>\n",
       "      <td>...</td>\n",
       "      <td>...</td>\n",
       "      <td>...</td>\n",
       "      <td>...</td>\n",
       "      <td>...</td>\n",
       "      <td>...</td>\n",
       "      <td>...</td>\n",
       "      <td>...</td>\n",
       "    </tr>\n",
       "    <tr>\n",
       "      <th>52312</th>\n",
       "      <td>0.16400</td>\n",
       "      <td>0.512</td>\n",
       "      <td>56253</td>\n",
       "      <td>0.907</td>\n",
       "      <td>0</td>\n",
       "      <td>0.004870</td>\n",
       "      <td>6</td>\n",
       "      <td>0.8010</td>\n",
       "      <td>-7.804</td>\n",
       "      <td>1</td>\n",
       "      <td>0.6620</td>\n",
       "      <td>85.615</td>\n",
       "      <td>0.3150</td>\n",
       "    </tr>\n",
       "    <tr>\n",
       "      <th>52313</th>\n",
       "      <td>0.77300</td>\n",
       "      <td>0.533</td>\n",
       "      <td>192838</td>\n",
       "      <td>0.659</td>\n",
       "      <td>0</td>\n",
       "      <td>0.773000</td>\n",
       "      <td>2</td>\n",
       "      <td>0.1130</td>\n",
       "      <td>-9.117</td>\n",
       "      <td>0</td>\n",
       "      <td>0.0426</td>\n",
       "      <td>158.366</td>\n",
       "      <td>0.6140</td>\n",
       "    </tr>\n",
       "    <tr>\n",
       "      <th>52314</th>\n",
       "      <td>0.45600</td>\n",
       "      <td>0.548</td>\n",
       "      <td>310840</td>\n",
       "      <td>0.568</td>\n",
       "      <td>0</td>\n",
       "      <td>0.000000</td>\n",
       "      <td>6</td>\n",
       "      <td>0.0892</td>\n",
       "      <td>-5.348</td>\n",
       "      <td>1</td>\n",
       "      <td>0.0275</td>\n",
       "      <td>77.495</td>\n",
       "      <td>0.3380</td>\n",
       "    </tr>\n",
       "    <tr>\n",
       "      <th>52315</th>\n",
       "      <td>0.96500</td>\n",
       "      <td>0.360</td>\n",
       "      <td>216493</td>\n",
       "      <td>0.132</td>\n",
       "      <td>0</td>\n",
       "      <td>0.000000</td>\n",
       "      <td>10</td>\n",
       "      <td>0.1260</td>\n",
       "      <td>-21.014</td>\n",
       "      <td>1</td>\n",
       "      <td>0.0355</td>\n",
       "      <td>80.909</td>\n",
       "      <td>0.4100</td>\n",
       "    </tr>\n",
       "    <tr>\n",
       "      <th>52316</th>\n",
       "      <td>0.54300</td>\n",
       "      <td>0.825</td>\n",
       "      <td>218573</td>\n",
       "      <td>0.294</td>\n",
       "      <td>0</td>\n",
       "      <td>0.001300</td>\n",
       "      <td>6</td>\n",
       "      <td>0.1270</td>\n",
       "      <td>-15.083</td>\n",
       "      <td>0</td>\n",
       "      <td>0.0318</td>\n",
       "      <td>99.228</td>\n",
       "      <td>0.6700</td>\n",
       "    </tr>\n",
       "  </tbody>\n",
       "</table>\n",
       "<p>52053 rows × 13 columns</p>\n",
       "</div>"
      ],
      "text/plain": [
       "       acousticness  danceability  duration_ms  energy  explicit  \\\n",
       "0           0.65400         0.499       219827   0.190         0   \n",
       "1           0.00592         0.439       483948   0.808         0   \n",
       "2           0.73400         0.523       245693   0.288         0   \n",
       "3           0.42900         0.681       130026   0.165         0   \n",
       "4           0.56200         0.543       129813   0.575         0   \n",
       "...             ...           ...          ...     ...       ...   \n",
       "52312       0.16400         0.512        56253   0.907         0   \n",
       "52313       0.77300         0.533       192838   0.659         0   \n",
       "52314       0.45600         0.548       310840   0.568         0   \n",
       "52315       0.96500         0.360       216493   0.132         0   \n",
       "52316       0.54300         0.825       218573   0.294         0   \n",
       "\n",
       "       instrumentalness  key  liveness  loudness  mode  speechiness    tempo  \\\n",
       "0              0.004090    7    0.0898   -16.435     1       0.0454  149.460   \n",
       "1              0.140000    2    0.0890    -8.497     1       0.0677  138.040   \n",
       "2              0.000000    0    0.0771   -11.506     1       0.2140   75.869   \n",
       "3              0.000000   11    0.3940   -21.457     0       0.9460  145.333   \n",
       "4              0.000004    2    0.1270    -7.374     1       0.0265  139.272   \n",
       "...                 ...  ...       ...       ...   ...          ...      ...   \n",
       "52312          0.004870    6    0.8010    -7.804     1       0.6620   85.615   \n",
       "52313          0.773000    2    0.1130    -9.117     0       0.0426  158.366   \n",
       "52314          0.000000    6    0.0892    -5.348     1       0.0275   77.495   \n",
       "52315          0.000000   10    0.1260   -21.014     1       0.0355   80.909   \n",
       "52316          0.001300    6    0.1270   -15.083     0       0.0318   99.228   \n",
       "\n",
       "       valence  \n",
       "0       0.4300  \n",
       "1       0.0587  \n",
       "2       0.4640  \n",
       "3       0.2880  \n",
       "4       0.8010  \n",
       "...        ...  \n",
       "52312   0.3150  \n",
       "52313   0.6140  \n",
       "52314   0.3380  \n",
       "52315   0.4100  \n",
       "52316   0.6700  \n",
       "\n",
       "[52053 rows x 13 columns]"
      ]
     },
     "execution_count": 16,
     "metadata": {},
     "output_type": "execute_result"
    }
   ],
   "source": [
    "X_simple"
   ]
  },
  {
   "cell_type": "markdown",
   "metadata": {},
   "source": [
    "### Holdout evaluation"
   ]
  },
  {
   "cell_type": "markdown",
   "metadata": {},
   "source": [
    "**📝 Create the 4 variables `X_train_simple` `y_train`, `X_test_simple`, `y_test` with a 50% split with random sampling**"
   ]
  },
  {
   "cell_type": "code",
   "execution_count": 17,
   "metadata": {},
   "outputs": [],
   "source": [
    "from sklearn.model_selection import train_test_split\n",
    "X_train_simple, X_test_simple, y_train, y_test = train_test_split(X_simple, y, test_size=0.5)"
   ]
  },
  {
   "cell_type": "markdown",
   "metadata": {},
   "source": [
    "**📝 Fit and evaluate a basic linear model (do not fine tune it) with this holdout method**\n",
    "- Store your model true performance in a float variable `score_simple_holdout`"
   ]
  },
  {
   "cell_type": "code",
   "execution_count": 18,
   "metadata": {},
   "outputs": [
    {
     "data": {
      "text/plain": [
       "LinearRegression()"
      ]
     },
     "execution_count": 18,
     "metadata": {},
     "output_type": "execute_result"
    }
   ],
   "source": [
    "from sklearn.linear_model import LinearRegression\n",
    "model = LinearRegression()\n",
    "model.fit(X_train_simple, y_train)"
   ]
  },
  {
   "cell_type": "code",
   "execution_count": 19,
   "metadata": {},
   "outputs": [],
   "source": [
    "y_pred=model.predict(X_test_simple)"
   ]
  },
  {
   "cell_type": "code",
   "execution_count": 20,
   "metadata": {},
   "outputs": [],
   "source": [
    "from sklearn.metrics import mean_squared_error\n",
    "result=-mean_squared_error(y_test, y_pred,squared=False)"
   ]
  },
  {
   "cell_type": "code",
   "execution_count": 21,
   "metadata": {},
   "outputs": [
    {
     "data": {
      "text/plain": [
       "-18.39489216460111"
      ]
     },
     "execution_count": 21,
     "metadata": {},
     "output_type": "execute_result"
    }
   ],
   "source": [
    "result"
   ]
  },
  {
   "cell_type": "code",
   "execution_count": 22,
   "metadata": {},
   "outputs": [],
   "source": [
    "score_simple_holdout=result"
   ]
  },
  {
   "cell_type": "markdown",
   "metadata": {},
   "source": [
    "### Cross-validation evaluation"
   ]
  },
  {
   "cell_type": "markdown",
   "metadata": {},
   "source": [
    "📝 **Let's be sure our score is representative**: \n",
    "- 5-times cross validate a basic linear model on the whole numeric dataset (`X_simple`, `y`)\n",
    "- Do not fine tune your model\n",
    "- Store your mean performance in a variable `score_simple_cv_mean` as a `float`\n",
    "- Store the standard deviation of your performances in a float variable `score_simple_cv_std`"
   ]
  },
  {
   "cell_type": "code",
   "execution_count": 23,
   "metadata": {},
   "outputs": [
    {
     "data": {
      "text/plain": [
       "{'fit_time': array([0.01509523, 0.01495337, 0.0186739 , 0.01528478, 0.01505613]),\n",
       " 'score_time': array([0.00249791, 0.00614977, 0.00278473, 0.00268364, 0.00272584]),\n",
       " 'test_score': array([-18.41383767, -18.45203104, -18.30188799, -18.43790327,\n",
       "        -18.19713279])}"
      ]
     },
     "execution_count": 23,
     "metadata": {},
     "output_type": "execute_result"
    }
   ],
   "source": [
    "from sklearn.model_selection import cross_validate\n",
    "model = LinearRegression()\n",
    "cv_results = cross_validate(model, X_simple, y, cv=5, scoring=\"neg_root_mean_squared_error\")\n",
    "cv_results"
   ]
  },
  {
   "cell_type": "code",
   "execution_count": 24,
   "metadata": {},
   "outputs": [],
   "source": [
    "score_simple_cv_mean=cv_results['test_score'].mean()"
   ]
  },
  {
   "cell_type": "code",
   "execution_count": 25,
   "metadata": {},
   "outputs": [],
   "source": [
    "score_simple_cv_std=cv_results['test_score'].std()"
   ]
  },
  {
   "cell_type": "markdown",
   "metadata": {},
   "source": [
    "🧪 **Run the following cell to save your results**"
   ]
  },
  {
   "cell_type": "code",
   "execution_count": 26,
   "metadata": {},
   "outputs": [],
   "source": [
    "from nbresult import ChallengeResult\n",
    "\n",
    "ChallengeResult(\n",
    "    \"simple_model\",\n",
    "    scoring=scoring,\n",
    "    shape_train = X_train_simple.shape,\n",
    "    score_simple_holdout=score_simple_holdout,\n",
    "    score_simple_cv_mean=score_simple_cv_mean,\n",
    "    score_simple_cv_std=score_simple_cv_std,\n",
    ").write()"
   ]
  },
  {
   "cell_type": "markdown",
   "metadata": {},
   "source": [
    "## Feature engineering\n",
    "\n",
    "(From now on, we will stop using train/test split but cross-validation on the whole dataset instead)  \n",
    "\n",
    "Let's try to improve performance using the feature `release_date`"
   ]
  },
  {
   "cell_type": "markdown",
   "metadata": {},
   "source": [
    "**📝 Create `X_engineered` by adding a new column `year` to `X`, containing the release year of the track as `integer`**"
   ]
  },
  {
   "cell_type": "code",
   "execution_count": 27,
   "metadata": {},
   "outputs": [],
   "source": [
    "import datetime"
   ]
  },
  {
   "cell_type": "code",
   "execution_count": 28,
   "metadata": {},
   "outputs": [],
   "source": [
    "X_engineered=X_simple"
   ]
  },
  {
   "cell_type": "code",
   "execution_count": 75,
   "metadata": {},
   "outputs": [],
   "source": [
    "X_engineered['year'] = pd.to_datetime(data['release_date']).dt.year"
   ]
  },
  {
   "cell_type": "code",
   "execution_count": 30,
   "metadata": {},
   "outputs": [
    {
     "data": {
      "text/html": [
       "<div>\n",
       "<style scoped>\n",
       "    .dataframe tbody tr th:only-of-type {\n",
       "        vertical-align: middle;\n",
       "    }\n",
       "\n",
       "    .dataframe tbody tr th {\n",
       "        vertical-align: top;\n",
       "    }\n",
       "\n",
       "    .dataframe thead th {\n",
       "        text-align: right;\n",
       "    }\n",
       "</style>\n",
       "<table border=\"1\" class=\"dataframe\">\n",
       "  <thead>\n",
       "    <tr style=\"text-align: right;\">\n",
       "      <th></th>\n",
       "      <th>acousticness</th>\n",
       "      <th>danceability</th>\n",
       "      <th>duration_ms</th>\n",
       "      <th>energy</th>\n",
       "      <th>explicit</th>\n",
       "      <th>instrumentalness</th>\n",
       "      <th>key</th>\n",
       "      <th>liveness</th>\n",
       "      <th>loudness</th>\n",
       "      <th>mode</th>\n",
       "      <th>speechiness</th>\n",
       "      <th>tempo</th>\n",
       "      <th>valence</th>\n",
       "      <th>year</th>\n",
       "    </tr>\n",
       "  </thead>\n",
       "  <tbody>\n",
       "    <tr>\n",
       "      <th>0</th>\n",
       "      <td>0.65400</td>\n",
       "      <td>0.499</td>\n",
       "      <td>219827</td>\n",
       "      <td>0.190</td>\n",
       "      <td>0</td>\n",
       "      <td>0.004090</td>\n",
       "      <td>7</td>\n",
       "      <td>0.0898</td>\n",
       "      <td>-16.435</td>\n",
       "      <td>1</td>\n",
       "      <td>0.0454</td>\n",
       "      <td>149.460</td>\n",
       "      <td>0.4300</td>\n",
       "      <td>1971</td>\n",
       "    </tr>\n",
       "    <tr>\n",
       "      <th>1</th>\n",
       "      <td>0.00592</td>\n",
       "      <td>0.439</td>\n",
       "      <td>483948</td>\n",
       "      <td>0.808</td>\n",
       "      <td>0</td>\n",
       "      <td>0.140000</td>\n",
       "      <td>2</td>\n",
       "      <td>0.0890</td>\n",
       "      <td>-8.497</td>\n",
       "      <td>1</td>\n",
       "      <td>0.0677</td>\n",
       "      <td>138.040</td>\n",
       "      <td>0.0587</td>\n",
       "      <td>2015</td>\n",
       "    </tr>\n",
       "    <tr>\n",
       "      <th>2</th>\n",
       "      <td>0.73400</td>\n",
       "      <td>0.523</td>\n",
       "      <td>245693</td>\n",
       "      <td>0.288</td>\n",
       "      <td>0</td>\n",
       "      <td>0.000000</td>\n",
       "      <td>0</td>\n",
       "      <td>0.0771</td>\n",
       "      <td>-11.506</td>\n",
       "      <td>1</td>\n",
       "      <td>0.2140</td>\n",
       "      <td>75.869</td>\n",
       "      <td>0.4640</td>\n",
       "      <td>1968</td>\n",
       "    </tr>\n",
       "    <tr>\n",
       "      <th>3</th>\n",
       "      <td>0.42900</td>\n",
       "      <td>0.681</td>\n",
       "      <td>130026</td>\n",
       "      <td>0.165</td>\n",
       "      <td>0</td>\n",
       "      <td>0.000000</td>\n",
       "      <td>11</td>\n",
       "      <td>0.3940</td>\n",
       "      <td>-21.457</td>\n",
       "      <td>0</td>\n",
       "      <td>0.9460</td>\n",
       "      <td>145.333</td>\n",
       "      <td>0.2880</td>\n",
       "      <td>1926</td>\n",
       "    </tr>\n",
       "    <tr>\n",
       "      <th>4</th>\n",
       "      <td>0.56200</td>\n",
       "      <td>0.543</td>\n",
       "      <td>129813</td>\n",
       "      <td>0.575</td>\n",
       "      <td>0</td>\n",
       "      <td>0.000004</td>\n",
       "      <td>2</td>\n",
       "      <td>0.1270</td>\n",
       "      <td>-7.374</td>\n",
       "      <td>1</td>\n",
       "      <td>0.0265</td>\n",
       "      <td>139.272</td>\n",
       "      <td>0.8010</td>\n",
       "      <td>2008</td>\n",
       "    </tr>\n",
       "  </tbody>\n",
       "</table>\n",
       "</div>"
      ],
      "text/plain": [
       "   acousticness  danceability  duration_ms  energy  explicit  \\\n",
       "0       0.65400         0.499       219827   0.190         0   \n",
       "1       0.00592         0.439       483948   0.808         0   \n",
       "2       0.73400         0.523       245693   0.288         0   \n",
       "3       0.42900         0.681       130026   0.165         0   \n",
       "4       0.56200         0.543       129813   0.575         0   \n",
       "\n",
       "   instrumentalness  key  liveness  loudness  mode  speechiness    tempo  \\\n",
       "0          0.004090    7    0.0898   -16.435     1       0.0454  149.460   \n",
       "1          0.140000    2    0.0890    -8.497     1       0.0677  138.040   \n",
       "2          0.000000    0    0.0771   -11.506     1       0.2140   75.869   \n",
       "3          0.000000   11    0.3940   -21.457     0       0.9460  145.333   \n",
       "4          0.000004    2    0.1270    -7.374     1       0.0265  139.272   \n",
       "\n",
       "   valence  year  \n",
       "0   0.4300  1971  \n",
       "1   0.0587  2015  \n",
       "2   0.4640  1968  \n",
       "3   0.2880  1926  \n",
       "4   0.8010  2008  "
      ]
     },
     "execution_count": 30,
     "metadata": {},
     "output_type": "execute_result"
    }
   ],
   "source": [
    "X_engineered.head()"
   ]
  },
  {
   "cell_type": "markdown",
   "metadata": {},
   "source": [
    "📝 **Let's see how this impact the performance of our model.**\n",
    "- Retrain the same simple linear model on numerical values only, adding the new feature `year`\n",
    "- Save the mean cross-validated performance metric in a variable named `score_engineered` as a `float`\n",
    "- Do not fine tune the model yet"
   ]
  },
  {
   "cell_type": "code",
   "execution_count": 31,
   "metadata": {},
   "outputs": [
    {
     "data": {
      "text/plain": [
       "{'fit_time': array([0.01417422, 0.01538706, 0.01657796, 0.01872802, 0.01713729]),\n",
       " 'score_time': array([0.00209236, 0.0033412 , 0.00294948, 0.00325751, 0.00356793]),\n",
       " 'test_score': array([-17.4412204 , -17.4317139 , -17.2453717 , -17.32187397,\n",
       "        -17.06965388])}"
      ]
     },
     "execution_count": 31,
     "metadata": {},
     "output_type": "execute_result"
    }
   ],
   "source": [
    "model = LinearRegression()\n",
    "cv_results = cross_validate(model, X_engineered, y, cv=5, scoring=\"neg_root_mean_squared_error\")\n",
    "cv_results"
   ]
  },
  {
   "cell_type": "code",
   "execution_count": 32,
   "metadata": {},
   "outputs": [],
   "source": [
    "score_engineered=cv_results['test_score'].mean()"
   ]
  },
  {
   "cell_type": "markdown",
   "metadata": {},
   "source": [
    "🧪 **Run the following cell to save your results**"
   ]
  },
  {
   "cell_type": "code",
   "execution_count": 33,
   "metadata": {},
   "outputs": [],
   "source": [
    "from nbresult import ChallengeResult\n",
    "\n",
    "ChallengeResult(\"feature_engineering\",\n",
    "    cols = X_engineered.columns,\n",
    "    years = X_engineered.get(\"year\"),\n",
    "    score_engineered=score_engineered\n",
    ").write()"
   ]
  },
  {
   "cell_type": "markdown",
   "metadata": {},
   "source": [
    "## Pipelining\n",
    "\n",
    "Let's now look for maximum performance by creating a solid preprocessing pipeline.\n",
    "\n",
    "**📝 Create a sklearn preprocessing [pipeline](https://scikit-learn.org/stable/modules/generated/sklearn.pipeline.Pipeline.html) and store it as `preproc`**\n",
    "\n",
    "- Feel free to add any preprocessing steps you think of\n",
    "- You may want to integrate your feature engineering for `year`\n",
    "- You may also further improve it using the `ArtistPopularityTransformer` class given to you below\n",
    "- Don't add any model to it yet\n",
    "\n",
    "🚨 Advice: It is better for you to have a working pipeline (even simple one) rather than NO pipeline at all"
   ]
  },
  {
   "cell_type": "code",
   "execution_count": 124,
   "metadata": {},
   "outputs": [],
   "source": [
    "# 👉 Do not hesitate to reload a clean new dataset if you need a fresh start.\n",
    "X=data.drop(columns='popularity')\n",
    "y=data['popularity']"
   ]
  },
  {
   "cell_type": "code",
   "execution_count": 125,
   "metadata": {
    "slideshow": {
     "slide_type": "-"
    }
   },
   "outputs": [],
   "source": [
    "# We are giving you below a custom transformer that you may want to use in your pipeline (make sure you understanding it)\n",
    "\n",
    "from sklearn.base import BaseEstimator, TransformerMixin\n",
    "\n",
    "class ArtistPopularityTransformer(BaseEstimator, TransformerMixin):\n",
    "    \"\"\"\n",
    "    Compute, as a new feature of the test set, the mean popularity of \n",
    "    all songs made by the artist on the train set.\n",
    "    \"\"\"\n",
    "\n",
    "    def __init__(self):\n",
    "        pass\n",
    "\n",
    "    def fit(self, X, y=None):\n",
    "        \"\"\"\n",
    "        process artist mean popularity from artists songs popularity\n",
    "        process song global mean popularity\n",
    "        \"\"\"\n",
    "\n",
    "        # process artist popularity\n",
    "        self.artist_popularity = y.groupby(X.artist).agg(\"mean\")\n",
    "        self.artist_popularity.name = \"artist_popularity\"\n",
    "\n",
    "        # process mean popularity\n",
    "        self.mean_popularity = y.mean()\n",
    "\n",
    "        return self\n",
    "\n",
    "    def transform(self, X, y=None):\n",
    "        \"\"\"\n",
    "        apply artist mean popularity vs song global mean popularity to songs\n",
    "        \"\"\"\n",
    "\n",
    "        # inject artist popularity\n",
    "        X_copy = X.merge(self.artist_popularity, how=\"left\", left_on=\"artist\", right_index=True)\n",
    "\n",
    "        # fills popularity of unknown artists with song global mean popularity\n",
    "        X_copy.replace(np.nan, self.mean_popularity, inplace=True)\n",
    "\n",
    "        return X_copy[[\"artist_popularity\"]]"
   ]
  },
  {
   "cell_type": "code",
   "execution_count": 126,
   "metadata": {},
   "outputs": [],
   "source": [
    "from sklearn.pipeline import Pipeline\n",
    "from sklearn.compose import ColumnTransformer\n",
    "from sklearn.compose import make_column_selector\n",
    "from sklearn.preprocessing import StandardScaler\n",
    "\n",
    "\n",
    "# Impute then Scale for numerical variables: \n",
    "num_transformer = Pipeline([('scaler', StandardScaler())])\n",
    "\n",
    "preprocnum = ColumnTransformer([\n",
    "    ('num_transformer', num_transformer, make_column_selector(dtype_include=['float64', 'int64']))])\n"
   ]
  },
  {
   "cell_type": "code",
   "execution_count": 132,
   "metadata": {},
   "outputs": [],
   "source": [
    "from sklearn.pipeline import FeatureUnion\n",
    "from sklearn.preprocessing import FunctionTransformer\n",
    "\n",
    "# Create a transformer that add artistpopularity\n",
    "artistpoptrans=ArtistPopularityTransformer()\n",
    "\n",
    "# Create a transformer that add the year\n",
    "year_calc2=FunctionTransformer(lambda data: pd.DataFrame(pd.to_datetime(data['release_date']).dt.year))\n",
    "\n",
    "\n",
    "preproc_inter = FeatureUnion([\n",
    "    ('artistpoptrans', artistpoptrans),\n",
    "    ('year_calc',year_calc2),\n",
    "    ('preprocnum', preprocnum),   \n",
    "])"
   ]
  },
  {
   "cell_type": "code",
   "execution_count": 138,
   "metadata": {},
   "outputs": [],
   "source": [
    "preproc = Pipeline([('preproc_inter', preproc_inter),('scaler', StandardScaler())])"
   ]
  },
  {
   "cell_type": "markdown",
   "metadata": {},
   "source": [
    "**📝 Store the number of columns/feature after preprocessing your inputs in a variable `col_number`**"
   ]
  },
  {
   "cell_type": "code",
   "execution_count": 140,
   "metadata": {},
   "outputs": [],
   "source": [
    "col_number=15"
   ]
  },
  {
   "cell_type": "markdown",
   "metadata": {},
   "source": [
    "🧪 **Run the following cells to save your results**"
   ]
  },
  {
   "cell_type": "code",
   "execution_count": 141,
   "metadata": {},
   "outputs": [
    {
     "data": {
      "text/html": [
       "<style>div.sk-top-container {color: black;background-color: white;}div.sk-toggleable {background-color: white;}label.sk-toggleable__label {cursor: pointer;display: block;width: 100%;margin-bottom: 0;padding: 0.2em 0.3em;box-sizing: border-box;text-align: center;}div.sk-toggleable__content {max-height: 0;max-width: 0;overflow: hidden;text-align: left;background-color: #f0f8ff;}div.sk-toggleable__content pre {margin: 0.2em;color: black;border-radius: 0.25em;background-color: #f0f8ff;}input.sk-toggleable__control:checked~div.sk-toggleable__content {max-height: 200px;max-width: 100%;overflow: auto;}div.sk-estimator input.sk-toggleable__control:checked~label.sk-toggleable__label {background-color: #d4ebff;}div.sk-label input.sk-toggleable__control:checked~label.sk-toggleable__label {background-color: #d4ebff;}input.sk-hidden--visually {border: 0;clip: rect(1px 1px 1px 1px);clip: rect(1px, 1px, 1px, 1px);height: 1px;margin: -1px;overflow: hidden;padding: 0;position: absolute;width: 1px;}div.sk-estimator {font-family: monospace;background-color: #f0f8ff;margin: 0.25em 0.25em;border: 1px dotted black;border-radius: 0.25em;box-sizing: border-box;}div.sk-estimator:hover {background-color: #d4ebff;}div.sk-parallel-item::after {content: \"\";width: 100%;border-bottom: 1px solid gray;flex-grow: 1;}div.sk-label:hover label.sk-toggleable__label {background-color: #d4ebff;}div.sk-serial::before {content: \"\";position: absolute;border-left: 1px solid gray;box-sizing: border-box;top: 2em;bottom: 0;left: 50%;}div.sk-serial {display: flex;flex-direction: column;align-items: center;background-color: white;}div.sk-item {z-index: 1;}div.sk-parallel {display: flex;align-items: stretch;justify-content: center;background-color: white;}div.sk-parallel-item {display: flex;flex-direction: column;position: relative;background-color: white;}div.sk-parallel-item:first-child::after {align-self: flex-end;width: 50%;}div.sk-parallel-item:last-child::after {align-self: flex-start;width: 50%;}div.sk-parallel-item:only-child::after {width: 0;}div.sk-dashed-wrapped {border: 1px dashed gray;margin: 0.2em;box-sizing: border-box;padding-bottom: 0.1em;background-color: white;position: relative;}div.sk-label label {font-family: monospace;font-weight: bold;background-color: white;display: inline-block;line-height: 1.2em;}div.sk-label-container {position: relative;z-index: 2;text-align: center;}div.sk-container {display: inline-block;position: relative;}</style><div class=\"sk-top-container\"><div class=\"sk-container\"><div class=\"sk-item sk-dashed-wrapped\"><div class=\"sk-label-container\"><div class=\"sk-label sk-toggleable\"><input class=\"sk-toggleable__control sk-hidden--visually\" id=\"cb59e6e2-ac1b-44eb-86f1-c76b3b6c1e70\" type=\"checkbox\" ><label class=\"sk-toggleable__label\" for=\"cb59e6e2-ac1b-44eb-86f1-c76b3b6c1e70\">Pipeline</label><div class=\"sk-toggleable__content\"><pre>Pipeline(steps=[('preproc_inter',\n",
       "                 FeatureUnion(transformer_list=[('artistpoptrans',\n",
       "                                                 ArtistPopularityTransformer()),\n",
       "                                                ('year_calc',\n",
       "                                                 FunctionTransformer(func=<function <lambda> at 0x7f63f120ff70>)),\n",
       "                                                ('preprocnum',\n",
       "                                                 ColumnTransformer(transformers=[('num_transformer',\n",
       "                                                                                  Pipeline(steps=[('scaler',\n",
       "                                                                                                   StandardScaler())]),\n",
       "                                                                                  <sklearn.compose._column_transformer.make_column_selector object at 0x7f63f147d880>)]))])),\n",
       "                ('scaler', StandardScaler())])</pre></div></div></div><div class=\"sk-serial\"><div class=\"sk-item sk-dashed-wrapped\"><div class=\"sk-label-container\"><div class=\"sk-label sk-toggleable\"><input class=\"sk-toggleable__control sk-hidden--visually\" id=\"35cf2717-4baa-4936-9c97-29a02a102815\" type=\"checkbox\" ><label class=\"sk-toggleable__label\" for=\"35cf2717-4baa-4936-9c97-29a02a102815\">preproc_inter: FeatureUnion</label><div class=\"sk-toggleable__content\"><pre>FeatureUnion(transformer_list=[('artistpoptrans',\n",
       "                                ArtistPopularityTransformer()),\n",
       "                               ('year_calc',\n",
       "                                FunctionTransformer(func=<function <lambda> at 0x7f63f120ff70>)),\n",
       "                               ('preprocnum',\n",
       "                                ColumnTransformer(transformers=[('num_transformer',\n",
       "                                                                 Pipeline(steps=[('scaler',\n",
       "                                                                                  StandardScaler())]),\n",
       "                                                                 <sklearn.compose._column_transformer.make_column_selector object at 0x7f63f147d880>)]))])</pre></div></div></div><div class=\"sk-parallel\"><div class=\"sk-parallel-item\"><div class=\"sk-item\"><div class=\"sk-label-container\"><div class=\"sk-label sk-toggleable\"><label>artistpoptrans</label></div></div><div class=\"sk-serial\"><div class=\"sk-item\"><div class=\"sk-estimator sk-toggleable\"><input class=\"sk-toggleable__control sk-hidden--visually\" id=\"7e88929e-1e96-4cb8-bfb3-e43a697c9269\" type=\"checkbox\" ><label class=\"sk-toggleable__label\" for=\"7e88929e-1e96-4cb8-bfb3-e43a697c9269\">ArtistPopularityTransformer</label><div class=\"sk-toggleable__content\"><pre>ArtistPopularityTransformer()</pre></div></div></div></div></div></div><div class=\"sk-parallel-item\"><div class=\"sk-item\"><div class=\"sk-label-container\"><div class=\"sk-label sk-toggleable\"><label>year_calc</label></div></div><div class=\"sk-serial\"><div class=\"sk-item\"><div class=\"sk-estimator sk-toggleable\"><input class=\"sk-toggleable__control sk-hidden--visually\" id=\"a5436213-d402-4e8f-8d68-4ac8a56a3ef6\" type=\"checkbox\" ><label class=\"sk-toggleable__label\" for=\"a5436213-d402-4e8f-8d68-4ac8a56a3ef6\">FunctionTransformer</label><div class=\"sk-toggleable__content\"><pre>FunctionTransformer(func=<function <lambda> at 0x7f63f120ff70>)</pre></div></div></div></div></div></div><div class=\"sk-parallel-item\"><div class=\"sk-item\"><div class=\"sk-label-container\"><div class=\"sk-label sk-toggleable\"><label>preprocnum</label></div></div><div class=\"sk-serial\"><div class=\"sk-item sk-dashed-wrapped\"><div class=\"sk-parallel\"><div class=\"sk-parallel-item\"><div class=\"sk-item\"><div class=\"sk-label-container\"><div class=\"sk-label sk-toggleable\"><input class=\"sk-toggleable__control sk-hidden--visually\" id=\"cd1e7be4-630d-42ad-9db3-346246217a01\" type=\"checkbox\" ><label class=\"sk-toggleable__label\" for=\"cd1e7be4-630d-42ad-9db3-346246217a01\">num_transformer</label><div class=\"sk-toggleable__content\"><pre><sklearn.compose._column_transformer.make_column_selector object at 0x7f63f147d880></pre></div></div></div><div class=\"sk-serial\"><div class=\"sk-item\"><div class=\"sk-serial\"><div class=\"sk-item\"><div class=\"sk-estimator sk-toggleable\"><input class=\"sk-toggleable__control sk-hidden--visually\" id=\"e57eeb4b-013a-4778-b23c-7fa9ccba402a\" type=\"checkbox\" ><label class=\"sk-toggleable__label\" for=\"e57eeb4b-013a-4778-b23c-7fa9ccba402a\">StandardScaler</label><div class=\"sk-toggleable__content\"><pre>StandardScaler()</pre></div></div></div></div></div></div></div></div></div></div></div></div></div></div></div><div class=\"sk-item\"><div class=\"sk-estimator sk-toggleable\"><input class=\"sk-toggleable__control sk-hidden--visually\" id=\"054bddf3-5ed0-48eb-9fd9-58c344182a93\" type=\"checkbox\" ><label class=\"sk-toggleable__label\" for=\"054bddf3-5ed0-48eb-9fd9-58c344182a93\">StandardScaler</label><div class=\"sk-toggleable__content\"><pre>StandardScaler()</pre></div></div></div></div></div></div></div>"
      ],
      "text/plain": [
       "Pipeline(steps=[('preproc_inter',\n",
       "                 FeatureUnion(transformer_list=[('artistpoptrans',\n",
       "                                                 ArtistPopularityTransformer()),\n",
       "                                                ('year_calc',\n",
       "                                                 FunctionTransformer(func=<function <lambda> at 0x7f63f120ff70>)),\n",
       "                                                ('preprocnum',\n",
       "                                                 ColumnTransformer(transformers=[('num_transformer',\n",
       "                                                                                  Pipeline(steps=[('scaler',\n",
       "                                                                                                   StandardScaler())]),\n",
       "                                                                                  <sklearn.compose._column_transformer.make_column_selector object at 0x7f63f147d880>)]))])),\n",
       "                ('scaler', StandardScaler())])"
      ]
     },
     "execution_count": 141,
     "metadata": {},
     "output_type": "execute_result"
    }
   ],
   "source": [
    "# Visually print your preproc\n",
    "from sklearn import set_config; set_config(display='diagram')\n",
    "preproc"
   ]
  },
  {
   "cell_type": "code",
   "execution_count": 142,
   "metadata": {},
   "outputs": [],
   "source": [
    "# Save your preproc\n",
    "from nbresult import ChallengeResult\n",
    "\n",
    "ChallengeResult(\n",
    "    \"preprocessing\",\n",
    "    col_number=col_number,\n",
    "    first_observation = preproc.fit_transform(X, y)[0]\n",
    ").write()"
   ]
  },
  {
   "cell_type": "markdown",
   "metadata": {},
   "source": [
    "## Training\n",
    "\n",
    "📝 **Time to fine tune your models**\n",
    "\n",
    "- Add an **estimator** to your pipeline (only from Scikit-learn) \n",
    "\n",
    "- Train your pipeline and **fine-tune** (optimize) your estimator to maximize prediction score\n",
    "\n",
    "- You must try to fine tune at least 2 different models: \n",
    "    - create one pipeline with a **linear model** of your choice\n",
    "    - create one pipeline with an **ensemble model** of your choice\n",
    "\n",
    "Then, \n",
    "\n",
    "- Save your two best 5-time cross-validated scores as _float_: `score_linear` and `score_ensemble`\n",
    "\n",
    "- Save your two best trained pipelines as _Pipeline_ objects: `pipe_linear` and `pipe_ensemble`"
   ]
  },
  {
   "cell_type": "markdown",
   "metadata": {
    "slideshow": {
     "slide_type": "-"
    }
   },
   "source": [
    "### Linear"
   ]
  },
  {
   "cell_type": "code",
   "execution_count": 147,
   "metadata": {},
   "outputs": [],
   "source": [
    "from sklearn.linear_model import ElasticNet"
   ]
  },
  {
   "cell_type": "code",
   "execution_count": 170,
   "metadata": {},
   "outputs": [
    {
     "data": {
      "text/html": [
       "<style>div.sk-top-container {color: black;background-color: white;}div.sk-toggleable {background-color: white;}label.sk-toggleable__label {cursor: pointer;display: block;width: 100%;margin-bottom: 0;padding: 0.2em 0.3em;box-sizing: border-box;text-align: center;}div.sk-toggleable__content {max-height: 0;max-width: 0;overflow: hidden;text-align: left;background-color: #f0f8ff;}div.sk-toggleable__content pre {margin: 0.2em;color: black;border-radius: 0.25em;background-color: #f0f8ff;}input.sk-toggleable__control:checked~div.sk-toggleable__content {max-height: 200px;max-width: 100%;overflow: auto;}div.sk-estimator input.sk-toggleable__control:checked~label.sk-toggleable__label {background-color: #d4ebff;}div.sk-label input.sk-toggleable__control:checked~label.sk-toggleable__label {background-color: #d4ebff;}input.sk-hidden--visually {border: 0;clip: rect(1px 1px 1px 1px);clip: rect(1px, 1px, 1px, 1px);height: 1px;margin: -1px;overflow: hidden;padding: 0;position: absolute;width: 1px;}div.sk-estimator {font-family: monospace;background-color: #f0f8ff;margin: 0.25em 0.25em;border: 1px dotted black;border-radius: 0.25em;box-sizing: border-box;}div.sk-estimator:hover {background-color: #d4ebff;}div.sk-parallel-item::after {content: \"\";width: 100%;border-bottom: 1px solid gray;flex-grow: 1;}div.sk-label:hover label.sk-toggleable__label {background-color: #d4ebff;}div.sk-serial::before {content: \"\";position: absolute;border-left: 1px solid gray;box-sizing: border-box;top: 2em;bottom: 0;left: 50%;}div.sk-serial {display: flex;flex-direction: column;align-items: center;background-color: white;}div.sk-item {z-index: 1;}div.sk-parallel {display: flex;align-items: stretch;justify-content: center;background-color: white;}div.sk-parallel-item {display: flex;flex-direction: column;position: relative;background-color: white;}div.sk-parallel-item:first-child::after {align-self: flex-end;width: 50%;}div.sk-parallel-item:last-child::after {align-self: flex-start;width: 50%;}div.sk-parallel-item:only-child::after {width: 0;}div.sk-dashed-wrapped {border: 1px dashed gray;margin: 0.2em;box-sizing: border-box;padding-bottom: 0.1em;background-color: white;position: relative;}div.sk-label label {font-family: monospace;font-weight: bold;background-color: white;display: inline-block;line-height: 1.2em;}div.sk-label-container {position: relative;z-index: 2;text-align: center;}div.sk-container {display: inline-block;position: relative;}</style><div class=\"sk-top-container\"><div class=\"sk-container\"><div class=\"sk-item sk-dashed-wrapped\"><div class=\"sk-label-container\"><div class=\"sk-label sk-toggleable\"><input class=\"sk-toggleable__control sk-hidden--visually\" id=\"878ad0a0-abb2-47f9-985b-206f0e5544b0\" type=\"checkbox\" ><label class=\"sk-toggleable__label\" for=\"878ad0a0-abb2-47f9-985b-206f0e5544b0\">Pipeline</label><div class=\"sk-toggleable__content\"><pre>Pipeline(steps=[('preprocessing',\n",
       "                 Pipeline(steps=[('preproc_inter',\n",
       "                                  FeatureUnion(transformer_list=[('artistpoptrans',\n",
       "                                                                  ArtistPopularityTransformer()),\n",
       "                                                                 ('year_calc',\n",
       "                                                                  FunctionTransformer(func=<function <lambda> at 0x7f63f120ff70>)),\n",
       "                                                                 ('preprocnum',\n",
       "                                                                  ColumnTransformer(transformers=[('num_transformer',\n",
       "                                                                                                   Pipeline(steps=[('scaler',\n",
       "                                                                                                                    StandardScaler())]),\n",
       "                                                                                                   <sklearn.compose._column_transformer.make_column_selector object at 0x7f63f147d880>)]))])),\n",
       "                                 ('scaler', StandardScaler())])),\n",
       "                ('linear_regression', ElasticNet())])</pre></div></div></div><div class=\"sk-serial\"><div class=\"sk-item\"><div class=\"sk-label-container\"><div class=\"sk-label sk-toggleable\"><input class=\"sk-toggleable__control sk-hidden--visually\" id=\"ea46de8d-6dbf-4182-a6ad-a421e5f27226\" type=\"checkbox\" ><label class=\"sk-toggleable__label\" for=\"ea46de8d-6dbf-4182-a6ad-a421e5f27226\">preprocessing: Pipeline</label><div class=\"sk-toggleable__content\"><pre>Pipeline(steps=[('preproc_inter',\n",
       "                 FeatureUnion(transformer_list=[('artistpoptrans',\n",
       "                                                 ArtistPopularityTransformer()),\n",
       "                                                ('year_calc',\n",
       "                                                 FunctionTransformer(func=<function <lambda> at 0x7f63f120ff70>)),\n",
       "                                                ('preprocnum',\n",
       "                                                 ColumnTransformer(transformers=[('num_transformer',\n",
       "                                                                                  Pipeline(steps=[('scaler',\n",
       "                                                                                                   StandardScaler())]),\n",
       "                                                                                  <sklearn.compose._column_transformer.make_column_selector object at 0x7f63f147d880>)]))])),\n",
       "                ('scaler', StandardScaler())])</pre></div></div></div><div class=\"sk-serial\"><div class=\"sk-item sk-dashed-wrapped\"><div class=\"sk-label-container\"><div class=\"sk-label sk-toggleable\"><input class=\"sk-toggleable__control sk-hidden--visually\" id=\"a5c91904-acb7-496a-86ae-785b7c564a2b\" type=\"checkbox\" ><label class=\"sk-toggleable__label\" for=\"a5c91904-acb7-496a-86ae-785b7c564a2b\">preproc_inter: FeatureUnion</label><div class=\"sk-toggleable__content\"><pre>FeatureUnion(transformer_list=[('artistpoptrans',\n",
       "                                ArtistPopularityTransformer()),\n",
       "                               ('year_calc',\n",
       "                                FunctionTransformer(func=<function <lambda> at 0x7f63f120ff70>)),\n",
       "                               ('preprocnum',\n",
       "                                ColumnTransformer(transformers=[('num_transformer',\n",
       "                                                                 Pipeline(steps=[('scaler',\n",
       "                                                                                  StandardScaler())]),\n",
       "                                                                 <sklearn.compose._column_transformer.make_column_selector object at 0x7f63f147d880>)]))])</pre></div></div></div><div class=\"sk-parallel\"><div class=\"sk-parallel-item\"><div class=\"sk-item\"><div class=\"sk-label-container\"><div class=\"sk-label sk-toggleable\"><label>artistpoptrans</label></div></div><div class=\"sk-serial\"><div class=\"sk-item\"><div class=\"sk-estimator sk-toggleable\"><input class=\"sk-toggleable__control sk-hidden--visually\" id=\"bfad5992-a888-46ef-a96e-3c608a1ae2e7\" type=\"checkbox\" ><label class=\"sk-toggleable__label\" for=\"bfad5992-a888-46ef-a96e-3c608a1ae2e7\">ArtistPopularityTransformer</label><div class=\"sk-toggleable__content\"><pre>ArtistPopularityTransformer()</pre></div></div></div></div></div></div><div class=\"sk-parallel-item\"><div class=\"sk-item\"><div class=\"sk-label-container\"><div class=\"sk-label sk-toggleable\"><label>year_calc</label></div></div><div class=\"sk-serial\"><div class=\"sk-item\"><div class=\"sk-estimator sk-toggleable\"><input class=\"sk-toggleable__control sk-hidden--visually\" id=\"4336409e-ef1e-4ad1-86a6-b92a1df13665\" type=\"checkbox\" ><label class=\"sk-toggleable__label\" for=\"4336409e-ef1e-4ad1-86a6-b92a1df13665\">FunctionTransformer</label><div class=\"sk-toggleable__content\"><pre>FunctionTransformer(func=<function <lambda> at 0x7f63f120ff70>)</pre></div></div></div></div></div></div><div class=\"sk-parallel-item\"><div class=\"sk-item\"><div class=\"sk-label-container\"><div class=\"sk-label sk-toggleable\"><label>preprocnum</label></div></div><div class=\"sk-serial\"><div class=\"sk-item sk-dashed-wrapped\"><div class=\"sk-parallel\"><div class=\"sk-parallel-item\"><div class=\"sk-item\"><div class=\"sk-label-container\"><div class=\"sk-label sk-toggleable\"><input class=\"sk-toggleable__control sk-hidden--visually\" id=\"47e9055d-b99d-48b8-84ea-b2597e3349cd\" type=\"checkbox\" ><label class=\"sk-toggleable__label\" for=\"47e9055d-b99d-48b8-84ea-b2597e3349cd\">num_transformer</label><div class=\"sk-toggleable__content\"><pre><sklearn.compose._column_transformer.make_column_selector object at 0x7f63f147d880></pre></div></div></div><div class=\"sk-serial\"><div class=\"sk-item\"><div class=\"sk-serial\"><div class=\"sk-item\"><div class=\"sk-estimator sk-toggleable\"><input class=\"sk-toggleable__control sk-hidden--visually\" id=\"9a1269f4-dee0-49ec-9d91-2dec4a12135d\" type=\"checkbox\" ><label class=\"sk-toggleable__label\" for=\"9a1269f4-dee0-49ec-9d91-2dec4a12135d\">StandardScaler</label><div class=\"sk-toggleable__content\"><pre>StandardScaler()</pre></div></div></div></div></div></div></div></div></div></div></div></div></div></div></div><div class=\"sk-item\"><div class=\"sk-estimator sk-toggleable\"><input class=\"sk-toggleable__control sk-hidden--visually\" id=\"e67b7291-960a-406d-8ea0-36f71acb345e\" type=\"checkbox\" ><label class=\"sk-toggleable__label\" for=\"e67b7291-960a-406d-8ea0-36f71acb345e\">StandardScaler</label><div class=\"sk-toggleable__content\"><pre>StandardScaler()</pre></div></div></div></div></div><div class=\"sk-item\"><div class=\"sk-estimator sk-toggleable\"><input class=\"sk-toggleable__control sk-hidden--visually\" id=\"14564abb-ac4a-4edf-a832-902356b5a38b\" type=\"checkbox\" ><label class=\"sk-toggleable__label\" for=\"14564abb-ac4a-4edf-a832-902356b5a38b\">ElasticNet</label><div class=\"sk-toggleable__content\"><pre>ElasticNet()</pre></div></div></div></div></div></div></div>"
      ],
      "text/plain": [
       "Pipeline(steps=[('preprocessing',\n",
       "                 Pipeline(steps=[('preproc_inter',\n",
       "                                  FeatureUnion(transformer_list=[('artistpoptrans',\n",
       "                                                                  ArtistPopularityTransformer()),\n",
       "                                                                 ('year_calc',\n",
       "                                                                  FunctionTransformer(func=<function <lambda> at 0x7f63f120ff70>)),\n",
       "                                                                 ('preprocnum',\n",
       "                                                                  ColumnTransformer(transformers=[('num_transformer',\n",
       "                                                                                                   Pipeline(steps=[('scaler',\n",
       "                                                                                                                    StandardScaler())]),\n",
       "                                                                                                   <sklearn.compose._column_transformer.make_column_selector object at 0x7f63f147d880>)]))])),\n",
       "                                 ('scaler', StandardScaler())])),\n",
       "                ('linear_regression', ElasticNet())])"
      ]
     },
     "execution_count": 170,
     "metadata": {},
     "output_type": "execute_result"
    }
   ],
   "source": [
    "final_pipe = Pipeline([\n",
    "    ('preprocessing', preproc),\n",
    "    ('linear_regression', ElasticNet())])\n",
    "final_pipe"
   ]
  },
  {
   "cell_type": "code",
   "execution_count": 171,
   "metadata": {},
   "outputs": [
    {
     "name": "stdout",
     "output_type": "stream",
     "text": [
      "Neg RMSE:  -14.005544853728978\n"
     ]
    }
   ],
   "source": [
    "cv_results = cross_validate(final_pipe, X, y, scoring = \"neg_root_mean_squared_error\", cv=5)\n",
    "print('Neg RMSE: ',cv_results['test_score'].mean())"
   ]
  },
  {
   "cell_type": "code",
   "execution_count": 172,
   "metadata": {
    "collapsed": true
   },
   "outputs": [
    {
     "data": {
      "text/plain": [
       "{'memory': None,\n",
       " 'steps': [('preprocessing', Pipeline(steps=[('preproc_inter',\n",
       "                    FeatureUnion(transformer_list=[('artistpoptrans',\n",
       "                                                    ArtistPopularityTransformer()),\n",
       "                                                   ('year_calc',\n",
       "                                                    FunctionTransformer(func=<function <lambda> at 0x7f63f120ff70>)),\n",
       "                                                   ('preprocnum',\n",
       "                                                    ColumnTransformer(transformers=[('num_transformer',\n",
       "                                                                                     Pipeline(steps=[('scaler',\n",
       "                                                                                                      StandardScaler())]),\n",
       "                                                                                     <sklearn.compose._column_transformer.make_column_selector object at 0x7f63f147d880>)]))])),\n",
       "                   ('scaler', StandardScaler())])),\n",
       "  ('linear_regression', ElasticNet())],\n",
       " 'verbose': False,\n",
       " 'preprocessing': Pipeline(steps=[('preproc_inter',\n",
       "                  FeatureUnion(transformer_list=[('artistpoptrans',\n",
       "                                                  ArtistPopularityTransformer()),\n",
       "                                                 ('year_calc',\n",
       "                                                  FunctionTransformer(func=<function <lambda> at 0x7f63f120ff70>)),\n",
       "                                                 ('preprocnum',\n",
       "                                                  ColumnTransformer(transformers=[('num_transformer',\n",
       "                                                                                   Pipeline(steps=[('scaler',\n",
       "                                                                                                    StandardScaler())]),\n",
       "                                                                                   <sklearn.compose._column_transformer.make_column_selector object at 0x7f63f147d880>)]))])),\n",
       "                 ('scaler', StandardScaler())]),\n",
       " 'linear_regression': ElasticNet(),\n",
       " 'preprocessing__memory': None,\n",
       " 'preprocessing__steps': [('preproc_inter',\n",
       "   FeatureUnion(transformer_list=[('artistpoptrans',\n",
       "                                   ArtistPopularityTransformer()),\n",
       "                                  ('year_calc',\n",
       "                                   FunctionTransformer(func=<function <lambda> at 0x7f63f120ff70>)),\n",
       "                                  ('preprocnum',\n",
       "                                   ColumnTransformer(transformers=[('num_transformer',\n",
       "                                                                    Pipeline(steps=[('scaler',\n",
       "                                                                                     StandardScaler())]),\n",
       "                                                                    <sklearn.compose._column_transformer.make_column_selector object at 0x7f63f147d880>)]))])),\n",
       "  ('scaler', StandardScaler())],\n",
       " 'preprocessing__verbose': False,\n",
       " 'preprocessing__preproc_inter': FeatureUnion(transformer_list=[('artistpoptrans',\n",
       "                                 ArtistPopularityTransformer()),\n",
       "                                ('year_calc',\n",
       "                                 FunctionTransformer(func=<function <lambda> at 0x7f63f120ff70>)),\n",
       "                                ('preprocnum',\n",
       "                                 ColumnTransformer(transformers=[('num_transformer',\n",
       "                                                                  Pipeline(steps=[('scaler',\n",
       "                                                                                   StandardScaler())]),\n",
       "                                                                  <sklearn.compose._column_transformer.make_column_selector object at 0x7f63f147d880>)]))]),\n",
       " 'preprocessing__scaler': StandardScaler(),\n",
       " 'preprocessing__preproc_inter__n_jobs': None,\n",
       " 'preprocessing__preproc_inter__transformer_list': [('artistpoptrans',\n",
       "   ArtistPopularityTransformer()),\n",
       "  ('year_calc',\n",
       "   FunctionTransformer(func=<function <lambda> at 0x7f63f120ff70>)),\n",
       "  ('preprocnum',\n",
       "   ColumnTransformer(transformers=[('num_transformer',\n",
       "                                    Pipeline(steps=[('scaler', StandardScaler())]),\n",
       "                                    <sklearn.compose._column_transformer.make_column_selector object at 0x7f63f147d880>)]))],\n",
       " 'preprocessing__preproc_inter__transformer_weights': None,\n",
       " 'preprocessing__preproc_inter__verbose': False,\n",
       " 'preprocessing__preproc_inter__artistpoptrans': ArtistPopularityTransformer(),\n",
       " 'preprocessing__preproc_inter__year_calc': FunctionTransformer(func=<function <lambda> at 0x7f63f120ff70>),\n",
       " 'preprocessing__preproc_inter__preprocnum': ColumnTransformer(transformers=[('num_transformer',\n",
       "                                  Pipeline(steps=[('scaler', StandardScaler())]),\n",
       "                                  <sklearn.compose._column_transformer.make_column_selector object at 0x7f63f147d880>)]),\n",
       " 'preprocessing__preproc_inter__year_calc__accept_sparse': False,\n",
       " 'preprocessing__preproc_inter__year_calc__check_inverse': True,\n",
       " 'preprocessing__preproc_inter__year_calc__func': <function __main__.<lambda>(data)>,\n",
       " 'preprocessing__preproc_inter__year_calc__inv_kw_args': None,\n",
       " 'preprocessing__preproc_inter__year_calc__inverse_func': None,\n",
       " 'preprocessing__preproc_inter__year_calc__kw_args': None,\n",
       " 'preprocessing__preproc_inter__year_calc__validate': False,\n",
       " 'preprocessing__preproc_inter__preprocnum__n_jobs': None,\n",
       " 'preprocessing__preproc_inter__preprocnum__remainder': 'drop',\n",
       " 'preprocessing__preproc_inter__preprocnum__sparse_threshold': 0.3,\n",
       " 'preprocessing__preproc_inter__preprocnum__transformer_weights': None,\n",
       " 'preprocessing__preproc_inter__preprocnum__transformers': [('num_transformer',\n",
       "   Pipeline(steps=[('scaler', StandardScaler())]),\n",
       "   <sklearn.compose._column_transformer.make_column_selector at 0x7f63f147d880>)],\n",
       " 'preprocessing__preproc_inter__preprocnum__verbose': False,\n",
       " 'preprocessing__preproc_inter__preprocnum__num_transformer': Pipeline(steps=[('scaler', StandardScaler())]),\n",
       " 'preprocessing__preproc_inter__preprocnum__num_transformer__memory': None,\n",
       " 'preprocessing__preproc_inter__preprocnum__num_transformer__steps': [('scaler',\n",
       "   StandardScaler())],\n",
       " 'preprocessing__preproc_inter__preprocnum__num_transformer__verbose': False,\n",
       " 'preprocessing__preproc_inter__preprocnum__num_transformer__scaler': StandardScaler(),\n",
       " 'preprocessing__preproc_inter__preprocnum__num_transformer__scaler__copy': True,\n",
       " 'preprocessing__preproc_inter__preprocnum__num_transformer__scaler__with_mean': True,\n",
       " 'preprocessing__preproc_inter__preprocnum__num_transformer__scaler__with_std': True,\n",
       " 'preprocessing__scaler__copy': True,\n",
       " 'preprocessing__scaler__with_mean': True,\n",
       " 'preprocessing__scaler__with_std': True,\n",
       " 'linear_regression__alpha': 1.0,\n",
       " 'linear_regression__copy_X': True,\n",
       " 'linear_regression__fit_intercept': True,\n",
       " 'linear_regression__l1_ratio': 0.5,\n",
       " 'linear_regression__max_iter': 1000,\n",
       " 'linear_regression__normalize': False,\n",
       " 'linear_regression__positive': False,\n",
       " 'linear_regression__precompute': False,\n",
       " 'linear_regression__random_state': None,\n",
       " 'linear_regression__selection': 'cyclic',\n",
       " 'linear_regression__tol': 0.0001,\n",
       " 'linear_regression__warm_start': False}"
      ]
     },
     "execution_count": 172,
     "metadata": {},
     "output_type": "execute_result"
    }
   ],
   "source": [
    "final_pipe.get_params()"
   ]
  },
  {
   "cell_type": "code",
   "execution_count": 173,
   "metadata": {},
   "outputs": [
    {
     "data": {
      "text/plain": [
       "{'linear_regression__alpha': 0.15, 'linear_regression__l1_ratio': 0.1}"
      ]
     },
     "execution_count": 173,
     "metadata": {},
     "output_type": "execute_result"
    }
   ],
   "source": [
    "from sklearn.model_selection import GridSearchCV\n",
    "\n",
    "# Instanciate grid search\n",
    "grid_search = GridSearchCV(\n",
    "    final_pipe, \n",
    "    param_grid={\n",
    "        'linear_regression__alpha': [0.05, 0.1, 0.15],\n",
    "        'linear_regression__l1_ratio': [0.1, 0.2, 0.3]},\n",
    "    cv=5,\n",
    "    scoring=\"neg_root_mean_squared_error\")\n",
    "\n",
    "grid_search.fit(X, y)\n",
    "grid_search.best_params_"
   ]
  },
  {
   "cell_type": "code",
   "execution_count": 174,
   "metadata": {},
   "outputs": [
    {
     "data": {
      "text/plain": [
       "-13.309793641587657"
      ]
     },
     "execution_count": 174,
     "metadata": {},
     "output_type": "execute_result"
    }
   ],
   "source": [
    "grid_search.best_score_"
   ]
  },
  {
   "cell_type": "code",
   "execution_count": 175,
   "metadata": {},
   "outputs": [],
   "source": [
    "score_linear=grid_search.best_score_"
   ]
  },
  {
   "cell_type": "markdown",
   "metadata": {},
   "source": [
    "### Ensemble"
   ]
  },
  {
   "cell_type": "code",
   "execution_count": 159,
   "metadata": {},
   "outputs": [],
   "source": [
    "from sklearn.ensemble import GradientBoostingRegressor"
   ]
  },
  {
   "cell_type": "code",
   "execution_count": 160,
   "metadata": {},
   "outputs": [
    {
     "data": {
      "text/html": [
       "<style>div.sk-top-container {color: black;background-color: white;}div.sk-toggleable {background-color: white;}label.sk-toggleable__label {cursor: pointer;display: block;width: 100%;margin-bottom: 0;padding: 0.2em 0.3em;box-sizing: border-box;text-align: center;}div.sk-toggleable__content {max-height: 0;max-width: 0;overflow: hidden;text-align: left;background-color: #f0f8ff;}div.sk-toggleable__content pre {margin: 0.2em;color: black;border-radius: 0.25em;background-color: #f0f8ff;}input.sk-toggleable__control:checked~div.sk-toggleable__content {max-height: 200px;max-width: 100%;overflow: auto;}div.sk-estimator input.sk-toggleable__control:checked~label.sk-toggleable__label {background-color: #d4ebff;}div.sk-label input.sk-toggleable__control:checked~label.sk-toggleable__label {background-color: #d4ebff;}input.sk-hidden--visually {border: 0;clip: rect(1px 1px 1px 1px);clip: rect(1px, 1px, 1px, 1px);height: 1px;margin: -1px;overflow: hidden;padding: 0;position: absolute;width: 1px;}div.sk-estimator {font-family: monospace;background-color: #f0f8ff;margin: 0.25em 0.25em;border: 1px dotted black;border-radius: 0.25em;box-sizing: border-box;}div.sk-estimator:hover {background-color: #d4ebff;}div.sk-parallel-item::after {content: \"\";width: 100%;border-bottom: 1px solid gray;flex-grow: 1;}div.sk-label:hover label.sk-toggleable__label {background-color: #d4ebff;}div.sk-serial::before {content: \"\";position: absolute;border-left: 1px solid gray;box-sizing: border-box;top: 2em;bottom: 0;left: 50%;}div.sk-serial {display: flex;flex-direction: column;align-items: center;background-color: white;}div.sk-item {z-index: 1;}div.sk-parallel {display: flex;align-items: stretch;justify-content: center;background-color: white;}div.sk-parallel-item {display: flex;flex-direction: column;position: relative;background-color: white;}div.sk-parallel-item:first-child::after {align-self: flex-end;width: 50%;}div.sk-parallel-item:last-child::after {align-self: flex-start;width: 50%;}div.sk-parallel-item:only-child::after {width: 0;}div.sk-dashed-wrapped {border: 1px dashed gray;margin: 0.2em;box-sizing: border-box;padding-bottom: 0.1em;background-color: white;position: relative;}div.sk-label label {font-family: monospace;font-weight: bold;background-color: white;display: inline-block;line-height: 1.2em;}div.sk-label-container {position: relative;z-index: 2;text-align: center;}div.sk-container {display: inline-block;position: relative;}</style><div class=\"sk-top-container\"><div class=\"sk-container\"><div class=\"sk-item sk-dashed-wrapped\"><div class=\"sk-label-container\"><div class=\"sk-label sk-toggleable\"><input class=\"sk-toggleable__control sk-hidden--visually\" id=\"be2bba14-4b9a-43fc-ab7b-ee0489632dd2\" type=\"checkbox\" ><label class=\"sk-toggleable__label\" for=\"be2bba14-4b9a-43fc-ab7b-ee0489632dd2\">Pipeline</label><div class=\"sk-toggleable__content\"><pre>Pipeline(steps=[('preprocessing',\n",
       "                 Pipeline(steps=[('preproc_inter',\n",
       "                                  FeatureUnion(transformer_list=[('artistpoptrans',\n",
       "                                                                  ArtistPopularityTransformer()),\n",
       "                                                                 ('year_calc',\n",
       "                                                                  FunctionTransformer(func=<function <lambda> at 0x7f63f120ff70>)),\n",
       "                                                                 ('preprocnum',\n",
       "                                                                  ColumnTransformer(transformers=[('num_transformer',\n",
       "                                                                                                   Pipeline(steps=[('scaler',\n",
       "                                                                                                                    StandardScaler())]),\n",
       "                                                                                                   <sklearn.compose._column_transformer.make_column_selector object at 0x7f63f147d880>)]))])),\n",
       "                                 ('scaler', StandardScaler())])),\n",
       "                ('GradientBoost', GradientBoostingRegressor())])</pre></div></div></div><div class=\"sk-serial\"><div class=\"sk-item\"><div class=\"sk-label-container\"><div class=\"sk-label sk-toggleable\"><input class=\"sk-toggleable__control sk-hidden--visually\" id=\"0965ca59-8703-49d0-94a2-015a8ae72c94\" type=\"checkbox\" ><label class=\"sk-toggleable__label\" for=\"0965ca59-8703-49d0-94a2-015a8ae72c94\">preprocessing: Pipeline</label><div class=\"sk-toggleable__content\"><pre>Pipeline(steps=[('preproc_inter',\n",
       "                 FeatureUnion(transformer_list=[('artistpoptrans',\n",
       "                                                 ArtistPopularityTransformer()),\n",
       "                                                ('year_calc',\n",
       "                                                 FunctionTransformer(func=<function <lambda> at 0x7f63f120ff70>)),\n",
       "                                                ('preprocnum',\n",
       "                                                 ColumnTransformer(transformers=[('num_transformer',\n",
       "                                                                                  Pipeline(steps=[('scaler',\n",
       "                                                                                                   StandardScaler())]),\n",
       "                                                                                  <sklearn.compose._column_transformer.make_column_selector object at 0x7f63f147d880>)]))])),\n",
       "                ('scaler', StandardScaler())])</pre></div></div></div><div class=\"sk-serial\"><div class=\"sk-item sk-dashed-wrapped\"><div class=\"sk-label-container\"><div class=\"sk-label sk-toggleable\"><input class=\"sk-toggleable__control sk-hidden--visually\" id=\"8eba52eb-ac82-4ccb-944d-45173474432a\" type=\"checkbox\" ><label class=\"sk-toggleable__label\" for=\"8eba52eb-ac82-4ccb-944d-45173474432a\">preproc_inter: FeatureUnion</label><div class=\"sk-toggleable__content\"><pre>FeatureUnion(transformer_list=[('artistpoptrans',\n",
       "                                ArtistPopularityTransformer()),\n",
       "                               ('year_calc',\n",
       "                                FunctionTransformer(func=<function <lambda> at 0x7f63f120ff70>)),\n",
       "                               ('preprocnum',\n",
       "                                ColumnTransformer(transformers=[('num_transformer',\n",
       "                                                                 Pipeline(steps=[('scaler',\n",
       "                                                                                  StandardScaler())]),\n",
       "                                                                 <sklearn.compose._column_transformer.make_column_selector object at 0x7f63f147d880>)]))])</pre></div></div></div><div class=\"sk-parallel\"><div class=\"sk-parallel-item\"><div class=\"sk-item\"><div class=\"sk-label-container\"><div class=\"sk-label sk-toggleable\"><label>artistpoptrans</label></div></div><div class=\"sk-serial\"><div class=\"sk-item\"><div class=\"sk-estimator sk-toggleable\"><input class=\"sk-toggleable__control sk-hidden--visually\" id=\"67579d69-3caf-4ba4-b2ac-f512049f7260\" type=\"checkbox\" ><label class=\"sk-toggleable__label\" for=\"67579d69-3caf-4ba4-b2ac-f512049f7260\">ArtistPopularityTransformer</label><div class=\"sk-toggleable__content\"><pre>ArtistPopularityTransformer()</pre></div></div></div></div></div></div><div class=\"sk-parallel-item\"><div class=\"sk-item\"><div class=\"sk-label-container\"><div class=\"sk-label sk-toggleable\"><label>year_calc</label></div></div><div class=\"sk-serial\"><div class=\"sk-item\"><div class=\"sk-estimator sk-toggleable\"><input class=\"sk-toggleable__control sk-hidden--visually\" id=\"38c6e5a6-a1b8-4146-b3a9-72276c3b4ae4\" type=\"checkbox\" ><label class=\"sk-toggleable__label\" for=\"38c6e5a6-a1b8-4146-b3a9-72276c3b4ae4\">FunctionTransformer</label><div class=\"sk-toggleable__content\"><pre>FunctionTransformer(func=<function <lambda> at 0x7f63f120ff70>)</pre></div></div></div></div></div></div><div class=\"sk-parallel-item\"><div class=\"sk-item\"><div class=\"sk-label-container\"><div class=\"sk-label sk-toggleable\"><label>preprocnum</label></div></div><div class=\"sk-serial\"><div class=\"sk-item sk-dashed-wrapped\"><div class=\"sk-parallel\"><div class=\"sk-parallel-item\"><div class=\"sk-item\"><div class=\"sk-label-container\"><div class=\"sk-label sk-toggleable\"><input class=\"sk-toggleable__control sk-hidden--visually\" id=\"18b21966-e175-43cd-8ed5-3109ebe3002a\" type=\"checkbox\" ><label class=\"sk-toggleable__label\" for=\"18b21966-e175-43cd-8ed5-3109ebe3002a\">num_transformer</label><div class=\"sk-toggleable__content\"><pre><sklearn.compose._column_transformer.make_column_selector object at 0x7f63f147d880></pre></div></div></div><div class=\"sk-serial\"><div class=\"sk-item\"><div class=\"sk-serial\"><div class=\"sk-item\"><div class=\"sk-estimator sk-toggleable\"><input class=\"sk-toggleable__control sk-hidden--visually\" id=\"2eaa2212-3bfb-4584-8280-10a1c882dc25\" type=\"checkbox\" ><label class=\"sk-toggleable__label\" for=\"2eaa2212-3bfb-4584-8280-10a1c882dc25\">StandardScaler</label><div class=\"sk-toggleable__content\"><pre>StandardScaler()</pre></div></div></div></div></div></div></div></div></div></div></div></div></div></div></div><div class=\"sk-item\"><div class=\"sk-estimator sk-toggleable\"><input class=\"sk-toggleable__control sk-hidden--visually\" id=\"70929f1b-13ce-4716-9163-3cd852d92b9a\" type=\"checkbox\" ><label class=\"sk-toggleable__label\" for=\"70929f1b-13ce-4716-9163-3cd852d92b9a\">StandardScaler</label><div class=\"sk-toggleable__content\"><pre>StandardScaler()</pre></div></div></div></div></div><div class=\"sk-item\"><div class=\"sk-estimator sk-toggleable\"><input class=\"sk-toggleable__control sk-hidden--visually\" id=\"cd5fd64c-efa7-4589-ac80-4a98ed591352\" type=\"checkbox\" ><label class=\"sk-toggleable__label\" for=\"cd5fd64c-efa7-4589-ac80-4a98ed591352\">GradientBoostingRegressor</label><div class=\"sk-toggleable__content\"><pre>GradientBoostingRegressor()</pre></div></div></div></div></div></div></div>"
      ],
      "text/plain": [
       "Pipeline(steps=[('preprocessing',\n",
       "                 Pipeline(steps=[('preproc_inter',\n",
       "                                  FeatureUnion(transformer_list=[('artistpoptrans',\n",
       "                                                                  ArtistPopularityTransformer()),\n",
       "                                                                 ('year_calc',\n",
       "                                                                  FunctionTransformer(func=<function <lambda> at 0x7f63f120ff70>)),\n",
       "                                                                 ('preprocnum',\n",
       "                                                                  ColumnTransformer(transformers=[('num_transformer',\n",
       "                                                                                                   Pipeline(steps=[('scaler',\n",
       "                                                                                                                    StandardScaler())]),\n",
       "                                                                                                   <sklearn.compose._column_transformer.make_column_selector object at 0x7f63f147d880>)]))])),\n",
       "                                 ('scaler', StandardScaler())])),\n",
       "                ('GradientBoost', GradientBoostingRegressor())])"
      ]
     },
     "execution_count": 160,
     "metadata": {},
     "output_type": "execute_result"
    }
   ],
   "source": [
    "final_pipe_2 = Pipeline([\n",
    "    ('preprocessing', preproc),\n",
    "    ('GradientBoost', GradientBoostingRegressor())])\n",
    "final_pipe_2"
   ]
  },
  {
   "cell_type": "code",
   "execution_count": 161,
   "metadata": {},
   "outputs": [
    {
     "name": "stdout",
     "output_type": "stream",
     "text": [
      "Neg RMSE:  -12.478929695470399\n"
     ]
    }
   ],
   "source": [
    "cv_results = cross_validate(final_pipe_2, X, y, scoring = \"neg_root_mean_squared_error\", cv=5)\n",
    "print('Neg RMSE: ',cv_results['test_score'].mean())"
   ]
  },
  {
   "cell_type": "code",
   "execution_count": 162,
   "metadata": {
    "collapsed": true
   },
   "outputs": [
    {
     "data": {
      "text/plain": [
       "{'memory': None,\n",
       " 'steps': [('preprocessing', Pipeline(steps=[('preproc_inter',\n",
       "                    FeatureUnion(transformer_list=[('artistpoptrans',\n",
       "                                                    ArtistPopularityTransformer()),\n",
       "                                                   ('year_calc',\n",
       "                                                    FunctionTransformer(func=<function <lambda> at 0x7f63f120ff70>)),\n",
       "                                                   ('preprocnum',\n",
       "                                                    ColumnTransformer(transformers=[('num_transformer',\n",
       "                                                                                     Pipeline(steps=[('scaler',\n",
       "                                                                                                      StandardScaler())]),\n",
       "                                                                                     <sklearn.compose._column_transformer.make_column_selector object at 0x7f63f147d880>)]))])),\n",
       "                   ('scaler', StandardScaler())])),\n",
       "  ('GradientBoost', GradientBoostingRegressor())],\n",
       " 'verbose': False,\n",
       " 'preprocessing': Pipeline(steps=[('preproc_inter',\n",
       "                  FeatureUnion(transformer_list=[('artistpoptrans',\n",
       "                                                  ArtistPopularityTransformer()),\n",
       "                                                 ('year_calc',\n",
       "                                                  FunctionTransformer(func=<function <lambda> at 0x7f63f120ff70>)),\n",
       "                                                 ('preprocnum',\n",
       "                                                  ColumnTransformer(transformers=[('num_transformer',\n",
       "                                                                                   Pipeline(steps=[('scaler',\n",
       "                                                                                                    StandardScaler())]),\n",
       "                                                                                   <sklearn.compose._column_transformer.make_column_selector object at 0x7f63f147d880>)]))])),\n",
       "                 ('scaler', StandardScaler())]),\n",
       " 'GradientBoost': GradientBoostingRegressor(),\n",
       " 'preprocessing__memory': None,\n",
       " 'preprocessing__steps': [('preproc_inter',\n",
       "   FeatureUnion(transformer_list=[('artistpoptrans',\n",
       "                                   ArtistPopularityTransformer()),\n",
       "                                  ('year_calc',\n",
       "                                   FunctionTransformer(func=<function <lambda> at 0x7f63f120ff70>)),\n",
       "                                  ('preprocnum',\n",
       "                                   ColumnTransformer(transformers=[('num_transformer',\n",
       "                                                                    Pipeline(steps=[('scaler',\n",
       "                                                                                     StandardScaler())]),\n",
       "                                                                    <sklearn.compose._column_transformer.make_column_selector object at 0x7f63f147d880>)]))])),\n",
       "  ('scaler', StandardScaler())],\n",
       " 'preprocessing__verbose': False,\n",
       " 'preprocessing__preproc_inter': FeatureUnion(transformer_list=[('artistpoptrans',\n",
       "                                 ArtistPopularityTransformer()),\n",
       "                                ('year_calc',\n",
       "                                 FunctionTransformer(func=<function <lambda> at 0x7f63f120ff70>)),\n",
       "                                ('preprocnum',\n",
       "                                 ColumnTransformer(transformers=[('num_transformer',\n",
       "                                                                  Pipeline(steps=[('scaler',\n",
       "                                                                                   StandardScaler())]),\n",
       "                                                                  <sklearn.compose._column_transformer.make_column_selector object at 0x7f63f147d880>)]))]),\n",
       " 'preprocessing__scaler': StandardScaler(),\n",
       " 'preprocessing__preproc_inter__n_jobs': None,\n",
       " 'preprocessing__preproc_inter__transformer_list': [('artistpoptrans',\n",
       "   ArtistPopularityTransformer()),\n",
       "  ('year_calc',\n",
       "   FunctionTransformer(func=<function <lambda> at 0x7f63f120ff70>)),\n",
       "  ('preprocnum',\n",
       "   ColumnTransformer(transformers=[('num_transformer',\n",
       "                                    Pipeline(steps=[('scaler', StandardScaler())]),\n",
       "                                    <sklearn.compose._column_transformer.make_column_selector object at 0x7f63f147d880>)]))],\n",
       " 'preprocessing__preproc_inter__transformer_weights': None,\n",
       " 'preprocessing__preproc_inter__verbose': False,\n",
       " 'preprocessing__preproc_inter__artistpoptrans': ArtistPopularityTransformer(),\n",
       " 'preprocessing__preproc_inter__year_calc': FunctionTransformer(func=<function <lambda> at 0x7f63f120ff70>),\n",
       " 'preprocessing__preproc_inter__preprocnum': ColumnTransformer(transformers=[('num_transformer',\n",
       "                                  Pipeline(steps=[('scaler', StandardScaler())]),\n",
       "                                  <sklearn.compose._column_transformer.make_column_selector object at 0x7f63f147d880>)]),\n",
       " 'preprocessing__preproc_inter__year_calc__accept_sparse': False,\n",
       " 'preprocessing__preproc_inter__year_calc__check_inverse': True,\n",
       " 'preprocessing__preproc_inter__year_calc__func': <function __main__.<lambda>(data)>,\n",
       " 'preprocessing__preproc_inter__year_calc__inv_kw_args': None,\n",
       " 'preprocessing__preproc_inter__year_calc__inverse_func': None,\n",
       " 'preprocessing__preproc_inter__year_calc__kw_args': None,\n",
       " 'preprocessing__preproc_inter__year_calc__validate': False,\n",
       " 'preprocessing__preproc_inter__preprocnum__n_jobs': None,\n",
       " 'preprocessing__preproc_inter__preprocnum__remainder': 'drop',\n",
       " 'preprocessing__preproc_inter__preprocnum__sparse_threshold': 0.3,\n",
       " 'preprocessing__preproc_inter__preprocnum__transformer_weights': None,\n",
       " 'preprocessing__preproc_inter__preprocnum__transformers': [('num_transformer',\n",
       "   Pipeline(steps=[('scaler', StandardScaler())]),\n",
       "   <sklearn.compose._column_transformer.make_column_selector at 0x7f63f147d880>)],\n",
       " 'preprocessing__preproc_inter__preprocnum__verbose': False,\n",
       " 'preprocessing__preproc_inter__preprocnum__num_transformer': Pipeline(steps=[('scaler', StandardScaler())]),\n",
       " 'preprocessing__preproc_inter__preprocnum__num_transformer__memory': None,\n",
       " 'preprocessing__preproc_inter__preprocnum__num_transformer__steps': [('scaler',\n",
       "   StandardScaler())],\n",
       " 'preprocessing__preproc_inter__preprocnum__num_transformer__verbose': False,\n",
       " 'preprocessing__preproc_inter__preprocnum__num_transformer__scaler': StandardScaler(),\n",
       " 'preprocessing__preproc_inter__preprocnum__num_transformer__scaler__copy': True,\n",
       " 'preprocessing__preproc_inter__preprocnum__num_transformer__scaler__with_mean': True,\n",
       " 'preprocessing__preproc_inter__preprocnum__num_transformer__scaler__with_std': True,\n",
       " 'preprocessing__scaler__copy': True,\n",
       " 'preprocessing__scaler__with_mean': True,\n",
       " 'preprocessing__scaler__with_std': True,\n",
       " 'GradientBoost__alpha': 0.9,\n",
       " 'GradientBoost__ccp_alpha': 0.0,\n",
       " 'GradientBoost__criterion': 'friedman_mse',\n",
       " 'GradientBoost__init': None,\n",
       " 'GradientBoost__learning_rate': 0.1,\n",
       " 'GradientBoost__loss': 'ls',\n",
       " 'GradientBoost__max_depth': 3,\n",
       " 'GradientBoost__max_features': None,\n",
       " 'GradientBoost__max_leaf_nodes': None,\n",
       " 'GradientBoost__min_impurity_decrease': 0.0,\n",
       " 'GradientBoost__min_impurity_split': None,\n",
       " 'GradientBoost__min_samples_leaf': 1,\n",
       " 'GradientBoost__min_samples_split': 2,\n",
       " 'GradientBoost__min_weight_fraction_leaf': 0.0,\n",
       " 'GradientBoost__n_estimators': 100,\n",
       " 'GradientBoost__n_iter_no_change': None,\n",
       " 'GradientBoost__random_state': None,\n",
       " 'GradientBoost__subsample': 1.0,\n",
       " 'GradientBoost__tol': 0.0001,\n",
       " 'GradientBoost__validation_fraction': 0.1,\n",
       " 'GradientBoost__verbose': 0,\n",
       " 'GradientBoost__warm_start': False}"
      ]
     },
     "execution_count": 162,
     "metadata": {},
     "output_type": "execute_result"
    }
   ],
   "source": [
    "final_pipe_2.get_params()"
   ]
  },
  {
   "cell_type": "code",
   "execution_count": 164,
   "metadata": {},
   "outputs": [
    {
     "data": {
      "text/plain": [
       "{'GradientBoost__learning_rate': 0.2, 'GradientBoost__n_estimators': 150}"
      ]
     },
     "execution_count": 164,
     "metadata": {},
     "output_type": "execute_result"
    }
   ],
   "source": [
    "from sklearn.model_selection import GridSearchCV\n",
    "\n",
    "# Instanciate grid search\n",
    "grid_search = GridSearchCV(\n",
    "    final_pipe_2, \n",
    "    param_grid={\n",
    "        'GradientBoost__n_estimators': [50, 100, 150],\n",
    "        'GradientBoost__learning_rate': [0.05, 0.1, 0.2]},\n",
    "    cv=5,\n",
    "    scoring=\"neg_root_mean_squared_error\")\n",
    "\n",
    "grid_search.fit(X, y)\n",
    "grid_search.best_params_"
   ]
  },
  {
   "cell_type": "code",
   "execution_count": 168,
   "metadata": {},
   "outputs": [
    {
     "data": {
      "text/plain": [
       "-12.25585050949678"
      ]
     },
     "execution_count": 168,
     "metadata": {},
     "output_type": "execute_result"
    }
   ],
   "source": [
    "grid_search.best_score_"
   ]
  },
  {
   "cell_type": "code",
   "execution_count": 169,
   "metadata": {},
   "outputs": [],
   "source": [
    "score_ensemble=grid_search.best_score_"
   ]
  },
  {
   "cell_type": "markdown",
   "metadata": {},
   "source": [
    "🧪 **Run the following cells to save your results**"
   ]
  },
  {
   "cell_type": "code",
   "execution_count": 176,
   "metadata": {},
   "outputs": [
    {
     "data": {
      "text/plain": [
       "-13.309793641587657"
      ]
     },
     "execution_count": 176,
     "metadata": {},
     "output_type": "execute_result"
    }
   ],
   "source": [
    "score_linear"
   ]
  },
  {
   "cell_type": "code",
   "execution_count": 177,
   "metadata": {},
   "outputs": [
    {
     "data": {
      "text/plain": [
       "-12.25585050949678"
      ]
     },
     "execution_count": 177,
     "metadata": {},
     "output_type": "execute_result"
    }
   ],
   "source": [
    "score_ensemble"
   ]
  },
  {
   "cell_type": "code",
   "execution_count": 165,
   "metadata": {},
   "outputs": [],
   "source": [
    "pipe_linear=final_pipe\n",
    "pipe_ensemble=final_pipe_2"
   ]
  },
  {
   "cell_type": "code",
   "execution_count": 166,
   "metadata": {},
   "outputs": [
    {
     "data": {
      "text/html": [
       "<style>div.sk-top-container {color: black;background-color: white;}div.sk-toggleable {background-color: white;}label.sk-toggleable__label {cursor: pointer;display: block;width: 100%;margin-bottom: 0;padding: 0.2em 0.3em;box-sizing: border-box;text-align: center;}div.sk-toggleable__content {max-height: 0;max-width: 0;overflow: hidden;text-align: left;background-color: #f0f8ff;}div.sk-toggleable__content pre {margin: 0.2em;color: black;border-radius: 0.25em;background-color: #f0f8ff;}input.sk-toggleable__control:checked~div.sk-toggleable__content {max-height: 200px;max-width: 100%;overflow: auto;}div.sk-estimator input.sk-toggleable__control:checked~label.sk-toggleable__label {background-color: #d4ebff;}div.sk-label input.sk-toggleable__control:checked~label.sk-toggleable__label {background-color: #d4ebff;}input.sk-hidden--visually {border: 0;clip: rect(1px 1px 1px 1px);clip: rect(1px, 1px, 1px, 1px);height: 1px;margin: -1px;overflow: hidden;padding: 0;position: absolute;width: 1px;}div.sk-estimator {font-family: monospace;background-color: #f0f8ff;margin: 0.25em 0.25em;border: 1px dotted black;border-radius: 0.25em;box-sizing: border-box;}div.sk-estimator:hover {background-color: #d4ebff;}div.sk-parallel-item::after {content: \"\";width: 100%;border-bottom: 1px solid gray;flex-grow: 1;}div.sk-label:hover label.sk-toggleable__label {background-color: #d4ebff;}div.sk-serial::before {content: \"\";position: absolute;border-left: 1px solid gray;box-sizing: border-box;top: 2em;bottom: 0;left: 50%;}div.sk-serial {display: flex;flex-direction: column;align-items: center;background-color: white;}div.sk-item {z-index: 1;}div.sk-parallel {display: flex;align-items: stretch;justify-content: center;background-color: white;}div.sk-parallel-item {display: flex;flex-direction: column;position: relative;background-color: white;}div.sk-parallel-item:first-child::after {align-self: flex-end;width: 50%;}div.sk-parallel-item:last-child::after {align-self: flex-start;width: 50%;}div.sk-parallel-item:only-child::after {width: 0;}div.sk-dashed-wrapped {border: 1px dashed gray;margin: 0.2em;box-sizing: border-box;padding-bottom: 0.1em;background-color: white;position: relative;}div.sk-label label {font-family: monospace;font-weight: bold;background-color: white;display: inline-block;line-height: 1.2em;}div.sk-label-container {position: relative;z-index: 2;text-align: center;}div.sk-container {display: inline-block;position: relative;}</style><div class=\"sk-top-container\"><div class=\"sk-container\"><div class=\"sk-item sk-dashed-wrapped\"><div class=\"sk-label-container\"><div class=\"sk-label sk-toggleable\"><input class=\"sk-toggleable__control sk-hidden--visually\" id=\"86372d08-a2d3-439a-b98f-6d1c91c2832d\" type=\"checkbox\" ><label class=\"sk-toggleable__label\" for=\"86372d08-a2d3-439a-b98f-6d1c91c2832d\">Pipeline</label><div class=\"sk-toggleable__content\"><pre>Pipeline(steps=[('preprocessing',\n",
       "                 Pipeline(steps=[('preproc_inter',\n",
       "                                  FeatureUnion(transformer_list=[('artistpoptrans',\n",
       "                                                                  ArtistPopularityTransformer()),\n",
       "                                                                 ('year_calc',\n",
       "                                                                  FunctionTransformer(func=<function <lambda> at 0x7f63f120ff70>)),\n",
       "                                                                 ('preprocnum',\n",
       "                                                                  ColumnTransformer(transformers=[('num_transformer',\n",
       "                                                                                                   Pipeline(steps=[('scaler',\n",
       "                                                                                                                    StandardScaler())]),\n",
       "                                                                                                   <sklearn.compose._column_transformer.make_column_selector object at 0x7f63f147d880>)]))])),\n",
       "                                 ('scaler', StandardScaler())])),\n",
       "                ('linear_regression', ElasticNet())])</pre></div></div></div><div class=\"sk-serial\"><div class=\"sk-item\"><div class=\"sk-label-container\"><div class=\"sk-label sk-toggleable\"><input class=\"sk-toggleable__control sk-hidden--visually\" id=\"3bd9a067-3295-4e65-a013-a2631e11a4c0\" type=\"checkbox\" ><label class=\"sk-toggleable__label\" for=\"3bd9a067-3295-4e65-a013-a2631e11a4c0\">preprocessing: Pipeline</label><div class=\"sk-toggleable__content\"><pre>Pipeline(steps=[('preproc_inter',\n",
       "                 FeatureUnion(transformer_list=[('artistpoptrans',\n",
       "                                                 ArtistPopularityTransformer()),\n",
       "                                                ('year_calc',\n",
       "                                                 FunctionTransformer(func=<function <lambda> at 0x7f63f120ff70>)),\n",
       "                                                ('preprocnum',\n",
       "                                                 ColumnTransformer(transformers=[('num_transformer',\n",
       "                                                                                  Pipeline(steps=[('scaler',\n",
       "                                                                                                   StandardScaler())]),\n",
       "                                                                                  <sklearn.compose._column_transformer.make_column_selector object at 0x7f63f147d880>)]))])),\n",
       "                ('scaler', StandardScaler())])</pre></div></div></div><div class=\"sk-serial\"><div class=\"sk-item sk-dashed-wrapped\"><div class=\"sk-label-container\"><div class=\"sk-label sk-toggleable\"><input class=\"sk-toggleable__control sk-hidden--visually\" id=\"cc9a6dc2-4fa4-46f9-a031-9191176f4a91\" type=\"checkbox\" ><label class=\"sk-toggleable__label\" for=\"cc9a6dc2-4fa4-46f9-a031-9191176f4a91\">preproc_inter: FeatureUnion</label><div class=\"sk-toggleable__content\"><pre>FeatureUnion(transformer_list=[('artistpoptrans',\n",
       "                                ArtistPopularityTransformer()),\n",
       "                               ('year_calc',\n",
       "                                FunctionTransformer(func=<function <lambda> at 0x7f63f120ff70>)),\n",
       "                               ('preprocnum',\n",
       "                                ColumnTransformer(transformers=[('num_transformer',\n",
       "                                                                 Pipeline(steps=[('scaler',\n",
       "                                                                                  StandardScaler())]),\n",
       "                                                                 <sklearn.compose._column_transformer.make_column_selector object at 0x7f63f147d880>)]))])</pre></div></div></div><div class=\"sk-parallel\"><div class=\"sk-parallel-item\"><div class=\"sk-item\"><div class=\"sk-label-container\"><div class=\"sk-label sk-toggleable\"><label>artistpoptrans</label></div></div><div class=\"sk-serial\"><div class=\"sk-item\"><div class=\"sk-estimator sk-toggleable\"><input class=\"sk-toggleable__control sk-hidden--visually\" id=\"0eb4830e-3069-443d-9bfb-2f043fc3ccfd\" type=\"checkbox\" ><label class=\"sk-toggleable__label\" for=\"0eb4830e-3069-443d-9bfb-2f043fc3ccfd\">ArtistPopularityTransformer</label><div class=\"sk-toggleable__content\"><pre>ArtistPopularityTransformer()</pre></div></div></div></div></div></div><div class=\"sk-parallel-item\"><div class=\"sk-item\"><div class=\"sk-label-container\"><div class=\"sk-label sk-toggleable\"><label>year_calc</label></div></div><div class=\"sk-serial\"><div class=\"sk-item\"><div class=\"sk-estimator sk-toggleable\"><input class=\"sk-toggleable__control sk-hidden--visually\" id=\"aa63f052-72e7-43dc-87fb-de768e3df2a0\" type=\"checkbox\" ><label class=\"sk-toggleable__label\" for=\"aa63f052-72e7-43dc-87fb-de768e3df2a0\">FunctionTransformer</label><div class=\"sk-toggleable__content\"><pre>FunctionTransformer(func=<function <lambda> at 0x7f63f120ff70>)</pre></div></div></div></div></div></div><div class=\"sk-parallel-item\"><div class=\"sk-item\"><div class=\"sk-label-container\"><div class=\"sk-label sk-toggleable\"><label>preprocnum</label></div></div><div class=\"sk-serial\"><div class=\"sk-item sk-dashed-wrapped\"><div class=\"sk-parallel\"><div class=\"sk-parallel-item\"><div class=\"sk-item\"><div class=\"sk-label-container\"><div class=\"sk-label sk-toggleable\"><input class=\"sk-toggleable__control sk-hidden--visually\" id=\"981e76ff-fb7d-48c9-8c63-ea5ec79da6a0\" type=\"checkbox\" ><label class=\"sk-toggleable__label\" for=\"981e76ff-fb7d-48c9-8c63-ea5ec79da6a0\">num_transformer</label><div class=\"sk-toggleable__content\"><pre><sklearn.compose._column_transformer.make_column_selector object at 0x7f63f147d880></pre></div></div></div><div class=\"sk-serial\"><div class=\"sk-item\"><div class=\"sk-serial\"><div class=\"sk-item\"><div class=\"sk-estimator sk-toggleable\"><input class=\"sk-toggleable__control sk-hidden--visually\" id=\"2c3fb0bb-eca4-4bd1-a8fd-22f8604efb5c\" type=\"checkbox\" ><label class=\"sk-toggleable__label\" for=\"2c3fb0bb-eca4-4bd1-a8fd-22f8604efb5c\">StandardScaler</label><div class=\"sk-toggleable__content\"><pre>StandardScaler()</pre></div></div></div></div></div></div></div></div></div></div></div></div></div></div></div><div class=\"sk-item\"><div class=\"sk-estimator sk-toggleable\"><input class=\"sk-toggleable__control sk-hidden--visually\" id=\"45d2587c-14e8-4ead-a56c-a0d9aa309905\" type=\"checkbox\" ><label class=\"sk-toggleable__label\" for=\"45d2587c-14e8-4ead-a56c-a0d9aa309905\">StandardScaler</label><div class=\"sk-toggleable__content\"><pre>StandardScaler()</pre></div></div></div></div></div><div class=\"sk-item\"><div class=\"sk-estimator sk-toggleable\"><input class=\"sk-toggleable__control sk-hidden--visually\" id=\"6b5f92d2-6f28-4a5b-a5fc-145499d5f3fe\" type=\"checkbox\" ><label class=\"sk-toggleable__label\" for=\"6b5f92d2-6f28-4a5b-a5fc-145499d5f3fe\">ElasticNet</label><div class=\"sk-toggleable__content\"><pre>ElasticNet()</pre></div></div></div></div></div></div></div>"
      ],
      "text/plain": [
       "Pipeline(steps=[('preprocessing',\n",
       "                 Pipeline(steps=[('preproc_inter',\n",
       "                                  FeatureUnion(transformer_list=[('artistpoptrans',\n",
       "                                                                  ArtistPopularityTransformer()),\n",
       "                                                                 ('year_calc',\n",
       "                                                                  FunctionTransformer(func=<function <lambda> at 0x7f63f120ff70>)),\n",
       "                                                                 ('preprocnum',\n",
       "                                                                  ColumnTransformer(transformers=[('num_transformer',\n",
       "                                                                                                   Pipeline(steps=[('scaler',\n",
       "                                                                                                                    StandardScaler())]),\n",
       "                                                                                                   <sklearn.compose._column_transformer.make_column_selector object at 0x7f63f147d880>)]))])),\n",
       "                                 ('scaler', StandardScaler())])),\n",
       "                ('linear_regression', ElasticNet())])"
      ]
     },
     "execution_count": 166,
     "metadata": {},
     "output_type": "execute_result"
    }
   ],
   "source": [
    "# Print below your best pipe for correction purpose\n",
    "from sklearn import set_config; set_config(display='diagram')\n",
    "pipe_linear"
   ]
  },
  {
   "cell_type": "code",
   "execution_count": 167,
   "metadata": {},
   "outputs": [
    {
     "data": {
      "text/html": [
       "<style>div.sk-top-container {color: black;background-color: white;}div.sk-toggleable {background-color: white;}label.sk-toggleable__label {cursor: pointer;display: block;width: 100%;margin-bottom: 0;padding: 0.2em 0.3em;box-sizing: border-box;text-align: center;}div.sk-toggleable__content {max-height: 0;max-width: 0;overflow: hidden;text-align: left;background-color: #f0f8ff;}div.sk-toggleable__content pre {margin: 0.2em;color: black;border-radius: 0.25em;background-color: #f0f8ff;}input.sk-toggleable__control:checked~div.sk-toggleable__content {max-height: 200px;max-width: 100%;overflow: auto;}div.sk-estimator input.sk-toggleable__control:checked~label.sk-toggleable__label {background-color: #d4ebff;}div.sk-label input.sk-toggleable__control:checked~label.sk-toggleable__label {background-color: #d4ebff;}input.sk-hidden--visually {border: 0;clip: rect(1px 1px 1px 1px);clip: rect(1px, 1px, 1px, 1px);height: 1px;margin: -1px;overflow: hidden;padding: 0;position: absolute;width: 1px;}div.sk-estimator {font-family: monospace;background-color: #f0f8ff;margin: 0.25em 0.25em;border: 1px dotted black;border-radius: 0.25em;box-sizing: border-box;}div.sk-estimator:hover {background-color: #d4ebff;}div.sk-parallel-item::after {content: \"\";width: 100%;border-bottom: 1px solid gray;flex-grow: 1;}div.sk-label:hover label.sk-toggleable__label {background-color: #d4ebff;}div.sk-serial::before {content: \"\";position: absolute;border-left: 1px solid gray;box-sizing: border-box;top: 2em;bottom: 0;left: 50%;}div.sk-serial {display: flex;flex-direction: column;align-items: center;background-color: white;}div.sk-item {z-index: 1;}div.sk-parallel {display: flex;align-items: stretch;justify-content: center;background-color: white;}div.sk-parallel-item {display: flex;flex-direction: column;position: relative;background-color: white;}div.sk-parallel-item:first-child::after {align-self: flex-end;width: 50%;}div.sk-parallel-item:last-child::after {align-self: flex-start;width: 50%;}div.sk-parallel-item:only-child::after {width: 0;}div.sk-dashed-wrapped {border: 1px dashed gray;margin: 0.2em;box-sizing: border-box;padding-bottom: 0.1em;background-color: white;position: relative;}div.sk-label label {font-family: monospace;font-weight: bold;background-color: white;display: inline-block;line-height: 1.2em;}div.sk-label-container {position: relative;z-index: 2;text-align: center;}div.sk-container {display: inline-block;position: relative;}</style><div class=\"sk-top-container\"><div class=\"sk-container\"><div class=\"sk-item sk-dashed-wrapped\"><div class=\"sk-label-container\"><div class=\"sk-label sk-toggleable\"><input class=\"sk-toggleable__control sk-hidden--visually\" id=\"1c86516e-be16-4b67-8663-99dd667fe239\" type=\"checkbox\" ><label class=\"sk-toggleable__label\" for=\"1c86516e-be16-4b67-8663-99dd667fe239\">Pipeline</label><div class=\"sk-toggleable__content\"><pre>Pipeline(steps=[('preprocessing',\n",
       "                 Pipeline(steps=[('preproc_inter',\n",
       "                                  FeatureUnion(transformer_list=[('artistpoptrans',\n",
       "                                                                  ArtistPopularityTransformer()),\n",
       "                                                                 ('year_calc',\n",
       "                                                                  FunctionTransformer(func=<function <lambda> at 0x7f63f120ff70>)),\n",
       "                                                                 ('preprocnum',\n",
       "                                                                  ColumnTransformer(transformers=[('num_transformer',\n",
       "                                                                                                   Pipeline(steps=[('scaler',\n",
       "                                                                                                                    StandardScaler())]),\n",
       "                                                                                                   <sklearn.compose._column_transformer.make_column_selector object at 0x7f63f147d880>)]))])),\n",
       "                                 ('scaler', StandardScaler())])),\n",
       "                ('GradientBoost', GradientBoostingRegressor())])</pre></div></div></div><div class=\"sk-serial\"><div class=\"sk-item\"><div class=\"sk-label-container\"><div class=\"sk-label sk-toggleable\"><input class=\"sk-toggleable__control sk-hidden--visually\" id=\"e285d62d-9380-4200-94cb-8638a55c24a9\" type=\"checkbox\" ><label class=\"sk-toggleable__label\" for=\"e285d62d-9380-4200-94cb-8638a55c24a9\">preprocessing: Pipeline</label><div class=\"sk-toggleable__content\"><pre>Pipeline(steps=[('preproc_inter',\n",
       "                 FeatureUnion(transformer_list=[('artistpoptrans',\n",
       "                                                 ArtistPopularityTransformer()),\n",
       "                                                ('year_calc',\n",
       "                                                 FunctionTransformer(func=<function <lambda> at 0x7f63f120ff70>)),\n",
       "                                                ('preprocnum',\n",
       "                                                 ColumnTransformer(transformers=[('num_transformer',\n",
       "                                                                                  Pipeline(steps=[('scaler',\n",
       "                                                                                                   StandardScaler())]),\n",
       "                                                                                  <sklearn.compose._column_transformer.make_column_selector object at 0x7f63f147d880>)]))])),\n",
       "                ('scaler', StandardScaler())])</pre></div></div></div><div class=\"sk-serial\"><div class=\"sk-item sk-dashed-wrapped\"><div class=\"sk-label-container\"><div class=\"sk-label sk-toggleable\"><input class=\"sk-toggleable__control sk-hidden--visually\" id=\"95e51f17-82b9-4f73-a576-3690318d9102\" type=\"checkbox\" ><label class=\"sk-toggleable__label\" for=\"95e51f17-82b9-4f73-a576-3690318d9102\">preproc_inter: FeatureUnion</label><div class=\"sk-toggleable__content\"><pre>FeatureUnion(transformer_list=[('artistpoptrans',\n",
       "                                ArtistPopularityTransformer()),\n",
       "                               ('year_calc',\n",
       "                                FunctionTransformer(func=<function <lambda> at 0x7f63f120ff70>)),\n",
       "                               ('preprocnum',\n",
       "                                ColumnTransformer(transformers=[('num_transformer',\n",
       "                                                                 Pipeline(steps=[('scaler',\n",
       "                                                                                  StandardScaler())]),\n",
       "                                                                 <sklearn.compose._column_transformer.make_column_selector object at 0x7f63f147d880>)]))])</pre></div></div></div><div class=\"sk-parallel\"><div class=\"sk-parallel-item\"><div class=\"sk-item\"><div class=\"sk-label-container\"><div class=\"sk-label sk-toggleable\"><label>artistpoptrans</label></div></div><div class=\"sk-serial\"><div class=\"sk-item\"><div class=\"sk-estimator sk-toggleable\"><input class=\"sk-toggleable__control sk-hidden--visually\" id=\"37d1409f-a985-4f29-90d9-2d3799316230\" type=\"checkbox\" ><label class=\"sk-toggleable__label\" for=\"37d1409f-a985-4f29-90d9-2d3799316230\">ArtistPopularityTransformer</label><div class=\"sk-toggleable__content\"><pre>ArtistPopularityTransformer()</pre></div></div></div></div></div></div><div class=\"sk-parallel-item\"><div class=\"sk-item\"><div class=\"sk-label-container\"><div class=\"sk-label sk-toggleable\"><label>year_calc</label></div></div><div class=\"sk-serial\"><div class=\"sk-item\"><div class=\"sk-estimator sk-toggleable\"><input class=\"sk-toggleable__control sk-hidden--visually\" id=\"f763ec54-3ccc-4cf0-bd1d-1cdc4e7780ce\" type=\"checkbox\" ><label class=\"sk-toggleable__label\" for=\"f763ec54-3ccc-4cf0-bd1d-1cdc4e7780ce\">FunctionTransformer</label><div class=\"sk-toggleable__content\"><pre>FunctionTransformer(func=<function <lambda> at 0x7f63f120ff70>)</pre></div></div></div></div></div></div><div class=\"sk-parallel-item\"><div class=\"sk-item\"><div class=\"sk-label-container\"><div class=\"sk-label sk-toggleable\"><label>preprocnum</label></div></div><div class=\"sk-serial\"><div class=\"sk-item sk-dashed-wrapped\"><div class=\"sk-parallel\"><div class=\"sk-parallel-item\"><div class=\"sk-item\"><div class=\"sk-label-container\"><div class=\"sk-label sk-toggleable\"><input class=\"sk-toggleable__control sk-hidden--visually\" id=\"ceeed8b3-0363-4b97-8c5d-cac14b0619b3\" type=\"checkbox\" ><label class=\"sk-toggleable__label\" for=\"ceeed8b3-0363-4b97-8c5d-cac14b0619b3\">num_transformer</label><div class=\"sk-toggleable__content\"><pre><sklearn.compose._column_transformer.make_column_selector object at 0x7f63f147d880></pre></div></div></div><div class=\"sk-serial\"><div class=\"sk-item\"><div class=\"sk-serial\"><div class=\"sk-item\"><div class=\"sk-estimator sk-toggleable\"><input class=\"sk-toggleable__control sk-hidden--visually\" id=\"207aaff6-cb96-4d8e-b16b-6f69c02368f8\" type=\"checkbox\" ><label class=\"sk-toggleable__label\" for=\"207aaff6-cb96-4d8e-b16b-6f69c02368f8\">StandardScaler</label><div class=\"sk-toggleable__content\"><pre>StandardScaler()</pre></div></div></div></div></div></div></div></div></div></div></div></div></div></div></div><div class=\"sk-item\"><div class=\"sk-estimator sk-toggleable\"><input class=\"sk-toggleable__control sk-hidden--visually\" id=\"7ce3e290-0767-457d-9e93-015b1cca3bef\" type=\"checkbox\" ><label class=\"sk-toggleable__label\" for=\"7ce3e290-0767-457d-9e93-015b1cca3bef\">StandardScaler</label><div class=\"sk-toggleable__content\"><pre>StandardScaler()</pre></div></div></div></div></div><div class=\"sk-item\"><div class=\"sk-estimator sk-toggleable\"><input class=\"sk-toggleable__control sk-hidden--visually\" id=\"46c28110-09d6-49bf-9110-9f3f30881744\" type=\"checkbox\" ><label class=\"sk-toggleable__label\" for=\"46c28110-09d6-49bf-9110-9f3f30881744\">GradientBoostingRegressor</label><div class=\"sk-toggleable__content\"><pre>GradientBoostingRegressor()</pre></div></div></div></div></div></div></div>"
      ],
      "text/plain": [
       "Pipeline(steps=[('preprocessing',\n",
       "                 Pipeline(steps=[('preproc_inter',\n",
       "                                  FeatureUnion(transformer_list=[('artistpoptrans',\n",
       "                                                                  ArtistPopularityTransformer()),\n",
       "                                                                 ('year_calc',\n",
       "                                                                  FunctionTransformer(func=<function <lambda> at 0x7f63f120ff70>)),\n",
       "                                                                 ('preprocnum',\n",
       "                                                                  ColumnTransformer(transformers=[('num_transformer',\n",
       "                                                                                                   Pipeline(steps=[('scaler',\n",
       "                                                                                                                    StandardScaler())]),\n",
       "                                                                                                   <sklearn.compose._column_transformer.make_column_selector object at 0x7f63f147d880>)]))])),\n",
       "                                 ('scaler', StandardScaler())])),\n",
       "                ('GradientBoost', GradientBoostingRegressor())])"
      ]
     },
     "execution_count": 167,
     "metadata": {},
     "output_type": "execute_result"
    }
   ],
   "source": [
    "# Print below your best pipe for correction purpose\n",
    "pipe_ensemble"
   ]
  },
  {
   "cell_type": "code",
   "execution_count": 178,
   "metadata": {},
   "outputs": [],
   "source": [
    "from nbresult import ChallengeResult\n",
    "\n",
    "ChallengeResult(\"model_tuning\",\n",
    "    scoring = scoring,\n",
    "    score_linear=score_linear,\n",
    "    score_ensemble=score_ensemble).write()"
   ]
  },
  {
   "cell_type": "markdown",
   "metadata": {},
   "source": [
    "## API \n",
    "\n",
    "Time to put a pipeline in production!\n",
    "\n",
    "👉 Go to https://github.com/lewagon/data-certification-api and follow instructions\n",
    "\n",
    "**This final part is independent from the above notebook**"
   ]
  },
  {
   "cell_type": "code",
   "execution_count": null,
   "metadata": {},
   "outputs": [],
   "source": [
    "https://certif-33vjx73zaq-ew.a.run.app/predict?acousticness=0.654&danceability=0.499&duration_ms=219827&energy=0.19&explicit=0&id=0B6BeEUd6UwFlbsHMQKjob&instrumentalness=0.00409&key=7&liveness=0.0898&loudness=-16.435&mode=1&name=Back%20in%20the%20Goodle%20Days&release_date=1971&speechiness=0.0454&tempo=149.46&valence=0.43&artist=John%20Hartford"
   ]
  }
 ],
 "metadata": {
  "hide_input": false,
  "kernelspec": {
   "display_name": "Python 3",
   "language": "python",
   "name": "python3"
  },
  "language_info": {
   "codemirror_mode": {
    "name": "ipython",
    "version": 3
   },
   "file_extension": ".py",
   "mimetype": "text/x-python",
   "name": "python",
   "nbconvert_exporter": "python",
   "pygments_lexer": "ipython3",
   "version": "3.8.6"
  },
  "toc": {
   "base_numbering": 1,
   "nav_menu": {},
   "number_sections": true,
   "sideBar": true,
   "skip_h1_title": true,
   "title_cell": "Table of Contents",
   "title_sidebar": "Contents",
   "toc_cell": false,
   "toc_position": {
    "height": "calc(100% - 180px)",
    "left": "10px",
    "top": "150px",
    "width": "242px"
   },
   "toc_section_display": true,
   "toc_window_display": true
  },
  "varInspector": {
   "cols": {
    "lenName": 16,
    "lenType": 16,
    "lenVar": 40
   },
   "kernels_config": {
    "python": {
     "delete_cmd_postfix": "",
     "delete_cmd_prefix": "del ",
     "library": "var_list.py",
     "varRefreshCmd": "print(var_dic_list())"
    },
    "r": {
     "delete_cmd_postfix": ") ",
     "delete_cmd_prefix": "rm(",
     "library": "var_list.r",
     "varRefreshCmd": "cat(var_dic_list()) "
    }
   },
   "types_to_exclude": [
    "module",
    "function",
    "builtin_function_or_method",
    "instance",
    "_Feature"
   ],
   "window_display": false
  }
 },
 "nbformat": 4,
 "nbformat_minor": 4
}
